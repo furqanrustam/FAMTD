{
 "cells": [
  {
   "cell_type": "code",
   "execution_count": 55,
   "metadata": {
    "id": "bGp5HtLQUutS"
   },
   "outputs": [],
   "source": [
    "import matplotlib\n",
    "import numpy as np\n",
    "import pandas as pd\n",
    "import seaborn as sns\n",
    "import matplotlib.pyplot as plt\n",
    "%matplotlib inline\n",
    "import sys, cv2, glob, os, time\n",
    "import pandas as pd \n",
    "import io\n",
    "import numpy as np\n",
    "from keras.datasets import mnist\n",
    "from keras.layers import Input, Dense, Reshape, Flatten,Activation\n",
    "from keras.layers.advanced_activations import LeakyReLU\n",
    "from keras.models import Sequential, Model\n",
    "import numpy as np # linear algebra\n",
    "\n",
    "import pandas as pd # data processing, CSV file I/O (e.g. pd.read_csv)\n",
    "import matplotlib.pyplot as plt\n",
    "# Input data files are available in the \"../input/\" directory.\n",
    "# For example, running this (by clicking run or pressing Shift+Enter) will list the files in the input directory\n",
    "\n",
    "from sklearn.metrics import accuracy_score\n",
    "from sklearn.metrics import classification_report\n",
    "from sklearn.metrics import confusion_matrix\n",
    "\n",
    "import os\n",
    "import glob\n",
    "import cv2\n",
    "import tensorflow as tf\n",
    "from keras import layers\n",
    "from keras.layers import Dropout , Input, Add, Dense, Activation, ZeroPadding2D, BatchNormalization, Flatten, Conv2D, AveragePooling2D, MaxPooling2D, GlobalMaxPooling2D\n",
    "from keras.models import Model, load_model\n",
    "from keras.initializers import glorot_uniform\n",
    "from sklearn.model_selection import train_test_split\n",
    "import keras.backend as K\n",
    "from sklearn.utils import shuffle\n",
    "# importing all necessary libraries to run the code\n",
    "import re,string\n",
    "import numpy as np\n",
    "import pandas as pd\n",
    "import keras_metrics\n",
    "import tensorflow.keras\n",
    "import matplotlib.pyplot as plt\n",
    "from nltk.corpus import stopwords\n",
    "from keras.models import Sequential\n",
    "from sklearn.model_selection import train_test_split\n",
    "from keras.layers import Dense, Flatten, LSTM, Conv1D, MaxPooling1D, Dropout, Activation,Embedding\n",
    "# using the variable sw to hold all stopwords that are in English\n",
    "sw = stopwords.words('english')\n",
    "import matplotlib.pyplot as plt\n",
    "\n",
    "import numpy as np # linear algebra\n",
    "\n",
    "import pandas as pd # data processing, CSV file I/O (e.g. pd.read_csv)\n",
    "import matplotlib.pyplot as plt\n",
    "# Input data files are available in the \"../input/\" directory.\n",
    "# For example, running this (by clicking run or pressing Shift+Enter) will list the files in the input directory\n",
    "\n",
    "import os\n",
    "import glob\n",
    "import cv2\n",
    "import tensorflow as tf\n",
    "from keras import layers\n",
    "from keras.layers import Dropout , Input, Add, Dense, Activation, ZeroPadding2D, BatchNormalization, Flatten, Conv2D, AveragePooling2D, MaxPooling2D, GlobalMaxPooling2D\n",
    "from keras.models import Model, load_model\n",
    "from keras.initializers import glorot_uniform\n",
    "from sklearn.model_selection import train_test_split\n",
    "import keras.backend as K\n",
    "from sklearn.utils import shuffle\n",
    "# importing all necessary libraries to run the code\n",
    "import re,string\n",
    "import numpy as np\n",
    "import pandas as pd\n",
    "import keras_metrics\n",
    "import tensorflow.keras\n",
    "import matplotlib.pyplot as plt\n",
    "from nltk.corpus import stopwords\n",
    "from keras.models import Sequential\n",
    "from sklearn.model_selection import train_test_split\n",
    "from keras.layers import Dense, Flatten, LSTM, Conv1D, MaxPooling1D, Dropout, Activation,Embedding\n"
   ]
  },
  {
   "cell_type": "code",
   "execution_count": 28,
   "metadata": {
    "colab": {
     "base_uri": "https://localhost:8080/",
     "height": 209
    },
    "executionInfo": {
     "elapsed": 1031,
     "status": "error",
     "timestamp": 1613850176797,
     "user": {
      "displayName": "Furqan Rustam",
      "photoUrl": "https://lh3.googleusercontent.com/a-/AOh14Gg5oat7XG884rtNww-Dgt4sEfDMp6vxfwes8ntbog=s64",
      "userId": "11638408104830397330"
     },
     "user_tz": -300
    },
    "id": "I_eCH0gZUutc",
    "outputId": "c40209f1-512e-4a44-f1fe-683fc998a4f5"
   },
   "outputs": [],
   "source": [
    "dataUN=pd.read_csv('UNSW_NB15_testing-set.csv')\n",
    "dataUN1=pd.read_csv('UNSW_NB15_training-set.csv')\n",
    "\n",
    "dataI=pd.read_csv('IoT Network Intrusion Dataset.csv')"
   ]
  },
  {
   "cell_type": "code",
   "execution_count": 29,
   "metadata": {
    "id": "i2xozs5Foeeo"
   },
   "outputs": [
    {
     "data": {
      "text/html": [
       "<div>\n",
       "<style scoped>\n",
       "    .dataframe tbody tr th:only-of-type {\n",
       "        vertical-align: middle;\n",
       "    }\n",
       "\n",
       "    .dataframe tbody tr th {\n",
       "        vertical-align: top;\n",
       "    }\n",
       "\n",
       "    .dataframe thead th {\n",
       "        text-align: right;\n",
       "    }\n",
       "</style>\n",
       "<table border=\"1\" class=\"dataframe\">\n",
       "  <thead>\n",
       "    <tr style=\"text-align: right;\">\n",
       "      <th></th>\n",
       "      <th>id</th>\n",
       "      <th>dur</th>\n",
       "      <th>proto</th>\n",
       "      <th>service</th>\n",
       "      <th>state</th>\n",
       "      <th>spkts</th>\n",
       "      <th>dpkts</th>\n",
       "      <th>sbytes</th>\n",
       "      <th>dbytes</th>\n",
       "      <th>rate</th>\n",
       "      <th>...</th>\n",
       "      <th>ct_dst_sport_ltm</th>\n",
       "      <th>ct_dst_src_ltm</th>\n",
       "      <th>is_ftp_login</th>\n",
       "      <th>ct_ftp_cmd</th>\n",
       "      <th>ct_flw_http_mthd</th>\n",
       "      <th>ct_src_ltm</th>\n",
       "      <th>ct_srv_dst</th>\n",
       "      <th>is_sm_ips_ports</th>\n",
       "      <th>attack_cat</th>\n",
       "      <th>label</th>\n",
       "    </tr>\n",
       "  </thead>\n",
       "  <tbody>\n",
       "    <tr>\n",
       "      <th>0</th>\n",
       "      <td>1</td>\n",
       "      <td>0.000011</td>\n",
       "      <td>udp</td>\n",
       "      <td>-</td>\n",
       "      <td>INT</td>\n",
       "      <td>2</td>\n",
       "      <td>0</td>\n",
       "      <td>496</td>\n",
       "      <td>0</td>\n",
       "      <td>90909.0902</td>\n",
       "      <td>...</td>\n",
       "      <td>1</td>\n",
       "      <td>2</td>\n",
       "      <td>0</td>\n",
       "      <td>0</td>\n",
       "      <td>0</td>\n",
       "      <td>1</td>\n",
       "      <td>2</td>\n",
       "      <td>0</td>\n",
       "      <td>Normal</td>\n",
       "      <td>0</td>\n",
       "    </tr>\n",
       "    <tr>\n",
       "      <th>1</th>\n",
       "      <td>2</td>\n",
       "      <td>0.000008</td>\n",
       "      <td>udp</td>\n",
       "      <td>-</td>\n",
       "      <td>INT</td>\n",
       "      <td>2</td>\n",
       "      <td>0</td>\n",
       "      <td>1762</td>\n",
       "      <td>0</td>\n",
       "      <td>125000.0003</td>\n",
       "      <td>...</td>\n",
       "      <td>1</td>\n",
       "      <td>2</td>\n",
       "      <td>0</td>\n",
       "      <td>0</td>\n",
       "      <td>0</td>\n",
       "      <td>1</td>\n",
       "      <td>2</td>\n",
       "      <td>0</td>\n",
       "      <td>Normal</td>\n",
       "      <td>0</td>\n",
       "    </tr>\n",
       "  </tbody>\n",
       "</table>\n",
       "<p>2 rows × 45 columns</p>\n",
       "</div>"
      ],
      "text/plain": [
       "   id       dur proto service state  spkts  dpkts  sbytes  dbytes  \\\n",
       "0   1  0.000011   udp       -   INT      2      0     496       0   \n",
       "1   2  0.000008   udp       -   INT      2      0    1762       0   \n",
       "\n",
       "          rate  ...  ct_dst_sport_ltm  ct_dst_src_ltm  is_ftp_login  \\\n",
       "0   90909.0902  ...                 1               2             0   \n",
       "1  125000.0003  ...                 1               2             0   \n",
       "\n",
       "   ct_ftp_cmd  ct_flw_http_mthd  ct_src_ltm  ct_srv_dst  is_sm_ips_ports  \\\n",
       "0           0                 0           1           2                0   \n",
       "1           0                 0           1           2                0   \n",
       "\n",
       "   attack_cat  label  \n",
       "0      Normal      0  \n",
       "1      Normal      0  \n",
       "\n",
       "[2 rows x 45 columns]"
      ]
     },
     "execution_count": 29,
     "metadata": {},
     "output_type": "execute_result"
    }
   ],
   "source": [
    "dataUN1[:2]"
   ]
  },
  {
   "cell_type": "code",
   "execution_count": 30,
   "metadata": {
    "id": "sdFAPPHIhG2a"
   },
   "outputs": [
    {
     "data": {
      "text/html": [
       "<div>\n",
       "<style scoped>\n",
       "    .dataframe tbody tr th:only-of-type {\n",
       "        vertical-align: middle;\n",
       "    }\n",
       "\n",
       "    .dataframe tbody tr th {\n",
       "        vertical-align: top;\n",
       "    }\n",
       "\n",
       "    .dataframe thead th {\n",
       "        text-align: right;\n",
       "    }\n",
       "</style>\n",
       "<table border=\"1\" class=\"dataframe\">\n",
       "  <thead>\n",
       "    <tr style=\"text-align: right;\">\n",
       "      <th></th>\n",
       "      <th>Flow_ID</th>\n",
       "      <th>Src_IP</th>\n",
       "      <th>Src_Port</th>\n",
       "      <th>Dst_IP</th>\n",
       "      <th>Dst_Port</th>\n",
       "      <th>Protocol</th>\n",
       "      <th>Timestamp</th>\n",
       "      <th>Flow_Duration</th>\n",
       "      <th>Tot_Fwd_Pkts</th>\n",
       "      <th>Tot_Bwd_Pkts</th>\n",
       "      <th>...</th>\n",
       "      <th>Active_Std</th>\n",
       "      <th>Active_Max</th>\n",
       "      <th>Active_Min</th>\n",
       "      <th>Idle_Mean</th>\n",
       "      <th>Idle_Std</th>\n",
       "      <th>Idle_Max</th>\n",
       "      <th>Idle_Min</th>\n",
       "      <th>Label</th>\n",
       "      <th>Cat</th>\n",
       "      <th>Sub_Cat</th>\n",
       "    </tr>\n",
       "  </thead>\n",
       "  <tbody>\n",
       "    <tr>\n",
       "      <th>0</th>\n",
       "      <td>192.168.0.13-192.168.0.16-10000-10101-17</td>\n",
       "      <td>192.168.0.13</td>\n",
       "      <td>10000</td>\n",
       "      <td>192.168.0.16</td>\n",
       "      <td>10101</td>\n",
       "      <td>17</td>\n",
       "      <td>25/07/2019 03:25:53 AM</td>\n",
       "      <td>75</td>\n",
       "      <td>1</td>\n",
       "      <td>1</td>\n",
       "      <td>...</td>\n",
       "      <td>0.0</td>\n",
       "      <td>0.0</td>\n",
       "      <td>0.0</td>\n",
       "      <td>75.0</td>\n",
       "      <td>0.000000</td>\n",
       "      <td>75.0</td>\n",
       "      <td>75.0</td>\n",
       "      <td>Anomaly</td>\n",
       "      <td>Mirai</td>\n",
       "      <td>Mirai-Ackflooding</td>\n",
       "    </tr>\n",
       "    <tr>\n",
       "      <th>1</th>\n",
       "      <td>192.168.0.13-222.160.179.132-554-2179-6</td>\n",
       "      <td>222.160.179.132</td>\n",
       "      <td>2179</td>\n",
       "      <td>192.168.0.13</td>\n",
       "      <td>554</td>\n",
       "      <td>6</td>\n",
       "      <td>26/05/2019 10:11:06 PM</td>\n",
       "      <td>5310</td>\n",
       "      <td>1</td>\n",
       "      <td>2</td>\n",
       "      <td>...</td>\n",
       "      <td>0.0</td>\n",
       "      <td>0.0</td>\n",
       "      <td>0.0</td>\n",
       "      <td>2655.0</td>\n",
       "      <td>2261.327486</td>\n",
       "      <td>4254.0</td>\n",
       "      <td>1056.0</td>\n",
       "      <td>Anomaly</td>\n",
       "      <td>DoS</td>\n",
       "      <td>DoS-Synflooding</td>\n",
       "    </tr>\n",
       "  </tbody>\n",
       "</table>\n",
       "<p>2 rows × 86 columns</p>\n",
       "</div>"
      ],
      "text/plain": [
       "                                    Flow_ID           Src_IP  Src_Port  \\\n",
       "0  192.168.0.13-192.168.0.16-10000-10101-17     192.168.0.13     10000   \n",
       "1   192.168.0.13-222.160.179.132-554-2179-6  222.160.179.132      2179   \n",
       "\n",
       "         Dst_IP  Dst_Port  Protocol               Timestamp  Flow_Duration  \\\n",
       "0  192.168.0.16     10101        17  25/07/2019 03:25:53 AM             75   \n",
       "1  192.168.0.13       554         6  26/05/2019 10:11:06 PM           5310   \n",
       "\n",
       "   Tot_Fwd_Pkts  Tot_Bwd_Pkts  ...  Active_Std  Active_Max  Active_Min  \\\n",
       "0             1             1  ...         0.0         0.0         0.0   \n",
       "1             1             2  ...         0.0         0.0         0.0   \n",
       "\n",
       "   Idle_Mean     Idle_Std  Idle_Max  Idle_Min    Label    Cat  \\\n",
       "0       75.0     0.000000      75.0      75.0  Anomaly  Mirai   \n",
       "1     2655.0  2261.327486    4254.0    1056.0  Anomaly    DoS   \n",
       "\n",
       "             Sub_Cat  \n",
       "0  Mirai-Ackflooding  \n",
       "1    DoS-Synflooding  \n",
       "\n",
       "[2 rows x 86 columns]"
      ]
     },
     "execution_count": 30,
     "metadata": {},
     "output_type": "execute_result"
    }
   ],
   "source": [
    "dataI[:2]"
   ]
  },
  {
   "cell_type": "code",
   "execution_count": 31,
   "metadata": {},
   "outputs": [],
   "source": [
    "dataF=dataUN.append(dataUN1,ignore_index = True) "
   ]
  },
  {
   "cell_type": "code",
   "execution_count": 32,
   "metadata": {},
   "outputs": [
    {
     "data": {
      "text/html": [
       "<div>\n",
       "<style scoped>\n",
       "    .dataframe tbody tr th:only-of-type {\n",
       "        vertical-align: middle;\n",
       "    }\n",
       "\n",
       "    .dataframe tbody tr th {\n",
       "        vertical-align: top;\n",
       "    }\n",
       "\n",
       "    .dataframe thead th {\n",
       "        text-align: right;\n",
       "    }\n",
       "</style>\n",
       "<table border=\"1\" class=\"dataframe\">\n",
       "  <thead>\n",
       "    <tr style=\"text-align: right;\">\n",
       "      <th></th>\n",
       "      <th>id</th>\n",
       "      <th>dur</th>\n",
       "      <th>proto</th>\n",
       "      <th>service</th>\n",
       "      <th>state</th>\n",
       "      <th>spkts</th>\n",
       "      <th>dpkts</th>\n",
       "      <th>sbytes</th>\n",
       "      <th>dbytes</th>\n",
       "      <th>rate</th>\n",
       "      <th>...</th>\n",
       "      <th>ct_dst_sport_ltm</th>\n",
       "      <th>ct_dst_src_ltm</th>\n",
       "      <th>is_ftp_login</th>\n",
       "      <th>ct_ftp_cmd</th>\n",
       "      <th>ct_flw_http_mthd</th>\n",
       "      <th>ct_src_ltm</th>\n",
       "      <th>ct_srv_dst</th>\n",
       "      <th>is_sm_ips_ports</th>\n",
       "      <th>attack_cat</th>\n",
       "      <th>label</th>\n",
       "    </tr>\n",
       "  </thead>\n",
       "  <tbody>\n",
       "    <tr>\n",
       "      <th>0</th>\n",
       "      <td>1</td>\n",
       "      <td>0.121478</td>\n",
       "      <td>tcp</td>\n",
       "      <td>-</td>\n",
       "      <td>FIN</td>\n",
       "      <td>6</td>\n",
       "      <td>4</td>\n",
       "      <td>258</td>\n",
       "      <td>172</td>\n",
       "      <td>74.087490</td>\n",
       "      <td>...</td>\n",
       "      <td>1</td>\n",
       "      <td>1</td>\n",
       "      <td>0</td>\n",
       "      <td>0</td>\n",
       "      <td>0</td>\n",
       "      <td>1</td>\n",
       "      <td>1</td>\n",
       "      <td>0</td>\n",
       "      <td>Normal</td>\n",
       "      <td>0</td>\n",
       "    </tr>\n",
       "    <tr>\n",
       "      <th>1</th>\n",
       "      <td>2</td>\n",
       "      <td>0.649902</td>\n",
       "      <td>tcp</td>\n",
       "      <td>-</td>\n",
       "      <td>FIN</td>\n",
       "      <td>14</td>\n",
       "      <td>38</td>\n",
       "      <td>734</td>\n",
       "      <td>42014</td>\n",
       "      <td>78.473372</td>\n",
       "      <td>...</td>\n",
       "      <td>1</td>\n",
       "      <td>2</td>\n",
       "      <td>0</td>\n",
       "      <td>0</td>\n",
       "      <td>0</td>\n",
       "      <td>1</td>\n",
       "      <td>6</td>\n",
       "      <td>0</td>\n",
       "      <td>Normal</td>\n",
       "      <td>0</td>\n",
       "    </tr>\n",
       "  </tbody>\n",
       "</table>\n",
       "<p>2 rows × 45 columns</p>\n",
       "</div>"
      ],
      "text/plain": [
       "   id       dur proto service state  spkts  dpkts  sbytes  dbytes       rate  \\\n",
       "0   1  0.121478   tcp       -   FIN      6      4     258     172  74.087490   \n",
       "1   2  0.649902   tcp       -   FIN     14     38     734   42014  78.473372   \n",
       "\n",
       "   ...  ct_dst_sport_ltm  ct_dst_src_ltm  is_ftp_login  ct_ftp_cmd  \\\n",
       "0  ...                 1               1             0           0   \n",
       "1  ...                 1               2             0           0   \n",
       "\n",
       "   ct_flw_http_mthd  ct_src_ltm  ct_srv_dst  is_sm_ips_ports  attack_cat  \\\n",
       "0                 0           1           1                0      Normal   \n",
       "1                 0           1           6                0      Normal   \n",
       "\n",
       "   label  \n",
       "0      0  \n",
       "1      0  \n",
       "\n",
       "[2 rows x 45 columns]"
      ]
     },
     "execution_count": 32,
     "metadata": {},
     "output_type": "execute_result"
    }
   ],
   "source": [
    "dataF[:2]"
   ]
  },
  {
   "cell_type": "code",
   "execution_count": 33,
   "metadata": {
    "colab": {
     "base_uri": "https://localhost:8080/"
    },
    "executionInfo": {
     "elapsed": 1709,
     "status": "ok",
     "timestamp": 1613817618622,
     "user": {
      "displayName": "Furqan Rustam",
      "photoUrl": "https://lh3.googleusercontent.com/a-/AOh14Gg5oat7XG884rtNww-Dgt4sEfDMp6vxfwes8ntbog=s64",
      "userId": "11638408104830397330"
     },
     "user_tz": -300
    },
    "id": "fHghBFAjUA3p",
    "outputId": "af01a87d-e42d-48fc-c2db-88e18449c291"
   },
   "outputs": [
    {
     "data": {
      "text/plain": [
       "Counter({'Mirai-Ackflooding': 55124,\n",
       "         'DoS-Synflooding': 59391,\n",
       "         'Scan Port OS': 53073,\n",
       "         'Mirai-Hostbruteforceg': 121181,\n",
       "         'Mirai-UDP Flooding': 183554,\n",
       "         'Mirai-HTTP Flooding': 55818,\n",
       "         'Normal': 40073,\n",
       "         'Scan Hostport': 22192,\n",
       "         'MITM ARP Spoofing': 35377})"
      ]
     },
     "execution_count": 33,
     "metadata": {},
     "output_type": "execute_result"
    }
   ],
   "source": [
    "from collections import Counter\n",
    "Counter(dataI[\"Sub_Cat\"])"
   ]
  },
  {
   "cell_type": "code",
   "execution_count": 34,
   "metadata": {},
   "outputs": [
    {
     "data": {
      "text/plain": [
       "Counter({'Normal': 93000,\n",
       "         'Backdoor': 2329,\n",
       "         'Analysis': 2677,\n",
       "         'Fuzzers': 24246,\n",
       "         'Shellcode': 1511,\n",
       "         'Reconnaissance': 13987,\n",
       "         'Exploits': 44525,\n",
       "         'DoS': 16353,\n",
       "         'Worms': 174,\n",
       "         'Generic': 58871})"
      ]
     },
     "execution_count": 34,
     "metadata": {},
     "output_type": "execute_result"
    }
   ],
   "source": [
    "from collections import Counter\n",
    "Counter(dataF[\"attack_cat\"])"
   ]
  },
  {
   "cell_type": "code",
   "execution_count": 35,
   "metadata": {
    "colab": {
     "base_uri": "https://localhost:8080/",
     "height": 132
    },
    "executionInfo": {
     "elapsed": 1037,
     "status": "ok",
     "timestamp": 1613817622054,
     "user": {
      "displayName": "Furqan Rustam",
      "photoUrl": "https://lh3.googleusercontent.com/a-/AOh14Gg5oat7XG884rtNww-Dgt4sEfDMp6vxfwes8ntbog=s64",
      "userId": "11638408104830397330"
     },
     "user_tz": -300
    },
    "id": "6w8w6BTZq7uQ",
    "outputId": "12a116b3-d0c6-488f-af3c-d3b1d618a08e"
   },
   "outputs": [
    {
     "data": {
      "text/plain": [
       "Counter({'Anomaly': 585710, 'Normal': 40073})"
      ]
     },
     "execution_count": 35,
     "metadata": {},
     "output_type": "execute_result"
    }
   ],
   "source": [
    "from collections import Counter\n",
    "Counter(dataI[\"Label\"])"
   ]
  },
  {
   "cell_type": "code",
   "execution_count": 36,
   "metadata": {},
   "outputs": [
    {
     "name": "stdout",
     "output_type": "stream",
     "text": [
      "93000\n",
      "2329\n",
      "2677\n",
      "24246\n",
      "1511\n",
      "13987\n",
      "44525\n",
      "16353\n",
      "174\n",
      "58871\n",
      "55124\n",
      "59391\n",
      "53073\n",
      "121181\n",
      "183554\n",
      "55818\n",
      "22192\n",
      "35377\n",
      "40073\n"
     ]
    }
   ],
   "source": [
    "dataF1=dataF.loc[dataF['attack_cat'] == \"Normal\"]\n",
    "print(len(dataF1))\n",
    "dataF2=dataF.loc[dataF['attack_cat'] == \"Backdoor\"]\n",
    "print(len(dataF2))\n",
    "dataF3=dataF.loc[dataF['attack_cat'] == \"Analysis\"]\n",
    "print(len(dataF3))\n",
    "dataF4=dataF.loc[dataF['attack_cat'] == \"Fuzzers\"]\n",
    "print(len(dataF4))\n",
    "dataF5=dataF.loc[dataF['attack_cat'] == \"Shellcode\"]\n",
    "print(len(dataF5))\n",
    "dataF6=dataF.loc[dataF['attack_cat'] == \"Reconnaissance\"]\n",
    "print(len(dataF6))\n",
    "dataF7=dataF.loc[dataF['attack_cat'] == \"Exploits\"]\n",
    "print(len(dataF7))\n",
    "dataF8=dataF.loc[dataF['attack_cat'] == \"DoS\"]\n",
    "print(len(dataF8))\n",
    "dataF9=dataF.loc[dataF['attack_cat'] == \"Worms\"]\n",
    "print(len(dataF9))\n",
    "dataF10=dataF.loc[dataF['attack_cat'] == \"Generic\"]\n",
    "print(len(dataF10))\n",
    "\n",
    "\n",
    "\n",
    "dataI1=dataI.loc[dataI['Sub_Cat'] == 'Mirai-Ackflooding']\n",
    "print(len(dataI1))\n",
    "dataI2=dataI.loc[dataI['Sub_Cat'] == 'DoS-Synflooding']\n",
    "print(len(dataI2))\n",
    "dataI3=dataI.loc[dataI['Sub_Cat'] == 'Scan Port OS']\n",
    "print(len(dataI3))\n",
    "dataI4=dataI.loc[dataI['Sub_Cat'] == 'Mirai-Hostbruteforceg']\n",
    "print(len(dataI4))\n",
    "\n",
    "dataI5=dataI.loc[dataI['Sub_Cat'] == 'Mirai-UDP Flooding']\n",
    "print(len(dataI5))\n",
    "dataI6=dataI.loc[dataI['Sub_Cat'] == 'Mirai-HTTP Flooding']\n",
    "print(len(dataI6))\n",
    "\n",
    "dataI7=dataI.loc[dataI['Sub_Cat'] == 'Scan Hostport']\n",
    "print(len(dataI7))\n",
    "dataI8=dataI.loc[dataI['Sub_Cat'] == 'MITM ARP Spoofing']\n",
    "print(len(dataI8))\n",
    "\n",
    "dataI9=dataI.loc[dataI['Sub_Cat'] == 'Normal']\n",
    "print(len(dataI9))\n",
    "\n"
   ]
  },
  {
   "cell_type": "code",
   "execution_count": 37,
   "metadata": {},
   "outputs": [],
   "source": [
    "dataF1=dataF1[0:170]\n",
    "dataF2=dataF2[0:170]\n",
    "dataF3=dataF3[0:170]\n",
    "dataF4=dataF4[0:170]\n",
    "dataF5=dataF5[0:170]\n",
    "dataF6=dataF6[0:170]\n",
    "dataF7=dataF7[0:170]\n",
    "dataF8=dataF8[0:170]\n",
    "dataF9=dataF9[0:170]\n",
    "dataF10=dataF10[0:170]\n",
    "\n",
    "\n",
    "dataI1=dataI1[0:170]\n",
    "dataI2=dataI2[0:170]\n",
    "dataI3=dataI3[0:170]\n",
    "dataI4=dataI4[0:170]\n",
    "dataI5=dataI5[0:170]\n",
    "dataI6=dataI6[0:170]\n",
    "dataI7=dataI7[0:170]\n",
    "dataI8=dataI8[0:170]\n",
    "dataI9=dataI9[0:170]\n"
   ]
  },
  {
   "cell_type": "code",
   "execution_count": null,
   "metadata": {},
   "outputs": [],
   "source": []
  },
  {
   "cell_type": "code",
   "execution_count": 38,
   "metadata": {},
   "outputs": [],
   "source": [
    "dataF=dataF1.append(dataF2,ignore_index = True)\n",
    "dataF=dataF.append(dataF3,ignore_index = True) \n",
    "dataF=dataF.append(dataF4,ignore_index = True) \n",
    "dataF=dataF.append(dataF5,ignore_index = True) \n",
    "dataF=dataF.append(dataF6,ignore_index = True) \n",
    "dataF=dataF.append(dataF7,ignore_index = True) \n",
    "dataF=dataF.append(dataF8,ignore_index = True) \n",
    "dataF=dataF.append(dataF9,ignore_index = True) \n",
    "dataF=dataF.append(dataF10,ignore_index = True) \n",
    "\n",
    "dataI=dataI1.append(dataI2,ignore_index = True)\n",
    "dataI=dataI.append(dataI3,ignore_index = True)\n",
    "dataI=dataI.append(dataI4,ignore_index = True)\n",
    "dataI=dataI.append(dataI5,ignore_index = True)\n",
    "dataI=dataI.append(dataI6,ignore_index = True)\n",
    "dataI=dataI.append(dataI7,ignore_index = True)\n",
    "dataI=dataI.append(dataI8,ignore_index = True)\n",
    "dataI=dataI.append(dataI9,ignore_index = True)"
   ]
  },
  {
   "cell_type": "code",
   "execution_count": 39,
   "metadata": {},
   "outputs": [
    {
     "data": {
      "text/plain": [
       "Counter({'Anomaly': 1360, 'Normal': 170})"
      ]
     },
     "execution_count": 39,
     "metadata": {},
     "output_type": "execute_result"
    }
   ],
   "source": [
    "from collections import Counter\n",
    "Counter(dataI[\"Label\"])"
   ]
  },
  {
   "cell_type": "code",
   "execution_count": 40,
   "metadata": {},
   "outputs": [
    {
     "data": {
      "text/plain": [
       "Counter({0: 170, 1: 1530})"
      ]
     },
     "execution_count": 40,
     "metadata": {},
     "output_type": "execute_result"
    }
   ],
   "source": [
    "from collections import Counter\n",
    "Counter(dataF[\"label\"])"
   ]
  },
  {
   "cell_type": "code",
   "execution_count": 41,
   "metadata": {},
   "outputs": [],
   "source": [
    "dataF.rename(columns = {'label':'Label'}, inplace = True)\n",
    "dataF.rename(columns = {'attack_cat':'Sub_Cat'}, inplace = True)"
   ]
  },
  {
   "cell_type": "code",
   "execution_count": 42,
   "metadata": {},
   "outputs": [],
   "source": [
    "DataITarget=dataI[[\"Label\",\"Cat\",\"Sub_Cat\"]]\n",
    "\n",
    "dataIFeatures=dataI.drop([\"Label\",\"Cat\",\"Sub_Cat\"], axis=1)\n",
    "\n",
    "DataFTarget=dataF[[\"Sub_Cat\",\"Label\"]]\n",
    "\n",
    "dataFFeatures=dataF.drop([\"Sub_Cat\",\"Label\"], axis=1)"
   ]
  },
  {
   "cell_type": "code",
   "execution_count": 43,
   "metadata": {},
   "outputs": [
    {
     "name": "stderr",
     "output_type": "stream",
     "text": [
      "C:\\Users\\SOHAIL~1\\AppData\\Local\\Temp/ipykernel_10848/4285179342.py:1: SettingWithCopyWarning: \n",
      "A value is trying to be set on a copy of a slice from a DataFrame.\n",
      "Try using .loc[row_indexer,col_indexer] = value instead\n",
      "\n",
      "See the caveats in the documentation: https://pandas.pydata.org/pandas-docs/stable/user_guide/indexing.html#returning-a-view-versus-a-copy\n",
      "  DataITarget[\"Sub_Cat\"]=DataITarget[\"Sub_Cat\"].replace('Normal','Normal_I')\n"
     ]
    }
   ],
   "source": [
    "DataITarget[\"Sub_Cat\"]=DataITarget[\"Sub_Cat\"].replace('Normal','Normal_I')"
   ]
  },
  {
   "cell_type": "code",
   "execution_count": 44,
   "metadata": {},
   "outputs": [
    {
     "data": {
      "text/plain": [
       "Counter({'Mirai-Ackflooding': 170,\n",
       "         'DoS-Synflooding': 170,\n",
       "         'Scan Port OS': 170,\n",
       "         'Mirai-Hostbruteforceg': 170,\n",
       "         'Mirai-UDP Flooding': 170,\n",
       "         'Mirai-HTTP Flooding': 170,\n",
       "         'Scan Hostport': 170,\n",
       "         'MITM ARP Spoofing': 170,\n",
       "         'Normal_I': 170})"
      ]
     },
     "execution_count": 44,
     "metadata": {},
     "output_type": "execute_result"
    }
   ],
   "source": [
    "from collections import Counter\n",
    "Counter(DataITarget[\"Sub_Cat\"])"
   ]
  },
  {
   "cell_type": "raw",
   "metadata": {},
   "source": [
    "from sklearn.preprocessing import OrdinalEncoder\n",
    "from sklearn.preprocessing import OneHotEncoder\n",
    "oe = OrdinalEncoder() \n",
    "ohe = OneHotEncoder()\n",
    "oe = OrdinalEncoder()\n",
    "ohe.fit(dataFFeatures)\n",
    "X_train_enc = ohe.transform(dataFFeatures)\n",
    "#dataFFeatures=dataFFeatures.apply(OrdinalEncoder().fit_transform)"
   ]
  },
  {
   "cell_type": "code",
   "execution_count": 45,
   "metadata": {},
   "outputs": [],
   "source": [
    "from sklearn import preprocessing \n",
    "from sklearn.preprocessing import LabelEncoder\n",
    "le = preprocessing.LabelEncoder()\n",
    "\n",
    "dataIFeatures=dataIFeatures.apply(LabelEncoder().fit_transform)"
   ]
  },
  {
   "cell_type": "code",
   "execution_count": 46,
   "metadata": {},
   "outputs": [],
   "source": [
    "dataFFeatures=dataFFeatures.apply(LabelEncoder().fit_transform)"
   ]
  },
  {
   "cell_type": "code",
   "execution_count": 47,
   "metadata": {},
   "outputs": [
    {
     "data": {
      "text/plain": [
       "1530"
      ]
     },
     "execution_count": 47,
     "metadata": {},
     "output_type": "execute_result"
    }
   ],
   "source": [
    "len(dataIFeatures)"
   ]
  },
  {
   "cell_type": "code",
   "execution_count": null,
   "metadata": {},
   "outputs": [],
   "source": []
  },
  {
   "cell_type": "code",
   "execution_count": 48,
   "metadata": {},
   "outputs": [],
   "source": [
    "t_model = Sequential()\n",
    "t_model.add(Dense(256, input_shape=(83,)))\n",
    "t_model.add(Dense(1024))\n",
    "t_model.add(Dense(4096, activation=tf.nn.sigmoid))\n",
    "t_model.compile(optimizer='adam',loss='categorical_crossentropy')\n",
    "GF=t_model.predict(dataIFeatures)\n"
   ]
  },
  {
   "cell_type": "code",
   "execution_count": 49,
   "metadata": {},
   "outputs": [],
   "source": [
    "t_model = Sequential()\n",
    "t_model.add(Dense(256, input_shape=(43,)))\n",
    "t_model.add(Dense(1024))\n",
    "t_model.add(Dense(4096, activation=tf.nn.sigmoid))\n",
    "t_model.compile(optimizer='adam',loss='categorical_crossentropy')\n",
    "GF1=t_model.predict(dataFFeatures)\n"
   ]
  },
  {
   "cell_type": "code",
   "execution_count": 50,
   "metadata": {},
   "outputs": [],
   "source": [
    "dI=pd.DataFrame(GF)\n",
    "dF=pd.DataFrame(GF1)"
   ]
  },
  {
   "cell_type": "code",
   "execution_count": 51,
   "metadata": {},
   "outputs": [],
   "source": [
    "ComFeat=dF.append(dI,ignore_index = True) \n",
    "ComT=DataFTarget[\"Sub_Cat\"].append(DataITarget[\"Sub_Cat\"],ignore_index = True)"
   ]
  },
  {
   "cell_type": "code",
   "execution_count": 52,
   "metadata": {},
   "outputs": [
    {
     "data": {
      "text/plain": [
       "Counter({'Normal': 170,\n",
       "         'Backdoor': 170,\n",
       "         'Analysis': 170,\n",
       "         'Fuzzers': 170,\n",
       "         'Shellcode': 170,\n",
       "         'Reconnaissance': 170,\n",
       "         'Exploits': 170,\n",
       "         'DoS': 170,\n",
       "         'Worms': 170,\n",
       "         'Generic': 170,\n",
       "         'Mirai-Ackflooding': 170,\n",
       "         'DoS-Synflooding': 170,\n",
       "         'Scan Port OS': 170,\n",
       "         'Mirai-Hostbruteforceg': 170,\n",
       "         'Mirai-UDP Flooding': 170,\n",
       "         'Mirai-HTTP Flooding': 170,\n",
       "         'Scan Hostport': 170,\n",
       "         'MITM ARP Spoofing': 170,\n",
       "         'Normal_I': 170})"
      ]
     },
     "execution_count": 52,
     "metadata": {},
     "output_type": "execute_result"
    }
   ],
   "source": [
    "Counter(ComT)"
   ]
  },
  {
   "cell_type": "raw",
   "metadata": {},
   "source": [
    "\n",
    "# Replace column value\n",
    "ComT=ComT.replace(['Anomaly','Normal'],[3,4])\n",
    "print(ComT)\n"
   ]
  },
  {
   "cell_type": "code",
   "execution_count": 53,
   "metadata": {},
   "outputs": [],
   "source": [
    "feat=np.array(ComFeat)"
   ]
  },
  {
   "cell_type": "code",
   "execution_count": 54,
   "metadata": {},
   "outputs": [],
   "source": [
    "X_train, X_test, y_train, y_test = train_test_split(feat, ComT, test_size=0.15, random_state=1, stratify=ComT, shuffle=True)"
   ]
  },
  {
   "cell_type": "code",
   "execution_count": 57,
   "metadata": {},
   "outputs": [
    {
     "name": "stdout",
     "output_type": "stream",
     "text": [
      "Epoch 1/100\n",
      "WARNING:tensorflow:`add_update` `inputs` kwarg has been deprecated. You no longer need to pass a value to `inputs` as it is being automatically inferred.\n",
      "WARNING:tensorflow:`add_update` `inputs` kwarg has been deprecated. You no longer need to pass a value to `inputs` as it is being automatically inferred.\n"
     ]
    },
    {
     "name": "stderr",
     "output_type": "stream",
     "text": [
      "C:\\Users\\Sohail_Comp\\anaconda3\\lib\\site-packages\\keras_metrics\\metrics.py:26: UserWarning: `layer.updates` will be removed in a future version. This property should not be used in TensorFlow 2.0, as `updates` are applied automatically.\n",
      "  return object.__getattribute__(self, name)\n"
     ]
    },
    {
     "name": "stdout",
     "output_type": "stream",
     "text": [
      "WARNING:tensorflow:`add_update` `inputs` kwarg has been deprecated. You no longer need to pass a value to `inputs` as it is being automatically inferred.\n",
      "WARNING:tensorflow:`add_update` `inputs` kwarg has been deprecated. You no longer need to pass a value to `inputs` as it is being automatically inferred.\n",
      "WARNING:tensorflow:`add_update` `inputs` kwarg has been deprecated. You no longer need to pass a value to `inputs` as it is being automatically inferred.\n",
      "WARNING:tensorflow:`add_update` `inputs` kwarg has been deprecated. You no longer need to pass a value to `inputs` as it is being automatically inferred.\n",
      "WARNING:tensorflow:`add_update` `inputs` kwarg has been deprecated. You no longer need to pass a value to `inputs` as it is being automatically inferred.\n",
      "WARNING:tensorflow:`add_update` `inputs` kwarg has been deprecated. You no longer need to pass a value to `inputs` as it is being automatically inferred.\n",
      "WARNING:tensorflow:`add_update` `inputs` kwarg has been deprecated. You no longer need to pass a value to `inputs` as it is being automatically inferred.\n",
      "WARNING:tensorflow:`add_update` `inputs` kwarg has been deprecated. You no longer need to pass a value to `inputs` as it is being automatically inferred.\n",
      "WARNING:tensorflow:`add_update` `inputs` kwarg has been deprecated. You no longer need to pass a value to `inputs` as it is being automatically inferred.\n",
      "WARNING:tensorflow:`add_update` `inputs` kwarg has been deprecated. You no longer need to pass a value to `inputs` as it is being automatically inferred.\n",
      "WARNING:tensorflow:`add_update` `inputs` kwarg has been deprecated. You no longer need to pass a value to `inputs` as it is being automatically inferred.\n",
      "WARNING:tensorflow:`add_update` `inputs` kwarg has been deprecated. You no longer need to pass a value to `inputs` as it is being automatically inferred.\n",
      "WARNING:tensorflow:`add_update` `inputs` kwarg has been deprecated. You no longer need to pass a value to `inputs` as it is being automatically inferred.\n",
      "WARNING:tensorflow:`add_update` `inputs` kwarg has been deprecated. You no longer need to pass a value to `inputs` as it is being automatically inferred.\n",
      "WARNING:tensorflow:`add_update` `inputs` kwarg has been deprecated. You no longer need to pass a value to `inputs` as it is being automatically inferred.\n",
      "WARNING:tensorflow:`add_update` `inputs` kwarg has been deprecated. You no longer need to pass a value to `inputs` as it is being automatically inferred.\n",
      "WARNING:tensorflow:`add_update` `inputs` kwarg has been deprecated. You no longer need to pass a value to `inputs` as it is being automatically inferred.\n",
      "WARNING:tensorflow:`add_update` `inputs` kwarg has been deprecated. You no longer need to pass a value to `inputs` as it is being automatically inferred.\n",
      "WARNING:tensorflow:`add_update` `inputs` kwarg has been deprecated. You no longer need to pass a value to `inputs` as it is being automatically inferred.\n",
      "WARNING:tensorflow:`add_update` `inputs` kwarg has been deprecated. You no longer need to pass a value to `inputs` as it is being automatically inferred.\n",
      "WARNING:tensorflow:`add_update` `inputs` kwarg has been deprecated. You no longer need to pass a value to `inputs` as it is being automatically inferred.\n",
      "WARNING:tensorflow:`add_update` `inputs` kwarg has been deprecated. You no longer need to pass a value to `inputs` as it is being automatically inferred.\n",
      "22/22 - 2242s - loss: 2.9420 - accuracy: 0.0685 - mae: 0.0997 - mse: 0.0498 - precision: 0.0000e+00 - recall: 0.0000e+00 - f1_score: 0.0000e+00 - val_loss: 2.9374 - val_accuracy: 0.0722 - val_mae: 0.0997 - val_mse: 0.0498 - val_precision: 0.0000e+00 - val_recall: 0.0000e+00 - val_f1_score: 0.0000e+00 - 2242s/epoch - 102s/step\n",
      "Epoch 2/100\n",
      "22/22 - 2449s - loss: 2.8242 - accuracy: 0.1180 - mae: 0.0987 - mse: 0.0491 - precision: 0.0000e+00 - recall: 0.0000e+00 - f1_score: 0.0000e+00 - val_loss: 2.5920 - val_accuracy: 0.2351 - val_mae: 0.0963 - val_mse: 0.0476 - val_precision: 0.0000e+00 - val_recall: 0.0000e+00 - val_f1_score: 0.0000e+00 - 2449s/epoch - 111s/step\n",
      "Epoch 3/100\n",
      "22/22 - 2455s - loss: 2.3649 - accuracy: 0.2302 - mae: 0.0936 - mse: 0.0459 - precision: 0.0000e+00 - recall: 0.0000e+00 - f1_score: 0.0000e+00 - val_loss: 2.2434 - val_accuracy: 0.2186 - val_mae: 0.0915 - val_mse: 0.0452 - val_precision: 0.0000e+00 - val_recall: 0.0000e+00 - val_f1_score: 0.0000e+00 - 2455s/epoch - 112s/step\n",
      "Epoch 4/100\n",
      "22/22 - 2429s - loss: 2.0512 - accuracy: 0.2816 - mae: 0.0881 - mse: 0.0430 - precision: 0.0000e+00 - recall: 0.0000e+00 - f1_score: 0.0000e+00 - val_loss: 1.9709 - val_accuracy: 0.2639 - val_mae: 0.0865 - val_mse: 0.0425 - val_precision: 0.0000e+00 - val_recall: 0.0000e+00 - val_f1_score: 0.0000e+00 - 2429s/epoch - 110s/step\n",
      "Epoch 5/100\n",
      "22/22 - 2465s - loss: 1.8672 - accuracy: 0.3250 - mae: 0.0841 - mse: 0.0411 - precision: 0.0000e+00 - recall: 0.0000e+00 - f1_score: 0.0000e+00 - val_loss: 1.8359 - val_accuracy: 0.3546 - val_mae: 0.0834 - val_mse: 0.0404 - val_precision: 0.0000e+00 - val_recall: 0.0000e+00 - val_f1_score: 0.0000e+00 - 2465s/epoch - 112s/step\n",
      "Epoch 6/100\n",
      "22/22 - 2471s - loss: 1.7788 - accuracy: 0.3475 - mae: 0.0818 - mse: 0.0398 - precision: 0.0000e+00 - recall: 0.0000e+00 - f1_score: 0.0000e+00 - val_loss: 1.7475 - val_accuracy: 0.3340 - val_mae: 0.0808 - val_mse: 0.0391 - val_precision: 0.0000e+00 - val_recall: 0.0000e+00 - val_f1_score: 0.0000e+00 - 2471s/epoch - 112s/step\n",
      "Epoch 7/100\n",
      "22/22 - 2498s - loss: 1.6725 - accuracy: 0.3898 - mae: 0.0788 - mse: 0.0381 - precision: 0.0000e+00 - recall: 0.0000e+00 - f1_score: 0.0000e+00 - val_loss: 1.6921 - val_accuracy: 0.3959 - val_mae: 0.0784 - val_mse: 0.0381 - val_precision: 0.0000e+00 - val_recall: 0.0000e+00 - val_f1_score: 0.0000e+00 - 2498s/epoch - 114s/step\n",
      "Epoch 8/100\n",
      "22/22 - 2417s - loss: 1.6178 - accuracy: 0.4200 - mae: 0.0767 - mse: 0.0371 - precision: 0.0000e+00 - recall: 0.0000e+00 - f1_score: 0.0000e+00 - val_loss: 1.6087 - val_accuracy: 0.4062 - val_mae: 0.0763 - val_mse: 0.0367 - val_precision: 0.0000e+00 - val_recall: 0.0000e+00 - val_f1_score: 0.0000e+00 - 2417s/epoch - 110s/step\n",
      "Epoch 9/100\n",
      "22/22 - 2157s - loss: 1.5418 - accuracy: 0.4295 - mae: 0.0741 - mse: 0.0358 - precision: 0.0000e+00 - recall: 0.0000e+00 - f1_score: 0.0000e+00 - val_loss: 1.5395 - val_accuracy: 0.4371 - val_mae: 0.0735 - val_mse: 0.0353 - val_precision: 0.0000e+00 - val_recall: 0.0000e+00 - val_f1_score: 0.0000e+00 - 2157s/epoch - 98s/step\n",
      "Epoch 10/100\n",
      "22/22 - 2231s - loss: 1.4869 - accuracy: 0.4525 - mae: 0.0724 - mse: 0.0349 - precision: 0.0000e+00 - recall: 0.0000e+00 - f1_score: 0.0000e+00 - val_loss: 1.4819 - val_accuracy: 0.4887 - val_mae: 0.0716 - val_mse: 0.0344 - val_precision: 0.0000e+00 - val_recall: 0.0000e+00 - val_f1_score: 0.0000e+00 - 2231s/epoch - 101s/step\n",
      "Epoch 11/100\n",
      "22/22 - 2161s - loss: 1.4731 - accuracy: 0.4587 - mae: 0.0718 - mse: 0.0348 - precision: 0.0000e+00 - recall: 0.0000e+00 - f1_score: 0.0000e+00 - val_loss: 1.5170 - val_accuracy: 0.4928 - val_mae: 0.0724 - val_mse: 0.0352 - val_precision: 0.0000e+00 - val_recall: 0.0000e+00 - val_f1_score: 0.0000e+00 - 2161s/epoch - 98s/step\n",
      "Epoch 12/100\n",
      "22/22 - 2327s - loss: 1.4390 - accuracy: 0.4689 - mae: 0.0705 - mse: 0.0342 - precision: 0.5467 - recall: 0.0022 - f1_score: 0.0044 - val_loss: 1.4391 - val_accuracy: 0.4660 - val_mae: 0.0696 - val_mse: 0.0336 - val_precision: 0.4312 - val_recall: 0.0049 - val_f1_score: 0.0097 - 2327s/epoch - 106s/step\n",
      "Epoch 13/100\n",
      "22/22 - 2327s - loss: 1.4048 - accuracy: 0.4794 - mae: 0.0695 - mse: 0.0335 - precision: 0.4607 - recall: 0.0131 - f1_score: 0.0254 - val_loss: 1.4931 - val_accuracy: 0.4784 - val_mae: 0.0698 - val_mse: 0.0345 - val_precision: 0.4582 - val_recall: 0.0186 - val_f1_score: 0.0357 - 2327s/epoch - 106s/step\n",
      "Epoch 14/100\n",
      "22/22 - 2347s - loss: 1.3916 - accuracy: 0.4783 - mae: 0.0691 - mse: 0.0333 - precision: 0.4690 - recall: 0.0241 - f1_score: 0.0459 - val_loss: 1.4172 - val_accuracy: 0.4907 - val_mae: 0.0692 - val_mse: 0.0335 - val_precision: 0.4645 - val_recall: 0.0282 - val_f1_score: 0.0532 - 2347s/epoch - 107s/step\n",
      "Epoch 15/100\n",
      "22/22 - 2501s - loss: 1.3606 - accuracy: 0.4852 - mae: 0.0679 - mse: 0.0330 - precision: 0.4908 - recall: 0.0348 - f1_score: 0.0650 - val_loss: 1.4320 - val_accuracy: 0.4990 - val_mae: 0.0680 - val_mse: 0.0335 - val_precision: 0.4772 - val_recall: 0.0389 - val_f1_score: 0.0719 - 2501s/epoch - 114s/step\n"
     ]
    },
    {
     "name": "stdout",
     "output_type": "stream",
     "text": [
      "Epoch 16/100\n",
      "22/22 - 2706s - loss: 1.3611 - accuracy: 0.5002 - mae: 0.0675 - mse: 0.0327 - precision: 0.4753 - recall: 0.0395 - f1_score: 0.0729 - val_loss: 1.3586 - val_accuracy: 0.5113 - val_mae: 0.0671 - val_mse: 0.0325 - val_precision: 0.4634 - val_recall: 0.0390 - val_f1_score: 0.0720 - 2706s/epoch - 123s/step\n",
      "Epoch 17/100\n",
      "22/22 - 2896s - loss: 1.3001 - accuracy: 0.5056 - mae: 0.0660 - mse: 0.0319 - precision: 0.4610 - recall: 0.0420 - f1_score: 0.0769 - val_loss: 1.3556 - val_accuracy: 0.4990 - val_mae: 0.0660 - val_mse: 0.0324 - val_precision: 0.4544 - val_recall: 0.0458 - val_f1_score: 0.0832 - 2896s/epoch - 132s/step\n",
      "Epoch 18/100\n",
      "22/22 - 9715s - loss: 1.3365 - accuracy: 0.4980 - mae: 0.0663 - mse: 0.0325 - precision: 0.4633 - recall: 0.0509 - f1_score: 0.0918 - val_loss: 1.4395 - val_accuracy: 0.4722 - val_mae: 0.0669 - val_mse: 0.0333 - val_precision: 0.4726 - val_recall: 0.0537 - val_f1_score: 0.0964 - 9715s/epoch - 442s/step\n",
      "Epoch 19/100\n",
      "22/22 - 2758s - loss: 1.3297 - accuracy: 0.4914 - mae: 0.0665 - mse: 0.0325 - precision: 0.4804 - recall: 0.0574 - f1_score: 0.1025 - val_loss: 1.3494 - val_accuracy: 0.5031 - val_mae: 0.0659 - val_mse: 0.0326 - val_precision: 0.4803 - val_recall: 0.0623 - val_f1_score: 0.1103 - 2758s/epoch - 125s/step\n",
      "Epoch 20/100\n",
      "22/22 - 3270s - loss: 1.2913 - accuracy: 0.5137 - mae: 0.0650 - mse: 0.0318 - precision: 0.4834 - recall: 0.0671 - f1_score: 0.1178 - val_loss: 1.3521 - val_accuracy: 0.4907 - val_mae: 0.0659 - val_mse: 0.0328 - val_precision: 0.4835 - val_recall: 0.0713 - val_f1_score: 0.1243 - 3270s/epoch - 149s/step\n",
      "Epoch 21/100\n",
      "22/22 - 3388s - loss: 1.2692 - accuracy: 0.5148 - mae: 0.0642 - mse: 0.0314 - precision: 0.4828 - recall: 0.0752 - f1_score: 0.1301 - val_loss: 1.3112 - val_accuracy: 0.5216 - val_mae: 0.0640 - val_mse: 0.0317 - val_precision: 0.4830 - val_recall: 0.0777 - val_f1_score: 0.1339 - 3388s/epoch - 154s/step\n",
      "Epoch 22/100\n",
      "22/22 - 3426s - loss: 1.2257 - accuracy: 0.5311 - mae: 0.0628 - mse: 0.0306 - precision: 0.4855 - recall: 0.0826 - f1_score: 0.1411 - val_loss: 1.2759 - val_accuracy: 0.5175 - val_mae: 0.0632 - val_mse: 0.0313 - val_precision: 0.4876 - val_recall: 0.0865 - val_f1_score: 0.1469 - 3426s/epoch - 156s/step\n",
      "Epoch 23/100\n",
      "22/22 - 3228s - loss: 1.2282 - accuracy: 0.5293 - mae: 0.0632 - mse: 0.0308 - precision: 0.4889 - recall: 0.0895 - f1_score: 0.1513 - val_loss: 1.3672 - val_accuracy: 0.5052 - val_mae: 0.0654 - val_mse: 0.0328 - val_precision: 0.4874 - val_recall: 0.0914 - val_f1_score: 0.1540 - 3228s/epoch - 147s/step\n",
      "Epoch 24/100\n",
      "22/22 - 3293s - loss: 1.2450 - accuracy: 0.5239 - mae: 0.0634 - mse: 0.0309 - precision: 0.4897 - recall: 0.0952 - f1_score: 0.1594 - val_loss: 1.2882 - val_accuracy: 0.5258 - val_mae: 0.0634 - val_mse: 0.0311 - val_precision: 0.4906 - val_recall: 0.0989 - val_f1_score: 0.1646 - 3293s/epoch - 150s/step\n",
      "Epoch 25/100\n",
      "22/22 - 14758s - loss: 1.2436 - accuracy: 0.5282 - mae: 0.0629 - mse: 0.0308 - precision: 0.4895 - recall: 0.1004 - f1_score: 0.1666 - val_loss: 1.4253 - val_accuracy: 0.4722 - val_mae: 0.0661 - val_mse: 0.0338 - val_precision: 0.4891 - val_recall: 0.1004 - val_f1_score: 0.1666 - 14758s/epoch - 671s/step\n",
      "Epoch 26/100\n",
      "22/22 - 4745s - loss: 1.3443 - accuracy: 0.4805 - mae: 0.0657 - mse: 0.0328 - precision: 0.4879 - recall: 0.1004 - f1_score: 0.1665 - val_loss: 1.3156 - val_accuracy: 0.5258 - val_mae: 0.0639 - val_mse: 0.0318 - val_precision: 0.4816 - val_recall: 0.1013 - val_f1_score: 0.1673 - 4745s/epoch - 216s/step\n",
      "Epoch 27/100\n",
      "22/22 - 3881s - loss: 1.2775 - accuracy: 0.5166 - mae: 0.0639 - mse: 0.0316 - precision: 0.4828 - recall: 0.1024 - f1_score: 0.1690 - val_loss: 1.3273 - val_accuracy: 0.5155 - val_mae: 0.0640 - val_mse: 0.0319 - val_precision: 0.4805 - val_recall: 0.1032 - val_f1_score: 0.1699 - 3881s/epoch - 176s/step\n",
      "Epoch 28/100\n",
      "22/22 - 3393s - loss: 1.2178 - accuracy: 0.5304 - mae: 0.0624 - mse: 0.0305 - precision: 0.4826 - recall: 0.1058 - f1_score: 0.1735 - val_loss: 1.2333 - val_accuracy: 0.5361 - val_mae: 0.0618 - val_mse: 0.0304 - val_precision: 0.4832 - val_recall: 0.1073 - val_f1_score: 0.1756 - 3393s/epoch - 154s/step\n",
      "Epoch 29/100\n",
      "22/22 - 3394s - loss: 1.1760 - accuracy: 0.5541 - mae: 0.0611 - mse: 0.0298 - precision: 0.4845 - recall: 0.1098 - f1_score: 0.1791 - val_loss: 1.2269 - val_accuracy: 0.5485 - val_mae: 0.0614 - val_mse: 0.0305 - val_precision: 0.4850 - val_recall: 0.1125 - val_f1_score: 0.1826 - 3394s/epoch - 154s/step\n",
      "Epoch 30/100\n",
      "22/22 - 3387s - loss: 1.1649 - accuracy: 0.5574 - mae: 0.0608 - mse: 0.0295 - precision: 0.4874 - recall: 0.1160 - f1_score: 0.1874 - val_loss: 1.2191 - val_accuracy: 0.5546 - val_mae: 0.0613 - val_mse: 0.0303 - val_precision: 0.4865 - val_recall: 0.1176 - val_f1_score: 0.1894 - 3387s/epoch - 154s/step\n",
      "Epoch 31/100\n",
      "22/22 - 3421s - loss: 1.1452 - accuracy: 0.5559 - mae: 0.0601 - mse: 0.0292 - precision: 0.4870 - recall: 0.1193 - f1_score: 0.1917 - val_loss: 1.2187 - val_accuracy: 0.5423 - val_mae: 0.0607 - val_mse: 0.0303 - val_precision: 0.4868 - val_recall: 0.1206 - val_f1_score: 0.1933 - 3421s/epoch - 156s/step\n",
      "Epoch 32/100\n",
      "22/22 - 3416s - loss: 1.1462 - accuracy: 0.5570 - mae: 0.0600 - mse: 0.0293 - precision: 0.4873 - recall: 0.1223 - f1_score: 0.1956 - val_loss: 1.1712 - val_accuracy: 0.5753 - val_mae: 0.0595 - val_mse: 0.0295 - val_precision: 0.4866 - val_recall: 0.1244 - val_f1_score: 0.1981 - 3416s/epoch - 155s/step\n",
      "Epoch 33/100\n",
      "22/22 - 3384s - loss: 1.1295 - accuracy: 0.5679 - mae: 0.0594 - mse: 0.0289 - precision: 0.4879 - recall: 0.1263 - f1_score: 0.2007 - val_loss: 1.2306 - val_accuracy: 0.5361 - val_mae: 0.0606 - val_mse: 0.0304 - val_precision: 0.4880 - val_recall: 0.1283 - val_f1_score: 0.2032 - 3384s/epoch - 154s/step\n",
      "Epoch 34/100\n",
      "22/22 - 3321s - loss: 1.1336 - accuracy: 0.5668 - mae: 0.0594 - mse: 0.0289 - precision: 0.4897 - recall: 0.1302 - f1_score: 0.2057 - val_loss: 1.2282 - val_accuracy: 0.5340 - val_mae: 0.0606 - val_mse: 0.0304 - val_precision: 0.4892 - val_recall: 0.1316 - val_f1_score: 0.2074 - 3321s/epoch - 151s/step\n",
      "Epoch 35/100\n",
      "22/22 - 3338s - loss: 1.1479 - accuracy: 0.5541 - mae: 0.0596 - mse: 0.0292 - precision: 0.4906 - recall: 0.1339 - f1_score: 0.2103 - val_loss: 1.1937 - val_accuracy: 0.5505 - val_mae: 0.0596 - val_mse: 0.0296 - val_precision: 0.4906 - val_recall: 0.1354 - val_f1_score: 0.2123 - 3338s/epoch - 152s/step\n",
      "Epoch 36/100\n",
      "22/22 - 3349s - loss: 1.1291 - accuracy: 0.5625 - mae: 0.0593 - mse: 0.0289 - precision: 0.4923 - recall: 0.1374 - f1_score: 0.2149 - val_loss: 1.1858 - val_accuracy: 0.5505 - val_mae: 0.0593 - val_mse: 0.0295 - val_precision: 0.4926 - val_recall: 0.1390 - val_f1_score: 0.2168 - 3349s/epoch - 152s/step\n",
      "Epoch 37/100\n",
      "22/22 - 3437s - loss: 1.1102 - accuracy: 0.5687 - mae: 0.0582 - mse: 0.0285 - precision: 0.4927 - recall: 0.1396 - f1_score: 0.2176 - val_loss: 1.2660 - val_accuracy: 0.5320 - val_mae: 0.0604 - val_mse: 0.0310 - val_precision: 0.4926 - val_recall: 0.1410 - val_f1_score: 0.2192 - 3437s/epoch - 156s/step\n",
      "Epoch 38/100\n",
      "22/22 - 3304s - loss: 1.1512 - accuracy: 0.5556 - mae: 0.0596 - mse: 0.0295 - precision: 0.4942 - recall: 0.1427 - f1_score: 0.2215 - val_loss: 1.2056 - val_accuracy: 0.5526 - val_mae: 0.0594 - val_mse: 0.0298 - val_precision: 0.4940 - val_recall: 0.1439 - val_f1_score: 0.2229 - 3304s/epoch - 150s/step\n",
      "Epoch 39/100\n",
      "22/22 - 3276s - loss: 1.1288 - accuracy: 0.5621 - mae: 0.0588 - mse: 0.0289 - precision: 0.4952 - recall: 0.1455 - f1_score: 0.2249 - val_loss: 1.1980 - val_accuracy: 0.5814 - val_mae: 0.0590 - val_mse: 0.0291 - val_precision: 0.4944 - val_recall: 0.1460 - val_f1_score: 0.2254 - 3276s/epoch - 149s/step\n",
      "Epoch 40/100\n",
      "22/22 - 3291s - loss: 1.8465 - accuracy: 0.4452 - mae: 0.0682 - mse: 0.0366 - precision: 0.4959 - recall: 0.1467 - f1_score: 0.2264 - val_loss: 4.6578 - val_accuracy: 0.0804 - val_mae: 0.0950 - val_mse: 0.0607 - val_precision: 0.4968 - val_recall: 0.1463 - val_f1_score: 0.2260 - 3291s/epoch - 150s/step\n",
      "Epoch 41/100\n",
      "22/22 - 3277s - loss: 2.8313 - accuracy: 0.1967 - mae: 0.0895 - mse: 0.0493 - precision: 0.4961 - recall: 0.1444 - f1_score: 0.2236 - val_loss: 2.0555 - val_accuracy: 0.2969 - val_mae: 0.0876 - val_mse: 0.0431 - val_precision: 0.4958 - val_recall: 0.1427 - val_f1_score: 0.2216 - 3277s/epoch - 149s/step\n"
     ]
    },
    {
     "name": "stdout",
     "output_type": "stream",
     "text": [
      "Epoch 42/100\n",
      "22/22 - 3345s - loss: 1.8655 - accuracy: 0.3599 - mae: 0.0838 - mse: 0.0403 - precision: 0.4958 - recall: 0.1410 - f1_score: 0.2195 - val_loss: 1.7660 - val_accuracy: 0.3588 - val_mae: 0.0805 - val_mse: 0.0386 - val_precision: 0.4958 - val_recall: 0.1393 - val_f1_score: 0.2175 - 3345s/epoch - 152s/step\n",
      "Epoch 43/100\n",
      "22/22 - 3673s - loss: 1.6685 - accuracy: 0.4131 - mae: 0.0783 - mse: 0.0374 - precision: 0.4958 - recall: 0.1376 - f1_score: 0.2154 - val_loss: 1.6740 - val_accuracy: 0.3918 - val_mae: 0.0771 - val_mse: 0.0374 - val_precision: 0.4958 - val_recall: 0.1361 - val_f1_score: 0.2135 - 3673s/epoch - 167s/step\n",
      "Epoch 44/100\n",
      "22/22 - 3314s - loss: 1.5741 - accuracy: 0.4317 - mae: 0.0752 - mse: 0.0361 - precision: 0.4958 - recall: 0.1345 - f1_score: 0.2116 - val_loss: 1.5702 - val_accuracy: 0.4577 - val_mae: 0.0744 - val_mse: 0.0357 - val_precision: 0.4958 - val_recall: 0.1330 - val_f1_score: 0.2097 - 3314s/epoch - 151s/step\n",
      "Epoch 45/100\n",
      "22/22 - 3361s - loss: 1.5351 - accuracy: 0.4579 - mae: 0.0737 - mse: 0.0354 - precision: 0.4958 - recall: 0.1315 - f1_score: 0.2079 - val_loss: 1.6783 - val_accuracy: 0.3959 - val_mae: 0.0765 - val_mse: 0.0380 - val_precision: 0.4956 - val_recall: 0.1300 - val_f1_score: 0.2060 - 3361s/epoch - 153s/step\n",
      "Epoch 46/100\n",
      "22/22 - 3365s - loss: 1.6286 - accuracy: 0.4051 - mae: 0.0759 - mse: 0.0372 - precision: 0.4949 - recall: 0.1288 - f1_score: 0.2044 - val_loss: 1.6048 - val_accuracy: 0.4082 - val_mae: 0.0762 - val_mse: 0.0371 - val_precision: 0.4948 - val_recall: 0.1275 - val_f1_score: 0.2027 - 3365s/epoch - 153s/step\n",
      "Epoch 47/100\n",
      "22/22 - 3215s - loss: 1.5255 - accuracy: 0.4459 - mae: 0.0738 - mse: 0.0355 - precision: 0.4948 - recall: 0.1261 - f1_score: 0.2009 - val_loss: 1.5287 - val_accuracy: 0.4557 - val_mae: 0.0731 - val_mse: 0.0351 - val_precision: 0.4948 - val_recall: 0.1247 - val_f1_score: 0.1992 - 3215s/epoch - 146s/step\n",
      "Epoch 48/100\n",
      "22/22 - 6323s - loss: 1.4697 - accuracy: 0.4605 - mae: 0.0716 - mse: 0.0345 - precision: 0.4948 - recall: 0.1233 - f1_score: 0.1975 - val_loss: 1.4873 - val_accuracy: 0.4433 - val_mae: 0.0711 - val_mse: 0.0345 - val_precision: 0.4948 - val_recall: 0.1221 - val_f1_score: 0.1959 - 6323s/epoch - 287s/step\n",
      "Epoch 49/100\n",
      "22/22 - 3909s - loss: 1.4204 - accuracy: 0.4761 - mae: 0.0700 - mse: 0.0336 - precision: 0.4947 - recall: 0.1207 - f1_score: 0.1941 - val_loss: 1.4596 - val_accuracy: 0.4536 - val_mae: 0.0705 - val_mse: 0.0339 - val_precision: 0.4945 - val_recall: 0.1196 - val_f1_score: 0.1927 - 3909s/epoch - 178s/step\n",
      "Epoch 50/100\n"
     ]
    },
    {
     "ename": "KeyboardInterrupt",
     "evalue": "",
     "output_type": "error",
     "traceback": [
      "\u001b[1;31m---------------------------------------------------------------------------\u001b[0m",
      "\u001b[1;31mKeyboardInterrupt\u001b[0m                         Traceback (most recent call last)",
      "\u001b[1;32mC:\\Users\\SOHAIL~1\\AppData\\Local\\Temp/ipykernel_10848/4292765439.py\u001b[0m in \u001b[0;36m<module>\u001b[1;34m\u001b[0m\n\u001b[0;32m     23\u001b[0m \u001b[1;31m#Here we train the Network.\u001b[0m\u001b[1;33m\u001b[0m\u001b[1;33m\u001b[0m\u001b[0m\n\u001b[0;32m     24\u001b[0m \u001b[1;33m\u001b[0m\u001b[0m\n\u001b[1;32m---> 25\u001b[1;33m \u001b[0mpred\u001b[0m\u001b[1;33m=\u001b[0m\u001b[0mmodel_conv\u001b[0m\u001b[1;33m.\u001b[0m\u001b[0mfit\u001b[0m\u001b[1;33m(\u001b[0m\u001b[0mX_train\u001b[0m\u001b[1;33m,\u001b[0m \u001b[0mY_train\u001b[0m\u001b[1;33m,\u001b[0m \u001b[0mbatch_size\u001b[0m \u001b[1;33m=\u001b[0m\u001b[0mbatch_size\u001b[0m\u001b[1;33m,\u001b[0m \u001b[0mepochs\u001b[0m \u001b[1;33m=\u001b[0m\u001b[1;36m100\u001b[0m\u001b[1;33m,\u001b[0m \u001b[0mverbose\u001b[0m \u001b[1;33m=\u001b[0m\u001b[1;36m2\u001b[0m\u001b[1;33m,\u001b[0m\u001b[0mvalidation_data\u001b[0m\u001b[1;33m=\u001b[0m\u001b[1;33m(\u001b[0m\u001b[0mX_valid\u001b[0m\u001b[1;33m,\u001b[0m\u001b[0mY_valid\u001b[0m\u001b[1;33m)\u001b[0m\u001b[1;33m)\u001b[0m\u001b[1;33m\u001b[0m\u001b[1;33m\u001b[0m\u001b[0m\n\u001b[0m\u001b[0;32m     26\u001b[0m \u001b[0mpred\u001b[0m\u001b[1;33m\u001b[0m\u001b[1;33m\u001b[0m\u001b[0m\n\u001b[0;32m     27\u001b[0m \u001b[1;33m\u001b[0m\u001b[0m\n",
      "\u001b[1;32m~\\anaconda3\\lib\\site-packages\\keras\\utils\\traceback_utils.py\u001b[0m in \u001b[0;36merror_handler\u001b[1;34m(*args, **kwargs)\u001b[0m\n\u001b[0;32m     62\u001b[0m     \u001b[0mfiltered_tb\u001b[0m \u001b[1;33m=\u001b[0m \u001b[1;32mNone\u001b[0m\u001b[1;33m\u001b[0m\u001b[1;33m\u001b[0m\u001b[0m\n\u001b[0;32m     63\u001b[0m     \u001b[1;32mtry\u001b[0m\u001b[1;33m:\u001b[0m\u001b[1;33m\u001b[0m\u001b[1;33m\u001b[0m\u001b[0m\n\u001b[1;32m---> 64\u001b[1;33m       \u001b[1;32mreturn\u001b[0m \u001b[0mfn\u001b[0m\u001b[1;33m(\u001b[0m\u001b[1;33m*\u001b[0m\u001b[0margs\u001b[0m\u001b[1;33m,\u001b[0m \u001b[1;33m**\u001b[0m\u001b[0mkwargs\u001b[0m\u001b[1;33m)\u001b[0m\u001b[1;33m\u001b[0m\u001b[1;33m\u001b[0m\u001b[0m\n\u001b[0m\u001b[0;32m     65\u001b[0m     \u001b[1;32mexcept\u001b[0m \u001b[0mException\u001b[0m \u001b[1;32mas\u001b[0m \u001b[0me\u001b[0m\u001b[1;33m:\u001b[0m  \u001b[1;31m# pylint: disable=broad-except\u001b[0m\u001b[1;33m\u001b[0m\u001b[1;33m\u001b[0m\u001b[0m\n\u001b[0;32m     66\u001b[0m       \u001b[0mfiltered_tb\u001b[0m \u001b[1;33m=\u001b[0m \u001b[0m_process_traceback_frames\u001b[0m\u001b[1;33m(\u001b[0m\u001b[0me\u001b[0m\u001b[1;33m.\u001b[0m\u001b[0m__traceback__\u001b[0m\u001b[1;33m)\u001b[0m\u001b[1;33m\u001b[0m\u001b[1;33m\u001b[0m\u001b[0m\n",
      "\u001b[1;32m~\\anaconda3\\lib\\site-packages\\keras\\engine\\training.py\u001b[0m in \u001b[0;36mfit\u001b[1;34m(self, x, y, batch_size, epochs, verbose, callbacks, validation_split, validation_data, shuffle, class_weight, sample_weight, initial_epoch, steps_per_epoch, validation_steps, validation_batch_size, validation_freq, max_queue_size, workers, use_multiprocessing)\u001b[0m\n\u001b[0;32m   1382\u001b[0m                 _r=1):\n\u001b[0;32m   1383\u001b[0m               \u001b[0mcallbacks\u001b[0m\u001b[1;33m.\u001b[0m\u001b[0mon_train_batch_begin\u001b[0m\u001b[1;33m(\u001b[0m\u001b[0mstep\u001b[0m\u001b[1;33m)\u001b[0m\u001b[1;33m\u001b[0m\u001b[1;33m\u001b[0m\u001b[0m\n\u001b[1;32m-> 1384\u001b[1;33m               \u001b[0mtmp_logs\u001b[0m \u001b[1;33m=\u001b[0m \u001b[0mself\u001b[0m\u001b[1;33m.\u001b[0m\u001b[0mtrain_function\u001b[0m\u001b[1;33m(\u001b[0m\u001b[0miterator\u001b[0m\u001b[1;33m)\u001b[0m\u001b[1;33m\u001b[0m\u001b[1;33m\u001b[0m\u001b[0m\n\u001b[0m\u001b[0;32m   1385\u001b[0m               \u001b[1;32mif\u001b[0m \u001b[0mdata_handler\u001b[0m\u001b[1;33m.\u001b[0m\u001b[0mshould_sync\u001b[0m\u001b[1;33m:\u001b[0m\u001b[1;33m\u001b[0m\u001b[1;33m\u001b[0m\u001b[0m\n\u001b[0;32m   1386\u001b[0m                 \u001b[0mcontext\u001b[0m\u001b[1;33m.\u001b[0m\u001b[0masync_wait\u001b[0m\u001b[1;33m(\u001b[0m\u001b[1;33m)\u001b[0m\u001b[1;33m\u001b[0m\u001b[1;33m\u001b[0m\u001b[0m\n",
      "\u001b[1;32m~\\anaconda3\\lib\\site-packages\\tensorflow\\python\\util\\traceback_utils.py\u001b[0m in \u001b[0;36merror_handler\u001b[1;34m(*args, **kwargs)\u001b[0m\n\u001b[0;32m    148\u001b[0m     \u001b[0mfiltered_tb\u001b[0m \u001b[1;33m=\u001b[0m \u001b[1;32mNone\u001b[0m\u001b[1;33m\u001b[0m\u001b[1;33m\u001b[0m\u001b[0m\n\u001b[0;32m    149\u001b[0m     \u001b[1;32mtry\u001b[0m\u001b[1;33m:\u001b[0m\u001b[1;33m\u001b[0m\u001b[1;33m\u001b[0m\u001b[0m\n\u001b[1;32m--> 150\u001b[1;33m       \u001b[1;32mreturn\u001b[0m \u001b[0mfn\u001b[0m\u001b[1;33m(\u001b[0m\u001b[1;33m*\u001b[0m\u001b[0margs\u001b[0m\u001b[1;33m,\u001b[0m \u001b[1;33m**\u001b[0m\u001b[0mkwargs\u001b[0m\u001b[1;33m)\u001b[0m\u001b[1;33m\u001b[0m\u001b[1;33m\u001b[0m\u001b[0m\n\u001b[0m\u001b[0;32m    151\u001b[0m     \u001b[1;32mexcept\u001b[0m \u001b[0mException\u001b[0m \u001b[1;32mas\u001b[0m \u001b[0me\u001b[0m\u001b[1;33m:\u001b[0m\u001b[1;33m\u001b[0m\u001b[1;33m\u001b[0m\u001b[0m\n\u001b[0;32m    152\u001b[0m       \u001b[0mfiltered_tb\u001b[0m \u001b[1;33m=\u001b[0m \u001b[0m_process_traceback_frames\u001b[0m\u001b[1;33m(\u001b[0m\u001b[0me\u001b[0m\u001b[1;33m.\u001b[0m\u001b[0m__traceback__\u001b[0m\u001b[1;33m)\u001b[0m\u001b[1;33m\u001b[0m\u001b[1;33m\u001b[0m\u001b[0m\n",
      "\u001b[1;32m~\\anaconda3\\lib\\site-packages\\tensorflow\\python\\eager\\def_function.py\u001b[0m in \u001b[0;36m__call__\u001b[1;34m(self, *args, **kwds)\u001b[0m\n\u001b[0;32m    913\u001b[0m \u001b[1;33m\u001b[0m\u001b[0m\n\u001b[0;32m    914\u001b[0m       \u001b[1;32mwith\u001b[0m \u001b[0mOptionalXlaContext\u001b[0m\u001b[1;33m(\u001b[0m\u001b[0mself\u001b[0m\u001b[1;33m.\u001b[0m\u001b[0m_jit_compile\u001b[0m\u001b[1;33m)\u001b[0m\u001b[1;33m:\u001b[0m\u001b[1;33m\u001b[0m\u001b[1;33m\u001b[0m\u001b[0m\n\u001b[1;32m--> 915\u001b[1;33m         \u001b[0mresult\u001b[0m \u001b[1;33m=\u001b[0m \u001b[0mself\u001b[0m\u001b[1;33m.\u001b[0m\u001b[0m_call\u001b[0m\u001b[1;33m(\u001b[0m\u001b[1;33m*\u001b[0m\u001b[0margs\u001b[0m\u001b[1;33m,\u001b[0m \u001b[1;33m**\u001b[0m\u001b[0mkwds\u001b[0m\u001b[1;33m)\u001b[0m\u001b[1;33m\u001b[0m\u001b[1;33m\u001b[0m\u001b[0m\n\u001b[0m\u001b[0;32m    916\u001b[0m \u001b[1;33m\u001b[0m\u001b[0m\n\u001b[0;32m    917\u001b[0m       \u001b[0mnew_tracing_count\u001b[0m \u001b[1;33m=\u001b[0m \u001b[0mself\u001b[0m\u001b[1;33m.\u001b[0m\u001b[0mexperimental_get_tracing_count\u001b[0m\u001b[1;33m(\u001b[0m\u001b[1;33m)\u001b[0m\u001b[1;33m\u001b[0m\u001b[1;33m\u001b[0m\u001b[0m\n",
      "\u001b[1;32m~\\anaconda3\\lib\\site-packages\\tensorflow\\python\\eager\\def_function.py\u001b[0m in \u001b[0;36m_call\u001b[1;34m(self, *args, **kwds)\u001b[0m\n\u001b[0;32m    945\u001b[0m       \u001b[1;31m# In this case we have created variables on the first call, so we run the\u001b[0m\u001b[1;33m\u001b[0m\u001b[1;33m\u001b[0m\u001b[0m\n\u001b[0;32m    946\u001b[0m       \u001b[1;31m# defunned version which is guaranteed to never create variables.\u001b[0m\u001b[1;33m\u001b[0m\u001b[1;33m\u001b[0m\u001b[0m\n\u001b[1;32m--> 947\u001b[1;33m       \u001b[1;32mreturn\u001b[0m \u001b[0mself\u001b[0m\u001b[1;33m.\u001b[0m\u001b[0m_stateless_fn\u001b[0m\u001b[1;33m(\u001b[0m\u001b[1;33m*\u001b[0m\u001b[0margs\u001b[0m\u001b[1;33m,\u001b[0m \u001b[1;33m**\u001b[0m\u001b[0mkwds\u001b[0m\u001b[1;33m)\u001b[0m  \u001b[1;31m# pylint: disable=not-callable\u001b[0m\u001b[1;33m\u001b[0m\u001b[1;33m\u001b[0m\u001b[0m\n\u001b[0m\u001b[0;32m    948\u001b[0m     \u001b[1;32melif\u001b[0m \u001b[0mself\u001b[0m\u001b[1;33m.\u001b[0m\u001b[0m_stateful_fn\u001b[0m \u001b[1;32mis\u001b[0m \u001b[1;32mnot\u001b[0m \u001b[1;32mNone\u001b[0m\u001b[1;33m:\u001b[0m\u001b[1;33m\u001b[0m\u001b[1;33m\u001b[0m\u001b[0m\n\u001b[0;32m    949\u001b[0m       \u001b[1;31m# Release the lock early so that multiple threads can perform the call\u001b[0m\u001b[1;33m\u001b[0m\u001b[1;33m\u001b[0m\u001b[0m\n",
      "\u001b[1;32m~\\anaconda3\\lib\\site-packages\\tensorflow\\python\\eager\\function.py\u001b[0m in \u001b[0;36m__call__\u001b[1;34m(self, *args, **kwargs)\u001b[0m\n\u001b[0;32m   2954\u001b[0m       (graph_function,\n\u001b[0;32m   2955\u001b[0m        filtered_flat_args) = self._maybe_define_function(args, kwargs)\n\u001b[1;32m-> 2956\u001b[1;33m     return graph_function._call_flat(\n\u001b[0m\u001b[0;32m   2957\u001b[0m         filtered_flat_args, captured_inputs=graph_function.captured_inputs)  # pylint: disable=protected-access\n\u001b[0;32m   2958\u001b[0m \u001b[1;33m\u001b[0m\u001b[0m\n",
      "\u001b[1;32m~\\anaconda3\\lib\\site-packages\\tensorflow\\python\\eager\\function.py\u001b[0m in \u001b[0;36m_call_flat\u001b[1;34m(self, args, captured_inputs, cancellation_manager)\u001b[0m\n\u001b[0;32m   1851\u001b[0m         and executing_eagerly):\n\u001b[0;32m   1852\u001b[0m       \u001b[1;31m# No tape is watching; skip to running the function.\u001b[0m\u001b[1;33m\u001b[0m\u001b[1;33m\u001b[0m\u001b[0m\n\u001b[1;32m-> 1853\u001b[1;33m       return self._build_call_outputs(self._inference_function.call(\n\u001b[0m\u001b[0;32m   1854\u001b[0m           ctx, args, cancellation_manager=cancellation_manager))\n\u001b[0;32m   1855\u001b[0m     forward_backward = self._select_forward_and_backward_functions(\n",
      "\u001b[1;32m~\\anaconda3\\lib\\site-packages\\tensorflow\\python\\eager\\function.py\u001b[0m in \u001b[0;36mcall\u001b[1;34m(self, ctx, args, cancellation_manager)\u001b[0m\n\u001b[0;32m    497\u001b[0m       \u001b[1;32mwith\u001b[0m \u001b[0m_InterpolateFunctionError\u001b[0m\u001b[1;33m(\u001b[0m\u001b[0mself\u001b[0m\u001b[1;33m)\u001b[0m\u001b[1;33m:\u001b[0m\u001b[1;33m\u001b[0m\u001b[1;33m\u001b[0m\u001b[0m\n\u001b[0;32m    498\u001b[0m         \u001b[1;32mif\u001b[0m \u001b[0mcancellation_manager\u001b[0m \u001b[1;32mis\u001b[0m \u001b[1;32mNone\u001b[0m\u001b[1;33m:\u001b[0m\u001b[1;33m\u001b[0m\u001b[1;33m\u001b[0m\u001b[0m\n\u001b[1;32m--> 499\u001b[1;33m           outputs = execute.execute(\n\u001b[0m\u001b[0;32m    500\u001b[0m               \u001b[0mstr\u001b[0m\u001b[1;33m(\u001b[0m\u001b[0mself\u001b[0m\u001b[1;33m.\u001b[0m\u001b[0msignature\u001b[0m\u001b[1;33m.\u001b[0m\u001b[0mname\u001b[0m\u001b[1;33m)\u001b[0m\u001b[1;33m,\u001b[0m\u001b[1;33m\u001b[0m\u001b[1;33m\u001b[0m\u001b[0m\n\u001b[0;32m    501\u001b[0m               \u001b[0mnum_outputs\u001b[0m\u001b[1;33m=\u001b[0m\u001b[0mself\u001b[0m\u001b[1;33m.\u001b[0m\u001b[0m_num_outputs\u001b[0m\u001b[1;33m,\u001b[0m\u001b[1;33m\u001b[0m\u001b[1;33m\u001b[0m\u001b[0m\n",
      "\u001b[1;32m~\\anaconda3\\lib\\site-packages\\tensorflow\\python\\eager\\execute.py\u001b[0m in \u001b[0;36mquick_execute\u001b[1;34m(op_name, num_outputs, inputs, attrs, ctx, name)\u001b[0m\n\u001b[0;32m     52\u001b[0m   \u001b[1;32mtry\u001b[0m\u001b[1;33m:\u001b[0m\u001b[1;33m\u001b[0m\u001b[1;33m\u001b[0m\u001b[0m\n\u001b[0;32m     53\u001b[0m     \u001b[0mctx\u001b[0m\u001b[1;33m.\u001b[0m\u001b[0mensure_initialized\u001b[0m\u001b[1;33m(\u001b[0m\u001b[1;33m)\u001b[0m\u001b[1;33m\u001b[0m\u001b[1;33m\u001b[0m\u001b[0m\n\u001b[1;32m---> 54\u001b[1;33m     tensors = pywrap_tfe.TFE_Py_Execute(ctx._handle, device_name, op_name,\n\u001b[0m\u001b[0;32m     55\u001b[0m                                         inputs, attrs, num_outputs)\n\u001b[0;32m     56\u001b[0m   \u001b[1;32mexcept\u001b[0m \u001b[0mcore\u001b[0m\u001b[1;33m.\u001b[0m\u001b[0m_NotOkStatusException\u001b[0m \u001b[1;32mas\u001b[0m \u001b[0me\u001b[0m\u001b[1;33m:\u001b[0m\u001b[1;33m\u001b[0m\u001b[1;33m\u001b[0m\u001b[0m\n",
      "\u001b[1;31mKeyboardInterrupt\u001b[0m: "
     ]
    }
   ],
   "source": [
    "import time\n",
    "start_time = time.time()\n",
    "\n",
    "from keras import optimizers\n",
    "import tensorflow.keras\n",
    "tokenizer = tensorflow.keras.preprocessing.text.Tokenizer(num_words=5000,lower=False)\n",
    "#tokenizer.fit_on_texts(X_train_res.values)\n",
    "#print(tokenizer.word_index)  # To see the dicstionary\n",
    "#X = tokenizer.texts_to_sequences(X_train_res.values)\n",
    "#X = tensorflow.keras.preprocessing.sequence.pad_sequences(X_train_res)\n",
    "#Deep Learning Network Structure\n",
    "model_conv = Sequential()\n",
    "model_conv.add(Embedding(5000,100, input_length=feat.shape[1]))\n",
    "model_conv.add(Dropout(0.5))\n",
    "model_conv.add(LSTM(100))\n",
    "model_conv.add(Dense(19, activation='softmax'))\n",
    "model_conv.compile(loss='categorical_crossentropy', optimizer='adam',   metrics=['accuracy','mae','mse',keras_metrics.precision(), keras_metrics.recall(),keras_metrics.f1_score()])\n",
    "#Y = data.Reviewer_Score\n",
    "Y = pd.get_dummies(ComT).values\n",
    "\n",
    "X_train, X_valid, Y_train, Y_valid = train_test_split(feat,Y, test_size = 0.15, random_state =2)\n",
    "batch_size=128\n",
    "#Here we train the Network.\n",
    "\n",
    "pred=model_conv.fit(X_train, Y_train, batch_size =batch_size, epochs =100, verbose =2,validation_data=(X_valid,Y_valid))\n",
    "pred\n",
    "\n",
    "\n",
    "print(\"--- %s seconds ---\" % (time.time() - start_time))"
   ]
  },
  {
   "cell_type": "code",
   "execution_count": null,
   "metadata": {},
   "outputs": [
    {
     "name": "stdout",
     "output_type": "stream",
     "text": [
      "Epoch 1/100\n",
      "WARNING:tensorflow:`add_update` `inputs` kwarg has been deprecated. You no longer need to pass a value to `inputs` as it is being automatically inferred.\n",
      "WARNING:tensorflow:`add_update` `inputs` kwarg has been deprecated. You no longer need to pass a value to `inputs` as it is being automatically inferred.\n",
      "WARNING:tensorflow:`add_update` `inputs` kwarg has been deprecated. You no longer need to pass a value to `inputs` as it is being automatically inferred.\n",
      "WARNING:tensorflow:`add_update` `inputs` kwarg has been deprecated. You no longer need to pass a value to `inputs` as it is being automatically inferred.\n",
      "WARNING:tensorflow:`add_update` `inputs` kwarg has been deprecated. You no longer need to pass a value to `inputs` as it is being automatically inferred.\n",
      "WARNING:tensorflow:`add_update` `inputs` kwarg has been deprecated. You no longer need to pass a value to `inputs` as it is being automatically inferred.\n",
      "WARNING:tensorflow:`add_update` `inputs` kwarg has been deprecated. You no longer need to pass a value to `inputs` as it is being automatically inferred.\n",
      "WARNING:tensorflow:`add_update` `inputs` kwarg has been deprecated. You no longer need to pass a value to `inputs` as it is being automatically inferred.\n"
     ]
    },
    {
     "name": "stderr",
     "output_type": "stream",
     "text": [
      "C:\\Users\\Sohail_Comp\\anaconda3\\lib\\site-packages\\keras_metrics\\metrics.py:26: UserWarning: `layer.updates` will be removed in a future version. This property should not be used in TensorFlow 2.0, as `updates` are applied automatically.\n",
      "  return object.__getattribute__(self, name)\n"
     ]
    },
    {
     "name": "stdout",
     "output_type": "stream",
     "text": [
      "WARNING:tensorflow:`add_update` `inputs` kwarg has been deprecated. You no longer need to pass a value to `inputs` as it is being automatically inferred.\n",
      "WARNING:tensorflow:`add_update` `inputs` kwarg has been deprecated. You no longer need to pass a value to `inputs` as it is being automatically inferred.\n",
      "WARNING:tensorflow:`add_update` `inputs` kwarg has been deprecated. You no longer need to pass a value to `inputs` as it is being automatically inferred.\n",
      "WARNING:tensorflow:`add_update` `inputs` kwarg has been deprecated. You no longer need to pass a value to `inputs` as it is being automatically inferred.\n",
      "WARNING:tensorflow:`add_update` `inputs` kwarg has been deprecated. You no longer need to pass a value to `inputs` as it is being automatically inferred.\n",
      "WARNING:tensorflow:`add_update` `inputs` kwarg has been deprecated. You no longer need to pass a value to `inputs` as it is being automatically inferred.\n",
      "WARNING:tensorflow:`add_update` `inputs` kwarg has been deprecated. You no longer need to pass a value to `inputs` as it is being automatically inferred.\n",
      "WARNING:tensorflow:`add_update` `inputs` kwarg has been deprecated. You no longer need to pass a value to `inputs` as it is being automatically inferred.\n",
      "WARNING:tensorflow:`add_update` `inputs` kwarg has been deprecated. You no longer need to pass a value to `inputs` as it is being automatically inferred.\n",
      "WARNING:tensorflow:`add_update` `inputs` kwarg has been deprecated. You no longer need to pass a value to `inputs` as it is being automatically inferred.\n",
      "WARNING:tensorflow:`add_update` `inputs` kwarg has been deprecated. You no longer need to pass a value to `inputs` as it is being automatically inferred.\n",
      "WARNING:tensorflow:`add_update` `inputs` kwarg has been deprecated. You no longer need to pass a value to `inputs` as it is being automatically inferred.\n",
      "WARNING:tensorflow:`add_update` `inputs` kwarg has been deprecated. You no longer need to pass a value to `inputs` as it is being automatically inferred.\n",
      "WARNING:tensorflow:`add_update` `inputs` kwarg has been deprecated. You no longer need to pass a value to `inputs` as it is being automatically inferred.\n",
      "WARNING:tensorflow:`add_update` `inputs` kwarg has been deprecated. You no longer need to pass a value to `inputs` as it is being automatically inferred.\n",
      "WARNING:tensorflow:`add_update` `inputs` kwarg has been deprecated. You no longer need to pass a value to `inputs` as it is being automatically inferred.\n",
      "22/22 - 2190s - loss: 2.9345 - accuracy: 0.0761 - mae: 0.0996 - mse: 0.0498 - precision: 0.0000e+00 - recall: 0.0000e+00 - f1_score: 0.0000e+00 - val_loss: 2.9029 - val_accuracy: 0.0866 - val_mae: 0.0993 - val_mse: 0.0496 - val_precision: 0.0000e+00 - val_recall: 0.0000e+00 - val_f1_score: 0.0000e+00 - 2190s/epoch - 100s/step\n",
      "Epoch 2/100\n",
      "22/22 - 2041s - loss: 2.8285 - accuracy: 0.1209 - mae: 0.0988 - mse: 0.0492 - precision: 0.0000e+00 - recall: 0.0000e+00 - f1_score: 0.0000e+00 - val_loss: 2.6195 - val_accuracy: 0.1773 - val_mae: 0.0972 - val_mse: 0.0479 - val_precision: 0.0000e+00 - val_recall: 0.0000e+00 - val_f1_score: 0.0000e+00 - 2041s/epoch - 93s/step\n",
      "Epoch 3/100\n",
      "22/22 - 1466s - loss: 2.5756 - accuracy: 0.1650 - mae: 0.0965 - mse: 0.0476 - precision: 0.0000e+00 - recall: 0.0000e+00 - f1_score: 0.0000e+00 - val_loss: 2.3530 - val_accuracy: 0.1918 - val_mae: 0.0934 - val_mse: 0.0457 - val_precision: 0.0000e+00 - val_recall: 0.0000e+00 - val_f1_score: 0.0000e+00 - 1466s/epoch - 67s/step\n",
      "Epoch 4/100\n",
      "22/22 - 1025s - loss: 2.1527 - accuracy: 0.2266 - mae: 0.0898 - mse: 0.0443 - precision: 0.0000e+00 - recall: 0.0000e+00 - f1_score: 0.0000e+00 - val_loss: 2.0652 - val_accuracy: 0.2392 - val_mae: 0.0884 - val_mse: 0.0438 - val_precision: 0.0000e+00 - val_recall: 0.0000e+00 - val_f1_score: 0.0000e+00 - 1025s/epoch - 47s/step\n",
      "Epoch 5/100\n",
      "22/22 - 835s - loss: 1.9320 - accuracy: 0.3231 - mae: 0.0859 - mse: 0.0420 - precision: 0.0000e+00 - recall: 0.0000e+00 - f1_score: 0.0000e+00 - val_loss: 1.8699 - val_accuracy: 0.3691 - val_mae: 0.0835 - val_mse: 0.0411 - val_precision: 0.0000e+00 - val_recall: 0.0000e+00 - val_f1_score: 0.0000e+00 - 835s/epoch - 38s/step\n",
      "Epoch 6/100\n",
      "22/22 - 842s - loss: 1.7613 - accuracy: 0.3497 - mae: 0.0812 - mse: 0.0399 - precision: 0.0000e+00 - recall: 0.0000e+00 - f1_score: 0.0000e+00 - val_loss: 1.7041 - val_accuracy: 0.3423 - val_mae: 0.0785 - val_mse: 0.0394 - val_precision: 0.0000e+00 - val_recall: 0.0000e+00 - val_f1_score: 0.0000e+00 - 842s/epoch - 38s/step\n",
      "Epoch 7/100\n",
      "22/22 - 838s - loss: 1.6608 - accuracy: 0.3927 - mae: 0.0783 - mse: 0.0384 - precision: 0.0000e+00 - recall: 0.0000e+00 - f1_score: 0.0000e+00 - val_loss: 1.6371 - val_accuracy: 0.3711 - val_mae: 0.0754 - val_mse: 0.0383 - val_precision: 0.0000e+00 - val_recall: 0.0000e+00 - val_f1_score: 0.0000e+00 - 838s/epoch - 38s/step\n",
      "Epoch 8/100\n",
      "22/22 - 875s - loss: 1.5766 - accuracy: 0.4084 - mae: 0.0754 - mse: 0.0372 - precision: 0.0000e+00 - recall: 0.0000e+00 - f1_score: 0.0000e+00 - val_loss: 1.5590 - val_accuracy: 0.4289 - val_mae: 0.0743 - val_mse: 0.0368 - val_precision: 0.0000e+00 - val_recall: 0.0000e+00 - val_f1_score: 0.0000e+00 - 875s/epoch - 40s/step\n",
      "Epoch 9/100\n",
      "22/22 - 883s - loss: 1.5371 - accuracy: 0.4179 - mae: 0.0742 - mse: 0.0367 - precision: 0.0000e+00 - recall: 0.0000e+00 - f1_score: 0.0000e+00 - val_loss: 1.4519 - val_accuracy: 0.4289 - val_mae: 0.0722 - val_mse: 0.0356 - val_precision: 0.0000e+00 - val_recall: 0.0000e+00 - val_f1_score: 0.0000e+00 - 883s/epoch - 40s/step\n",
      "Epoch 10/100\n",
      "22/22 - 883s - loss: 1.4301 - accuracy: 0.4630 - mae: 0.0712 - mse: 0.0348 - precision: 0.0970 - recall: 1.8975e-04 - f1_score: 3.7864e-04 - val_loss: 1.4070 - val_accuracy: 0.4722 - val_mae: 0.0691 - val_mse: 0.0348 - val_precision: 0.2937 - val_recall: 0.0012 - val_f1_score: 0.0024 - 883s/epoch - 40s/step\n",
      "Epoch 11/100\n",
      "22/22 - 967s - loss: 1.3794 - accuracy: 0.4758 - mae: 0.0690 - mse: 0.0340 - precision: 0.2904 - recall: 0.0024 - f1_score: 0.0047 - val_loss: 1.3245 - val_accuracy: 0.4928 - val_mae: 0.0668 - val_mse: 0.0328 - val_precision: 0.3556 - val_recall: 0.0054 - val_f1_score: 0.0106 - 967s/epoch - 44s/step\n",
      "Epoch 12/100\n",
      "22/22 - 896s - loss: 1.3546 - accuracy: 0.4856 - mae: 0.0676 - mse: 0.0333 - precision: 0.4263 - recall: 0.0117 - f1_score: 0.0228 - val_loss: 1.2834 - val_accuracy: 0.5320 - val_mae: 0.0654 - val_mse: 0.0318 - val_precision: 0.4568 - val_recall: 0.0143 - val_f1_score: 0.0276 - 896s/epoch - 41s/step\n",
      "Epoch 13/100\n",
      "22/22 - 914s - loss: 1.2928 - accuracy: 0.4962 - mae: 0.0659 - mse: 0.0324 - precision: 0.4731 - recall: 0.0185 - f1_score: 0.0355 - val_loss: 1.2842 - val_accuracy: 0.5052 - val_mae: 0.0652 - val_mse: 0.0326 - val_precision: 0.4734 - val_recall: 0.0240 - val_f1_score: 0.0458 - 914s/epoch - 42s/step\n",
      "Epoch 14/100\n",
      "22/22 - 975s - loss: 1.2582 - accuracy: 0.5242 - mae: 0.0642 - mse: 0.0316 - precision: 0.4803 - recall: 0.0288 - f1_score: 0.0543 - val_loss: 1.2213 - val_accuracy: 0.5299 - val_mae: 0.0625 - val_mse: 0.0309 - val_precision: 0.4732 - val_recall: 0.0324 - val_f1_score: 0.0607 - 975s/epoch - 44s/step\n",
      "Epoch 15/100\n",
      "22/22 - 1042s - loss: 1.1947 - accuracy: 0.5362 - mae: 0.0621 - mse: 0.0305 - precision: 0.4825 - recall: 0.0365 - f1_score: 0.0678 - val_loss: 1.1327 - val_accuracy: 0.5608 - val_mae: 0.0590 - val_mse: 0.0286 - val_precision: 0.4905 - val_recall: 0.0428 - val_f1_score: 0.0788 - 1042s/epoch - 47s/step\n",
      "Epoch 16/100\n",
      "22/22 - 886s - loss: 1.1670 - accuracy: 0.5454 - mae: 0.0607 - mse: 0.0299 - precision: 0.5100 - recall: 0.0473 - f1_score: 0.0866 - val_loss: 1.1425 - val_accuracy: 0.5649 - val_mae: 0.0583 - val_mse: 0.0287 - val_precision: 0.5010 - val_recall: 0.0507 - val_f1_score: 0.0922 - 886s/epoch - 40s/step\n",
      "Epoch 17/100\n",
      "22/22 - 883s - loss: 1.1644 - accuracy: 0.5443 - mae: 0.0601 - mse: 0.0297 - precision: 0.5081 - recall: 0.0590 - f1_score: 0.1057 - val_loss: 1.0586 - val_accuracy: 0.5938 - val_mae: 0.0560 - val_mse: 0.0270 - val_precision: 0.5143 - val_recall: 0.0641 - val_f1_score: 0.1140 - 883s/epoch - 40s/step\n",
      "Epoch 18/100\n",
      "22/22 - 916s - loss: 1.1048 - accuracy: 0.5734 - mae: 0.0585 - mse: 0.0285 - precision: 0.5242 - recall: 0.0680 - f1_score: 0.1204 - val_loss: 1.0619 - val_accuracy: 0.5918 - val_mae: 0.0545 - val_mse: 0.0268 - val_precision: 0.5277 - val_recall: 0.0717 - val_f1_score: 0.1262 - 916s/epoch - 42s/step\n"
     ]
    },
    {
     "name": "stdout",
     "output_type": "stream",
     "text": [
      "Epoch 19/100\n",
      "22/22 - 948s - loss: 1.0895 - accuracy: 0.5745 - mae: 0.0574 - mse: 0.0285 - precision: 0.5305 - recall: 0.0744 - f1_score: 0.1305 - val_loss: 1.0312 - val_accuracy: 0.6103 - val_mae: 0.0540 - val_mse: 0.0262 - val_precision: 0.5313 - val_recall: 0.0763 - val_f1_score: 0.1334 - 948s/epoch - 43s/step\n",
      "Epoch 20/100\n",
      "22/22 - 953s - loss: 1.0577 - accuracy: 0.5876 - mae: 0.0566 - mse: 0.0278 - precision: 0.5358 - recall: 0.0791 - f1_score: 0.1378 - val_loss: 1.0216 - val_accuracy: 0.5794 - val_mae: 0.0537 - val_mse: 0.0264 - val_precision: 0.5305 - val_recall: 0.0813 - val_f1_score: 0.1410 - 953s/epoch - 43s/step\n",
      "Epoch 21/100\n",
      "22/22 - 938s - loss: 1.0440 - accuracy: 0.5829 - mae: 0.0559 - mse: 0.0276 - precision: 0.5339 - recall: 0.0838 - f1_score: 0.1449 - val_loss: 1.0282 - val_accuracy: 0.5918 - val_mae: 0.0530 - val_mse: 0.0263 - val_precision: 0.5364 - val_recall: 0.0858 - val_f1_score: 0.1480 - 938s/epoch - 43s/step\n",
      "Epoch 22/100\n",
      "22/22 - 948s - loss: 1.0235 - accuracy: 0.5927 - mae: 0.0549 - mse: 0.0271 - precision: 0.5425 - recall: 0.0897 - f1_score: 0.1539 - val_loss: 1.0178 - val_accuracy: 0.6144 - val_mae: 0.0532 - val_mse: 0.0261 - val_precision: 0.5437 - val_recall: 0.0921 - val_f1_score: 0.1575 - 948s/epoch - 43s/step\n",
      "Epoch 23/100\n",
      "22/22 - 1006s - loss: 1.0143 - accuracy: 0.6051 - mae: 0.0547 - mse: 0.0268 - precision: 0.5483 - recall: 0.0947 - f1_score: 0.1615 - val_loss: 0.9686 - val_accuracy: 0.6268 - val_mae: 0.0503 - val_mse: 0.0249 - val_precision: 0.5503 - val_recall: 0.0973 - val_f1_score: 0.1654 - 1006s/epoch - 46s/step\n",
      "Epoch 24/100\n",
      "22/22 - 843s - loss: 0.9523 - accuracy: 0.6168 - mae: 0.0521 - mse: 0.0256 - precision: 0.5479 - recall: 0.1008 - f1_score: 0.1703 - val_loss: 0.9707 - val_accuracy: 0.6247 - val_mae: 0.0485 - val_mse: 0.0251 - val_precision: 0.5445 - val_recall: 0.1026 - val_f1_score: 0.1726 - 843s/epoch - 38s/step\n",
      "Epoch 25/100\n",
      "22/22 - 950s - loss: 0.9736 - accuracy: 0.6120 - mae: 0.0522 - mse: 0.0260 - precision: 0.5474 - recall: 0.1052 - f1_score: 0.1765 - val_loss: 1.0006 - val_accuracy: 0.6186 - val_mae: 0.0511 - val_mse: 0.0263 - val_precision: 0.5498 - val_recall: 0.1070 - val_f1_score: 0.1791 - 950s/epoch - 43s/step\n",
      "Epoch 26/100\n",
      "22/22 - 1057s - loss: 0.9603 - accuracy: 0.6237 - mae: 0.0524 - mse: 0.0258 - precision: 0.5502 - recall: 0.1094 - f1_score: 0.1826 - val_loss: 0.9953 - val_accuracy: 0.5918 - val_mae: 0.0506 - val_mse: 0.0260 - val_precision: 0.5500 - val_recall: 0.1124 - val_f1_score: 0.1866 - 1057s/epoch - 48s/step\n",
      "Epoch 27/100\n",
      "22/22 - 1299s - loss: 0.9299 - accuracy: 0.6368 - mae: 0.0506 - mse: 0.0250 - precision: 0.5544 - recall: 0.1141 - f1_score: 0.1893 - val_loss: 0.9378 - val_accuracy: 0.6371 - val_mae: 0.0489 - val_mse: 0.0242 - val_precision: 0.5583 - val_recall: 0.1163 - val_f1_score: 0.1924 - 1299s/epoch - 59s/step\n",
      "Epoch 28/100\n",
      "22/22 - 1291s - loss: 0.8825 - accuracy: 0.6423 - mae: 0.0492 - mse: 0.0240 - precision: 0.5607 - recall: 0.1189 - f1_score: 0.1962 - val_loss: 0.9333 - val_accuracy: 0.6268 - val_mae: 0.0481 - val_mse: 0.0245 - val_precision: 0.5596 - val_recall: 0.1207 - val_f1_score: 0.1986 - 1291s/epoch - 59s/step\n",
      "Epoch 29/100\n",
      "22/22 - 1370s - loss: 0.8914 - accuracy: 0.6375 - mae: 0.0494 - mse: 0.0245 - precision: 0.5596 - recall: 0.1224 - f1_score: 0.2009 - val_loss: 0.9278 - val_accuracy: 0.6412 - val_mae: 0.0468 - val_mse: 0.0243 - val_precision: 0.5569 - val_recall: 0.1235 - val_f1_score: 0.2021 - 1370s/epoch - 62s/step\n",
      "Epoch 30/100\n",
      "22/22 - 1283s - loss: 0.8754 - accuracy: 0.6452 - mae: 0.0486 - mse: 0.0241 - precision: 0.5575 - recall: 0.1251 - f1_score: 0.2044 - val_loss: 0.9538 - val_accuracy: 0.6247 - val_mae: 0.0486 - val_mse: 0.0248 - val_precision: 0.5563 - val_recall: 0.1262 - val_f1_score: 0.2058 - 1283s/epoch - 58s/step\n",
      "Epoch 31/100\n",
      "22/22 - 1211s - loss: 0.8651 - accuracy: 0.6485 - mae: 0.0477 - mse: 0.0237 - precision: 0.5590 - recall: 0.1282 - f1_score: 0.2085 - val_loss: 0.8923 - val_accuracy: 0.6495 - val_mae: 0.0456 - val_mse: 0.0236 - val_precision: 0.5611 - val_recall: 0.1299 - val_f1_score: 0.2110 - 1211s/epoch - 55s/step\n",
      "Epoch 32/100\n",
      "22/22 - 1162s - loss: 0.8394 - accuracy: 0.6546 - mae: 0.0469 - mse: 0.0232 - precision: 0.5648 - recall: 0.1310 - f1_score: 0.2127 - val_loss: 0.8725 - val_accuracy: 0.6619 - val_mae: 0.0447 - val_mse: 0.0225 - val_precision: 0.5665 - val_recall: 0.1319 - val_f1_score: 0.2140 - 1162s/epoch - 53s/step\n",
      "Epoch 33/100\n",
      "22/22 - 1160s - loss: 0.8248 - accuracy: 0.6685 - mae: 0.0462 - mse: 0.0228 - precision: 0.5707 - recall: 0.1342 - f1_score: 0.2173 - val_loss: 0.8857 - val_accuracy: 0.6577 - val_mae: 0.0461 - val_mse: 0.0232 - val_precision: 0.5696 - val_recall: 0.1361 - val_f1_score: 0.2198 - 1160s/epoch - 53s/step\n",
      "Epoch 34/100\n",
      "22/22 - 1116s - loss: 0.7873 - accuracy: 0.6758 - mae: 0.0449 - mse: 0.0219 - precision: 0.5719 - recall: 0.1374 - f1_score: 0.2216 - val_loss: 0.9056 - val_accuracy: 0.6474 - val_mae: 0.0459 - val_mse: 0.0239 - val_precision: 0.5740 - val_recall: 0.1382 - val_f1_score: 0.2228 - 1116s/epoch - 51s/step\n",
      "Epoch 35/100\n",
      "22/22 - 1047s - loss: 0.8206 - accuracy: 0.6678 - mae: 0.0460 - mse: 0.0227 - precision: 0.5772 - recall: 0.1399 - f1_score: 0.2253 - val_loss: 0.8781 - val_accuracy: 0.6515 - val_mae: 0.0450 - val_mse: 0.0232 - val_precision: 0.5770 - val_recall: 0.1413 - val_f1_score: 0.2270 - 1047s/epoch - 48s/step\n",
      "Epoch 36/100\n",
      "22/22 - 1086s - loss: 0.7815 - accuracy: 0.6801 - mae: 0.0443 - mse: 0.0219 - precision: 0.5788 - recall: 0.1424 - f1_score: 0.2286 - val_loss: 0.8620 - val_accuracy: 0.6784 - val_mae: 0.0437 - val_mse: 0.0223 - val_precision: 0.5787 - val_recall: 0.1433 - val_f1_score: 0.2297 - 1086s/epoch - 49s/step\n",
      "Epoch 37/100\n",
      "22/22 - 953s - loss: 0.7902 - accuracy: 0.6867 - mae: 0.0444 - mse: 0.0220 - precision: 0.5803 - recall: 0.1456 - f1_score: 0.2328 - val_loss: 0.8691 - val_accuracy: 0.6639 - val_mae: 0.0433 - val_mse: 0.0227 - val_precision: 0.5803 - val_recall: 0.1462 - val_f1_score: 0.2336 - 953s/epoch - 43s/step\n",
      "Epoch 38/100\n",
      "22/22 - 1043s - loss: 0.7919 - accuracy: 0.6750 - mae: 0.0450 - mse: 0.0222 - precision: 0.5812 - recall: 0.1475 - f1_score: 0.2353 - val_loss: 0.9602 - val_accuracy: 0.6351 - val_mae: 0.0452 - val_mse: 0.0247 - val_precision: 0.5817 - val_recall: 0.1489 - val_f1_score: 0.2371 - 1043s/epoch - 47s/step\n",
      "Epoch 39/100\n",
      "22/22 - 1000s - loss: 0.7730 - accuracy: 0.6863 - mae: 0.0439 - mse: 0.0218 - precision: 0.5840 - recall: 0.1498 - f1_score: 0.2384 - val_loss: 0.8261 - val_accuracy: 0.6639 - val_mae: 0.0434 - val_mse: 0.0219 - val_precision: 0.5853 - val_recall: 0.1512 - val_f1_score: 0.2403 - 1000s/epoch - 45s/step\n",
      "Epoch 40/100\n",
      "22/22 - 1039s - loss: 0.7551 - accuracy: 0.6849 - mae: 0.0433 - mse: 0.0212 - precision: 0.5856 - recall: 0.1518 - f1_score: 0.2411 - val_loss: 0.8764 - val_accuracy: 0.6639 - val_mae: 0.0444 - val_mse: 0.0233 - val_precision: 0.5857 - val_recall: 0.1527 - val_f1_score: 0.2422 - 1039s/epoch - 47s/step\n",
      "Epoch 41/100\n",
      "22/22 - 980s - loss: 0.7209 - accuracy: 0.6944 - mae: 0.0422 - mse: 0.0204 - precision: 0.5891 - recall: 0.1544 - f1_score: 0.2447 - val_loss: 0.8346 - val_accuracy: 0.6866 - val_mae: 0.0417 - val_mse: 0.0213 - val_precision: 0.5906 - val_recall: 0.1556 - val_f1_score: 0.2464 - 980s/epoch - 45s/step\n",
      "Epoch 42/100\n",
      "22/22 - 1294s - loss: 0.7001 - accuracy: 0.7166 - mae: 0.0409 - mse: 0.0200 - precision: 0.5934 - recall: 0.1570 - f1_score: 0.2483 - val_loss: 0.8381 - val_accuracy: 0.6784 - val_mae: 0.0415 - val_mse: 0.0219 - val_precision: 0.5949 - val_recall: 0.1585 - val_f1_score: 0.2503 - 1294s/epoch - 59s/step\n",
      "Epoch 43/100\n",
      "22/22 - 986s - loss: 0.7193 - accuracy: 0.7046 - mae: 0.0410 - mse: 0.0204 - precision: 0.5977 - recall: 0.1606 - f1_score: 0.2532 - val_loss: 0.9033 - val_accuracy: 0.6742 - val_mae: 0.0430 - val_mse: 0.0227 - val_precision: 0.5986 - val_recall: 0.1614 - val_f1_score: 0.2543 - 986s/epoch - 45s/step\n",
      "Epoch 44/100\n",
      "22/22 - 1132s - loss: 0.7329 - accuracy: 0.7016 - mae: 0.0419 - mse: 0.0207 - precision: 0.5994 - recall: 0.1642 - f1_score: 0.2578 - val_loss: 0.9034 - val_accuracy: 0.6412 - val_mae: 0.0431 - val_mse: 0.0235 - val_precision: 0.6014 - val_recall: 0.1662 - val_f1_score: 0.2604 - 1132s/epoch - 51s/step\n"
     ]
    },
    {
     "name": "stdout",
     "output_type": "stream",
     "text": [
      "Epoch 45/100\n",
      "22/22 - 997s - loss: 0.6744 - accuracy: 0.7144 - mae: 0.0392 - mse: 0.0193 - precision: 0.6042 - recall: 0.1684 - f1_score: 0.2634 - val_loss: 0.8545 - val_accuracy: 0.6598 - val_mae: 0.0427 - val_mse: 0.0230 - val_precision: 0.6036 - val_recall: 0.1703 - val_f1_score: 0.2656 - 997s/epoch - 45s/step\n",
      "Epoch 46/100\n",
      "22/22 - 1040s - loss: 0.6740 - accuracy: 0.7213 - mae: 0.0397 - mse: 0.0193 - precision: 0.6024 - recall: 0.1721 - f1_score: 0.2677 - val_loss: 0.8523 - val_accuracy: 0.6804 - val_mae: 0.0419 - val_mse: 0.0222 - val_precision: 0.6044 - val_recall: 0.1737 - val_f1_score: 0.2699 - 1040s/epoch - 47s/step\n",
      "Epoch 47/100\n",
      "22/22 - 1108s - loss: 0.6677 - accuracy: 0.7129 - mae: 0.0389 - mse: 0.0192 - precision: 0.6065 - recall: 0.1756 - f1_score: 0.2723 - val_loss: 0.8479 - val_accuracy: 0.7052 - val_mae: 0.0394 - val_mse: 0.0213 - val_precision: 0.6073 - val_recall: 0.1763 - val_f1_score: 0.2733 - 1108s/epoch - 50s/step\n",
      "Epoch 48/100\n",
      "22/22 - 732s - loss: 0.6665 - accuracy: 0.7250 - mae: 0.0386 - mse: 0.0191 - precision: 0.6098 - recall: 0.1775 - f1_score: 0.2749 - val_loss: 0.8369 - val_accuracy: 0.6701 - val_mae: 0.0410 - val_mse: 0.0217 - val_precision: 0.6108 - val_recall: 0.1793 - val_f1_score: 0.2772 - 732s/epoch - 33s/step\n",
      "Epoch 49/100\n",
      "22/22 - 40896s - loss: 0.6480 - accuracy: 0.7384 - mae: 0.0380 - mse: 0.0186 - precision: 0.6117 - recall: 0.1814 - f1_score: 0.2798 - val_loss: 0.8704 - val_accuracy: 0.6763 - val_mae: 0.0423 - val_mse: 0.0222 - val_precision: 0.6116 - val_recall: 0.1825 - val_f1_score: 0.2811 - 40896s/epoch - 1859s/step\n",
      "Epoch 50/100\n",
      "22/22 - 1091s - loss: 0.6426 - accuracy: 0.7479 - mae: 0.0378 - mse: 0.0184 - precision: 0.6112 - recall: 0.1853 - f1_score: 0.2844 - val_loss: 0.8724 - val_accuracy: 0.6784 - val_mae: 0.0412 - val_mse: 0.0221 - val_precision: 0.6125 - val_recall: 0.1870 - val_f1_score: 0.2866 - 1091s/epoch - 50s/step\n",
      "Epoch 51/100\n",
      "22/22 - 1001s - loss: 0.6225 - accuracy: 0.7519 - mae: 0.0369 - mse: 0.0179 - precision: 0.6145 - recall: 0.1883 - f1_score: 0.2882 - val_loss: 0.8708 - val_accuracy: 0.6557 - val_mae: 0.0409 - val_mse: 0.0226 - val_precision: 0.6163 - val_recall: 0.1896 - val_f1_score: 0.2900 - 1001s/epoch - 46s/step\n",
      "Epoch 52/100\n",
      "22/22 - 958s - loss: 0.6256 - accuracy: 0.7454 - mae: 0.0368 - mse: 0.0182 - precision: 0.6187 - recall: 0.1909 - f1_score: 0.2918 - val_loss: 0.8613 - val_accuracy: 0.6619 - val_mae: 0.0412 - val_mse: 0.0229 - val_precision: 0.6187 - val_recall: 0.1915 - val_f1_score: 0.2925 - 958s/epoch - 44s/step\n",
      "Epoch 53/100\n",
      "22/22 - 1018s - loss: 0.6116 - accuracy: 0.7472 - mae: 0.0366 - mse: 0.0178 - precision: 0.6206 - recall: 0.1936 - f1_score: 0.2951 - val_loss: 0.8639 - val_accuracy: 0.6660 - val_mae: 0.0415 - val_mse: 0.0227 - val_precision: 0.6215 - val_recall: 0.1949 - val_f1_score: 0.2967 - 1018s/epoch - 46s/step\n",
      "Epoch 54/100\n",
      "22/22 - 1110s - loss: 0.6367 - accuracy: 0.7439 - mae: 0.0373 - mse: 0.0182 - precision: 0.6237 - recall: 0.1967 - f1_score: 0.2991 - val_loss: 0.8319 - val_accuracy: 0.6887 - val_mae: 0.0397 - val_mse: 0.0213 - val_precision: 0.6246 - val_recall: 0.1985 - val_f1_score: 0.3013 - 1110s/epoch - 50s/step\n",
      "Epoch 55/100\n",
      "22/22 - 1242s - loss: 0.5919 - accuracy: 0.7559 - mae: 0.0357 - mse: 0.0173 - precision: 0.6266 - recall: 0.1994 - f1_score: 0.3025 - val_loss: 0.9132 - val_accuracy: 0.6598 - val_mae: 0.0408 - val_mse: 0.0234 - val_precision: 0.6284 - val_recall: 0.2008 - val_f1_score: 0.3044 - 1242s/epoch - 56s/step\n",
      "Epoch 56/100\n",
      "22/22 - 1315s - loss: 0.5925 - accuracy: 0.7530 - mae: 0.0351 - mse: 0.0174 - precision: 0.6295 - recall: 0.2022 - f1_score: 0.3061 - val_loss: 0.8806 - val_accuracy: 0.6845 - val_mae: 0.0396 - val_mse: 0.0223 - val_precision: 0.6295 - val_recall: 0.2036 - val_f1_score: 0.3077 - 1315s/epoch - 60s/step\n",
      "Epoch 57/100\n",
      "22/22 - 1207s - loss: 0.5796 - accuracy: 0.7610 - mae: 0.0346 - mse: 0.0168 - precision: 0.6318 - recall: 0.2051 - f1_score: 0.3097 - val_loss: 0.9224 - val_accuracy: 0.6598 - val_mae: 0.0404 - val_mse: 0.0232 - val_precision: 0.6314 - val_recall: 0.2058 - val_f1_score: 0.3104 - 1207s/epoch - 55s/step\n",
      "Epoch 58/100\n",
      "22/22 - 1177s - loss: 0.5684 - accuracy: 0.7661 - mae: 0.0342 - mse: 0.0165 - precision: 0.6340 - recall: 0.2077 - f1_score: 0.3129 - val_loss: 0.8600 - val_accuracy: 0.6763 - val_mae: 0.0392 - val_mse: 0.0218 - val_precision: 0.6340 - val_recall: 0.2093 - val_f1_score: 0.3147 - 1177s/epoch - 53s/step\n",
      "Epoch 59/100\n",
      "22/22 - 985s - loss: 0.5536 - accuracy: 0.7661 - mae: 0.0337 - mse: 0.0164 - precision: 0.6329 - recall: 0.2114 - f1_score: 0.3170 - val_loss: 0.8504 - val_accuracy: 0.6990 - val_mae: 0.0385 - val_mse: 0.0215 - val_precision: 0.6335 - val_recall: 0.2126 - val_f1_score: 0.3183 - 985s/epoch - 45s/step\n",
      "Epoch 60/100\n",
      "22/22 - 1008s - loss: 0.5700 - accuracy: 0.7694 - mae: 0.0342 - mse: 0.0165 - precision: 0.6349 - recall: 0.2138 - f1_score: 0.3199 - val_loss: 0.9199 - val_accuracy: 0.6639 - val_mae: 0.0401 - val_mse: 0.0232 - val_precision: 0.6344 - val_recall: 0.2153 - val_f1_score: 0.3215 - 1008s/epoch - 46s/step\n",
      "Epoch 61/100\n",
      "22/22 - 945s - loss: 0.5656 - accuracy: 0.7581 - mae: 0.0340 - mse: 0.0167 - precision: 0.6353 - recall: 0.2166 - f1_score: 0.3231 - val_loss: 0.8664 - val_accuracy: 0.7010 - val_mae: 0.0396 - val_mse: 0.0224 - val_precision: 0.6341 - val_recall: 0.2182 - val_f1_score: 0.3247 - 945s/epoch - 43s/step\n",
      "Epoch 62/100\n",
      "22/22 - 1038s - loss: 0.5419 - accuracy: 0.7785 - mae: 0.0330 - mse: 0.0159 - precision: 0.6364 - recall: 0.2199 - f1_score: 0.3269 - val_loss: 0.9376 - val_accuracy: 0.6639 - val_mae: 0.0400 - val_mse: 0.0232 - val_precision: 0.6374 - val_recall: 0.2215 - val_f1_score: 0.3287 - 1038s/epoch - 47s/step\n",
      "Epoch 63/100\n",
      "22/22 - 968s - loss: 0.5337 - accuracy: 0.7774 - mae: 0.0327 - mse: 0.0158 - precision: 0.6390 - recall: 0.2231 - f1_score: 0.3307 - val_loss: 0.8752 - val_accuracy: 0.6928 - val_mae: 0.0394 - val_mse: 0.0219 - val_precision: 0.6402 - val_recall: 0.2244 - val_f1_score: 0.3323 - 968s/epoch - 44s/step\n",
      "Epoch 64/100\n",
      "22/22 - 1020s - loss: 0.5148 - accuracy: 0.7934 - mae: 0.0313 - mse: 0.0150 - precision: 0.6414 - recall: 0.2260 - f1_score: 0.3342 - val_loss: 0.8750 - val_accuracy: 0.6969 - val_mae: 0.0374 - val_mse: 0.0217 - val_precision: 0.6417 - val_recall: 0.2271 - val_f1_score: 0.3354 - 1020s/epoch - 46s/step\n",
      "Epoch 65/100\n",
      "22/22 - 1074s - loss: 0.4893 - accuracy: 0.7971 - mae: 0.0305 - mse: 0.0145 - precision: 0.6433 - recall: 0.2282 - f1_score: 0.3369 - val_loss: 0.8797 - val_accuracy: 0.7196 - val_mae: 0.0375 - val_mse: 0.0213 - val_precision: 0.6443 - val_recall: 0.2293 - val_f1_score: 0.3382 - 1074s/epoch - 49s/step\n",
      "Epoch 66/100\n",
      "22/22 - 912s - loss: 0.4880 - accuracy: 0.7945 - mae: 0.0301 - mse: 0.0146 - precision: 0.6461 - recall: 0.2307 - f1_score: 0.3400 - val_loss: 0.9421 - val_accuracy: 0.6784 - val_mae: 0.0392 - val_mse: 0.0229 - val_precision: 0.6441 - val_recall: 0.2325 - val_f1_score: 0.3416 - 912s/epoch - 41s/step\n",
      "Epoch 67/100\n",
      "22/22 - 974s - loss: 0.5224 - accuracy: 0.7825 - mae: 0.0315 - mse: 0.0154 - precision: 0.6459 - recall: 0.2341 - f1_score: 0.3437 - val_loss: 0.9148 - val_accuracy: 0.6990 - val_mae: 0.0380 - val_mse: 0.0220 - val_precision: 0.6465 - val_recall: 0.2358 - val_f1_score: 0.3456 - 974s/epoch - 44s/step\n",
      "Epoch 68/100\n",
      "22/22 - 959s - loss: 0.4917 - accuracy: 0.7974 - mae: 0.0303 - mse: 0.0147 - precision: 0.6485 - recall: 0.2372 - f1_score: 0.3473 - val_loss: 0.9185 - val_accuracy: 0.6990 - val_mae: 0.0375 - val_mse: 0.0221 - val_precision: 0.6485 - val_recall: 0.2383 - val_f1_score: 0.3485 - 959s/epoch - 44s/step\n",
      "Epoch 69/100\n",
      "22/22 - 990s - loss: 0.4665 - accuracy: 0.8015 - mae: 0.0292 - mse: 0.0139 - precision: 0.6492 - recall: 0.2395 - f1_score: 0.3500 - val_loss: 0.9618 - val_accuracy: 0.6784 - val_mae: 0.0386 - val_mse: 0.0226 - val_precision: 0.6476 - val_recall: 0.2414 - val_f1_score: 0.3517 - 990s/epoch - 45s/step\n",
      "Epoch 70/100\n",
      "22/22 - 1036s - loss: 0.5094 - accuracy: 0.7851 - mae: 0.0307 - mse: 0.0152 - precision: 0.6477 - recall: 0.2428 - f1_score: 0.3532 - val_loss: 0.9420 - val_accuracy: 0.6784 - val_mae: 0.0383 - val_mse: 0.0227 - val_precision: 0.6487 - val_recall: 0.2441 - val_f1_score: 0.3547 - 1036s/epoch - 47s/step\n"
     ]
    },
    {
     "name": "stdout",
     "output_type": "stream",
     "text": [
      "Epoch 71/100\n",
      "22/22 - 891s - loss: 0.5423 - accuracy: 0.7701 - mae: 0.0321 - mse: 0.0161 - precision: 0.6499 - recall: 0.2452 - f1_score: 0.3560 - val_loss: 0.9833 - val_accuracy: 0.6722 - val_mae: 0.0396 - val_mse: 0.0236 - val_precision: 0.6501 - val_recall: 0.2458 - val_f1_score: 0.3568 - 891s/epoch - 41s/step\n",
      "Epoch 72/100\n",
      "22/22 - 870s - loss: 0.4999 - accuracy: 0.8066 - mae: 0.0302 - mse: 0.0146 - precision: 0.6512 - recall: 0.2468 - f1_score: 0.3579 - val_loss: 0.8691 - val_accuracy: 0.7010 - val_mae: 0.0372 - val_mse: 0.0214 - val_precision: 0.6525 - val_recall: 0.2479 - val_f1_score: 0.3593 - 870s/epoch - 40s/step\n",
      "Epoch 73/100\n",
      "22/22 - 853s - loss: 0.4714 - accuracy: 0.8022 - mae: 0.0289 - mse: 0.0138 - precision: 0.6536 - recall: 0.2491 - f1_score: 0.3607 - val_loss: 0.8830 - val_accuracy: 0.6866 - val_mae: 0.0370 - val_mse: 0.0223 - val_precision: 0.6534 - val_recall: 0.2504 - val_f1_score: 0.3621 - 853s/epoch - 39s/step\n",
      "Epoch 74/100\n",
      "22/22 - 904s - loss: 0.4616 - accuracy: 0.8098 - mae: 0.0285 - mse: 0.0138 - precision: 0.6539 - recall: 0.2511 - f1_score: 0.3628 - val_loss: 0.9030 - val_accuracy: 0.6680 - val_mae: 0.0379 - val_mse: 0.0222 - val_precision: 0.6542 - val_recall: 0.2521 - val_f1_score: 0.3639 - 904s/epoch - 41s/step\n",
      "Epoch 75/100\n"
     ]
    }
   ],
   "source": [
    "import time\n",
    "start_time = time.time()\n",
    "\n",
    "from keras.layers import Dense, Flatten, LSTM, Conv1D, MaxPooling1D, Dropout, Activation,Embedding\n",
    "from keras.models import Sequential\n",
    "model_conv = Sequential()\n",
    "model_conv.add(Embedding(50000, 100, input_length=feat.shape[1]))\n",
    "model_conv.add(Conv1D(128, 3, activation='relu'))\n",
    "model_conv.add(MaxPooling1D(pool_size=3))\n",
    "model_conv.add(Activation('relu'))\n",
    "model_conv.add(Dropout(rate=0.5))\n",
    "model_conv.add(LSTM(128))\n",
    "model_conv.add(Flatten())\n",
    "model_conv.add(Dense(64))\n",
    "model_conv.add(Dense(19, activation='softmax'))\n",
    "model_conv.compile(loss='categorical_crossentropy', optimizer='adam',   metrics=['accuracy','mae','mse',keras_metrics.precision(), keras_metrics.recall(),keras_metrics.f1_score()])\n",
    "\n",
    "#Here we train the Network.\n",
    "\n",
    "pred2=model_conv.fit(X_train, Y_train, batch_size =batch_size, epochs =100, verbose =2,validation_data=(X_valid,Y_valid))\n",
    "pred2\n",
    "\n",
    "print(\"--- %s seconds ---\" % (time.time() - start_time))"
   ]
  },
  {
   "cell_type": "code",
   "execution_count": 60,
   "metadata": {},
   "outputs": [
    {
     "name": "stdout",
     "output_type": "stream",
     "text": [
      "              precision    recall  f1-score   support\n",
      "\n",
      "           0       0.39      0.44      0.41        16\n",
      "           1       0.90      0.72      0.80        25\n",
      "           2       0.58      0.70      0.63        27\n",
      "           3       1.00      1.00      1.00        24\n",
      "           4       0.55      0.63      0.59        19\n",
      "           5       0.96      0.90      0.93        29\n",
      "           6       1.00      1.00      1.00        24\n",
      "           7       1.00      0.92      0.96        38\n",
      "           8       0.41      0.43      0.42        30\n",
      "           9       0.32      0.33      0.33        24\n",
      "          10       0.78      0.90      0.84        20\n",
      "          11       0.83      0.83      0.83        24\n",
      "          12       0.94      0.97      0.96        33\n",
      "          13       1.00      0.94      0.97        31\n",
      "          14       0.71      0.67      0.69        18\n",
      "          15       0.48      0.58      0.52        19\n",
      "          16       0.72      0.60      0.65        30\n",
      "          17       0.91      0.81      0.86        26\n",
      "          18       0.93      0.89      0.91        28\n",
      "\n",
      "    accuracy                           0.77       485\n",
      "   macro avg       0.76      0.75      0.75       485\n",
      "weighted avg       0.78      0.77      0.77       485\n",
      "\n",
      "[[ 7  2  4  0  2  0  0  0  0  0  0  0  0  0  1  0  0  0  0]\n",
      " [ 7 18  0  0  0  0  0  0  0  0  0  0  0  0  0  0  0  0  0]\n",
      " [ 1  0 19  0  6  0  0  0  0  0  0  0  0  0  1  0  0  0  0]\n",
      " [ 0  0  0 24  0  0  0  0  0  0  0  0  0  0  0  0  0  0  0]\n",
      " [ 1  0  4  0 12  1  0  0  0  0  0  0  0  0  1  0  0  0  0]\n",
      " [ 1  0  0  0  1 26  0  0  0  0  0  0  0  0  1  0  0  0  0]\n",
      " [ 0  0  0  0  0  0 24  0  0  0  0  0  0  0  0  0  0  0  0]\n",
      " [ 0  0  0  0  0  0  0 35  1  0  2  0  0  0  0  0  0  0  0]\n",
      " [ 0  0  0  0  0  0  0  0 13 14  0  3  0  0  0  0  0  0  0]\n",
      " [ 0  0  0  0  0  0  0  0 16  8  0  0  0  0  0  0  0  0  0]\n",
      " [ 0  0  0  0  0  0  0  0  0  0 18  1  0  0  0  1  0  0  0]\n",
      " [ 0  0  0  0  0  0  0  0  2  2  0 20  0  0  0  0  0  0  0]\n",
      " [ 0  0  0  0  0  0  0  0  0  0  0  0 32  0  0  0  0  0  1]\n",
      " [ 0  0  0  0  0  0  0  0  0  1  0  0  0 29  0  0  1  0  0]\n",
      " [ 0  0  5  0  0  0  0  0  0  0  0  0  0  0 12  0  0  1  0]\n",
      " [ 0  0  0  0  0  0  0  0  0  0  2  0  0  0  0 11  6  0  0]\n",
      " [ 0  0  0  0  0  0  0  0  0  0  1  0  0  0  0 11 18  0  0]\n",
      " [ 1  0  1  0  1  0  0  0  0  0  0  0  0  0  1  0  0 21  1]\n",
      " [ 0  0  0  0  0  0  0  0  0  0  0  0  2  0  0  0  0  1 25]]\n"
     ]
    }
   ],
   "source": [
    "yhat_classes = model_conv.predict(X_valid, verbose=0)\n",
    "rounded_predictions=np.argmax(yhat_classes, axis=1)\n",
    "rounded_labels=np.argmax(Y_valid, axis=1)\n",
    "print(classification_report(rounded_labels,rounded_predictions))\n",
    "print(confusion_matrix(rounded_labels,rounded_predictions))"
   ]
  },
  {
   "cell_type": "code",
   "execution_count": 164,
   "metadata": {},
   "outputs": [
    {
     "name": "stdout",
     "output_type": "stream",
     "text": [
      "0.8\n",
      "                       precision    recall  f1-score   support\n",
      "\n",
      "             Analysis       0.61      0.54      0.57        26\n",
      "             Backdoor       0.76      0.73      0.75        26\n",
      "                  DoS       0.71      0.88      0.79        25\n",
      "      DoS-Synflooding       1.00      0.96      0.98        25\n",
      "             Exploits       0.73      0.64      0.68        25\n",
      "              Fuzzers       0.92      0.88      0.90        26\n",
      "              Generic       0.96      1.00      0.98        25\n",
      "    MITM ARP Spoofing       0.96      0.96      0.96        25\n",
      "    Mirai-Ackflooding       0.43      0.35      0.38        26\n",
      "  Mirai-HTTP Flooding       0.42      0.62      0.50        26\n",
      "Mirai-Hostbruteforceg       0.92      0.92      0.92        25\n",
      "   Mirai-UDP Flooding       0.86      0.69      0.77        26\n",
      "               Normal       0.96      1.00      0.98        26\n",
      "             Normal_I       0.96      1.00      0.98        26\n",
      "       Reconnaissance       0.88      0.92      0.90        25\n",
      "        Scan Hostport       0.72      0.72      0.72        25\n",
      "         Scan Port OS       0.74      0.68      0.71        25\n",
      "            Shellcode       0.88      0.85      0.86        26\n",
      "                Worms       0.88      0.88      0.88        26\n",
      "\n",
      "             accuracy                           0.80       485\n",
      "            macro avg       0.81      0.80      0.80       485\n",
      "         weighted avg       0.80      0.80      0.80       485\n",
      "\n",
      "[[14  6  4  0  1  0  0  0  0  0  0  0  0  0  1  0  0  0  0]\n",
      " [ 6 19  0  0  0  0  0  0  0  0  0  0  1  0  0  0  0  0  0]\n",
      " [ 1  0 22  0  0  0  0  0  0  0  0  0  0  0  1  0  0  1  0]\n",
      " [ 0  0  0 24  0  0  0  0  0  0  0  1  0  0  0  0  0  0  0]\n",
      " [ 2  0  5  0 16  1  0  0  0  0  0  0  0  0  1  0  0  0  0]\n",
      " [ 0  0  0  0  3 23  0  0  0  0  0  0  0  0  0  0  0  0  0]\n",
      " [ 0  0  0  0  0  0 25  0  0  0  0  0  0  0  0  0  0  0  0]\n",
      " [ 0  0  0  0  0  0  0 24  1  0  0  0  0  0  0  0  0  0  0]\n",
      " [ 0  0  0  0  0  0  0  0  9 17  0  0  0  0  0  0  0  0  0]\n",
      " [ 0  0  0  0  0  0  0  0  8 16  0  2  0  0  0  0  0  0  0]\n",
      " [ 0  0  0  0  0  0  0  1  0  0 23  0  0  1  0  0  0  0  0]\n",
      " [ 0  0  0  0  0  0  0  0  3  5  0 18  0  0  0  0  0  0  0]\n",
      " [ 0  0  0  0  0  0  0  0  0  0  0  0 26  0  0  0  0  0  0]\n",
      " [ 0  0  0  0  0  0  0  0  0  0  0  0  0 26  0  0  0  0  0]\n",
      " [ 0  0  0  0  1  0  0  0  0  0  0  0  0  0 23  0  0  1  0]\n",
      " [ 0  0  0  0  0  0  0  0  0  0  1  0  0  0  0 18  6  0  0]\n",
      " [ 0  0  0  0  0  0  0  0  0  0  1  0  0  0  0  7 17  0  0]\n",
      " [ 0  0  0  0  1  0  0  0  0  0  0  0  0  0  0  0  0 22  3]\n",
      " [ 0  0  0  0  0  1  1  0  0  0  0  0  0  0  0  0  0  1 23]]\n"
     ]
    }
   ],
   "source": [
    "from sklearn.ensemble import GradientBoostingClassifier\n",
    "from sklearn.ensemble import RandomForestClassifier\n",
    "from sklearn.ensemble import ExtraTreesClassifier\n",
    "a =  RandomForestClassifier(n_estimators=200, random_state=2,max_depth=150) \n",
    "a_pred = a.fit(X_train, y_train)\n",
    "pred=a_pred.predict(X_test)\n",
    "print(accuracy_score(y_test,pred))\n",
    "print(classification_report(y_test,pred))\n",
    "print(confusion_matrix(y_test,pred))\n"
   ]
  },
  {
   "cell_type": "code",
   "execution_count": 165,
   "metadata": {},
   "outputs": [
    {
     "name": "stdout",
     "output_type": "stream",
     "text": [
      "0.7938144329896907\n",
      "                       precision    recall  f1-score   support\n",
      "\n",
      "             Analysis       0.50      0.50      0.50        26\n",
      "             Backdoor       0.69      0.69      0.69        26\n",
      "                  DoS       0.73      0.88      0.80        25\n",
      "      DoS-Synflooding       1.00      1.00      1.00        25\n",
      "             Exploits       0.80      0.64      0.71        25\n",
      "              Fuzzers       0.96      0.96      0.96        26\n",
      "              Generic       0.96      1.00      0.98        25\n",
      "    MITM ARP Spoofing       0.96      0.96      0.96        25\n",
      "    Mirai-Ackflooding       0.36      0.31      0.33        26\n",
      "  Mirai-HTTP Flooding       0.37      0.50      0.43        26\n",
      "Mirai-Hostbruteforceg       0.96      0.92      0.94        25\n",
      "   Mirai-UDP Flooding       0.82      0.69      0.75        26\n",
      "               Normal       0.96      0.92      0.94        26\n",
      "             Normal_I       0.96      1.00      0.98        26\n",
      "       Reconnaissance       0.88      0.92      0.90        25\n",
      "        Scan Hostport       0.78      0.72      0.75        25\n",
      "         Scan Port OS       0.77      0.80      0.78        25\n",
      "            Shellcode       0.88      0.85      0.86        26\n",
      "                Worms       0.85      0.85      0.85        26\n",
      "\n",
      "             accuracy                           0.79       485\n",
      "            macro avg       0.80      0.80      0.80       485\n",
      "         weighted avg       0.80      0.79      0.79       485\n",
      "\n",
      "[[13  7  4  0  1  0  0  0  0  0  0  0  0  0  1  0  0  0  0]\n",
      " [ 7 18  0  0  0  0  0  0  0  0  0  0  1  0  0  0  0  0  0]\n",
      " [ 2  0 22  0  0  0  0  0  0  0  0  0  0  0  1  0  0  0  0]\n",
      " [ 0  0  0 25  0  0  0  0  0  0  0  0  0  0  0  0  0  0  0]\n",
      " [ 3  0  4  0 16  1  0  0  0  0  0  0  0  0  1  0  0  0  0]\n",
      " [ 0  0  0  0  1 25  0  0  0  0  0  0  0  0  0  0  0  0  0]\n",
      " [ 0  0  0  0  0  0 25  0  0  0  0  0  0  0  0  0  0  0  0]\n",
      " [ 0  0  0  0  0  0  0 24  1  0  0  0  0  0  0  0  0  0  0]\n",
      " [ 0  0  0  0  0  0  0  0  8 17  0  1  0  0  0  0  0  0  0]\n",
      " [ 0  0  0  0  0  0  0  0 10 13  0  3  0  0  0  0  0  0  0]\n",
      " [ 0  0  0  0  0  0  0  1  0  0 23  0  0  1  0  0  0  0  0]\n",
      " [ 0  0  0  0  0  0  0  0  3  5  0 18  0  0  0  0  0  0  0]\n",
      " [ 0  1  0  0  0  0  0  0  0  0  0  0 24  0  0  0  0  0  1]\n",
      " [ 0  0  0  0  0  0  0  0  0  0  0  0  0 26  0  0  0  0  0]\n",
      " [ 1  0  0  0  1  0  0  0  0  0  0  0  0  0 23  0  0  0  0]\n",
      " [ 0  0  0  0  0  0  0  0  0  0  1  0  0  0  0 18  6  0  0]\n",
      " [ 0  0  0  0  0  0  0  0  0  0  0  0  0  0  0  5 20  0  0]\n",
      " [ 0  0  0  0  1  0  0  0  0  0  0  0  0  0  0  0  0 22  3]\n",
      " [ 0  0  0  0  0  0  1  0  0  0  0  0  0  0  0  0  0  3 22]]\n"
     ]
    }
   ],
   "source": [
    "from sklearn.ensemble import GradientBoostingClassifier\n",
    "from sklearn.ensemble import RandomForestClassifier\n",
    "from sklearn.ensemble import ExtraTreesClassifier\n",
    "a =  ExtraTreesClassifier(n_estimators=200, random_state=2,max_depth=150) \n",
    "a_pred = a.fit(X_train, y_train)\n",
    "pred=a_pred.predict(X_test)\n",
    "print(accuracy_score(y_test,pred))\n",
    "print(classification_report(y_test,pred))\n",
    "print(confusion_matrix(y_test,pred))"
   ]
  },
  {
   "cell_type": "code",
   "execution_count": 166,
   "metadata": {},
   "outputs": [
    {
     "name": "stdout",
     "output_type": "stream",
     "text": [
      "0.7917525773195876\n",
      "                       precision    recall  f1-score   support\n",
      "\n",
      "             Analysis       0.78      0.54      0.64        26\n",
      "             Backdoor       0.79      0.85      0.81        26\n",
      "                  DoS       0.71      0.96      0.81        25\n",
      "      DoS-Synflooding       1.00      0.96      0.98        25\n",
      "             Exploits       0.77      0.80      0.78        25\n",
      "              Fuzzers       0.92      0.88      0.90        26\n",
      "              Generic       0.96      1.00      0.98        25\n",
      "    MITM ARP Spoofing       0.96      0.96      0.96        25\n",
      "    Mirai-Ackflooding       0.38      0.46      0.41        26\n",
      "  Mirai-HTTP Flooding       0.31      0.31      0.31        26\n",
      "Mirai-Hostbruteforceg       0.96      0.92      0.94        25\n",
      "   Mirai-UDP Flooding       0.82      0.69      0.75        26\n",
      "               Normal       0.96      0.92      0.94        26\n",
      "             Normal_I       0.96      1.00      0.98        26\n",
      "       Reconnaissance       0.92      0.88      0.90        25\n",
      "        Scan Hostport       0.61      0.68      0.64        25\n",
      "         Scan Port OS       0.67      0.56      0.61        25\n",
      "            Shellcode       0.88      0.85      0.86        26\n",
      "                Worms       0.88      0.85      0.86        26\n",
      "\n",
      "             accuracy                           0.79       485\n",
      "            macro avg       0.80      0.79      0.79       485\n",
      "         weighted avg       0.80      0.79      0.79       485\n",
      "\n",
      "[[14  5  5  0  1  0  0  0  0  0  0  0  0  0  1  0  0  0  0]\n",
      " [ 3 22  0  0  0  0  0  0  0  0  0  0  1  0  0  0  0  0  0]\n",
      " [ 0  0 24  0  1  0  0  0  0  0  0  0  0  0  0  0  0  0  0]\n",
      " [ 0  0  0 24  0  0  0  0  0  1  0  0  0  0  0  0  0  0  0]\n",
      " [ 1  0  3  0 20  0  0  0  0  0  0  0  0  0  1  0  0  0  0]\n",
      " [ 0  0  0  0  3 23  0  0  0  0  0  0  0  0  0  0  0  0  0]\n",
      " [ 0  0  0  0  0  0 25  0  0  0  0  0  0  0  0  0  0  0  0]\n",
      " [ 0  0  0  0  0  0  0 24  1  0  0  0  0  0  0  0  0  0  0]\n",
      " [ 0  0  0  0  0  0  0  0 12 13  0  1  0  0  0  0  0  0  0]\n",
      " [ 0  0  0  0  0  0  0  0 15  8  0  3  0  0  0  0  0  0  0]\n",
      " [ 0  0  0  0  0  0  0  1  0  0 23  0  0  1  0  0  0  0  0]\n",
      " [ 0  0  0  0  0  0  0  0  4  4  0 18  0  0  0  0  0  0  0]\n",
      " [ 0  1  0  0  0  0  0  0  0  0  0  0 24  0  0  0  0  0  1]\n",
      " [ 0  0  0  0  0  0  0  0  0  0  0  0  0 26  0  0  0  0  0]\n",
      " [ 0  0  1  0  0  1  0  0  0  0  0  0  0  0 22  0  0  1  0]\n",
      " [ 0  0  0  0  0  0  0  0  0  0  1  0  0  0  0 17  7  0  0]\n",
      " [ 0  0  0  0  0  0  0  0  0  0  0  0  0  0  0 11 14  0  0]\n",
      " [ 0  0  1  0  1  0  0  0  0  0  0  0  0  0  0  0  0 22  2]\n",
      " [ 0  0  0  0  0  1  1  0  0  0  0  0  0  0  0  0  0  2 22]]\n"
     ]
    },
    {
     "name": "stderr",
     "output_type": "stream",
     "text": [
      "C:\\Users\\Sohail_Comp\\anaconda3\\lib\\site-packages\\sklearn\\linear_model\\_sag.py:352: ConvergenceWarning: The max_iter was reached which means the coef_ did not converge\n",
      "  warnings.warn(\n"
     ]
    }
   ],
   "source": [
    "from sklearn.linear_model import LogisticRegression\n",
    "a=LogisticRegression(random_state=1000, solver='sag',multi_class='multinomial',C=2.0)\n",
    "a_pred = a.fit(X_train, y_train)\n",
    "pred=a_pred.predict(X_test)\n",
    "print(accuracy_score(y_test,pred))\n",
    "print(classification_report(y_test,pred))\n",
    "print(confusion_matrix(y_test,pred))"
   ]
  },
  {
   "cell_type": "code",
   "execution_count": 167,
   "metadata": {},
   "outputs": [
    {
     "name": "stdout",
     "output_type": "stream",
     "text": [
      "0.7443298969072165\n",
      "                       precision    recall  f1-score   support\n",
      "\n",
      "             Analysis       0.62      0.62      0.62        26\n",
      "             Backdoor       0.76      0.73      0.75        26\n",
      "                  DoS       0.69      0.88      0.77        25\n",
      "      DoS-Synflooding       1.00      0.96      0.98        25\n",
      "             Exploits       0.59      0.64      0.62        25\n",
      "              Fuzzers       0.85      0.88      0.87        26\n",
      "              Generic       0.96      1.00      0.98        25\n",
      "    MITM ARP Spoofing       0.80      0.96      0.87        25\n",
      "    Mirai-Ackflooding       0.37      0.42      0.39        26\n",
      "  Mirai-HTTP Flooding       0.42      0.42      0.42        26\n",
      "Mirai-Hostbruteforceg       0.95      0.76      0.84        25\n",
      "   Mirai-UDP Flooding       0.77      0.65      0.71        26\n",
      "               Normal       0.96      0.85      0.90        26\n",
      "             Normal_I       0.96      0.92      0.94        26\n",
      "       Reconnaissance       0.86      0.76      0.81        25\n",
      "        Scan Hostport       0.62      0.72      0.67        25\n",
      "         Scan Port OS       0.70      0.64      0.67        25\n",
      "            Shellcode       0.78      0.69      0.73        26\n",
      "                Worms       0.68      0.65      0.67        26\n",
      "\n",
      "             accuracy                           0.74       485\n",
      "            macro avg       0.75      0.75      0.75       485\n",
      "         weighted avg       0.75      0.74      0.75       485\n",
      "\n",
      "[[16  5  4  0  1  0  0  0  0  0  0  0  0  0  0  0  0  0  0]\n",
      " [ 6 19  0  0  1  0  0  0  0  0  0  0  0  0  0  0  0  0  0]\n",
      " [ 1  0 22  0  1  0  0  0  0  0  0  0  0  0  1  0  0  0  0]\n",
      " [ 0  0  0 24  0  0  0  0  0  0  0  1  0  0  0  0  0  0  0]\n",
      " [ 3  0  4  0 16  1  0  0  0  0  0  0  0  0  1  0  0  0  0]\n",
      " [ 0  0  0  0  3 23  0  0  0  0  0  0  0  0  0  0  0  0  0]\n",
      " [ 0  0  0  0  0  0 25  0  0  0  0  0  0  0  0  0  0  0  0]\n",
      " [ 0  0  0  0  0  0  0 24  0  0  0  1  0  0  0  0  0  0  0]\n",
      " [ 0  0  0  0  0  0  0  2 11 11  0  2  0  0  0  0  0  0  0]\n",
      " [ 0  0  0  0  0  0  0  1 13 11  0  1  0  0  0  0  0  0  0]\n",
      " [ 0  0  0  0  0  0  0  3  0  0 19  0  0  1  0  2  0  0  0]\n",
      " [ 0  0  0  0  0  0  0  0  5  4  0 17  0  0  0  0  0  0  0]\n",
      " [ 0  1  0  0  1  1  0  0  0  0  0  0 22  0  0  0  0  0  1]\n",
      " [ 0  0  0  0  0  0  0  0  1  0  0  0  0 24  0  0  1  0  0]\n",
      " [ 0  0  2  0  3  0  0  0  0  0  0  0  0  0 19  0  0  1  0]\n",
      " [ 0  0  0  0  0  0  0  0  0  0  1  0  0  0  0 18  6  0  0]\n",
      " [ 0  0  0  0  0  0  0  0  0  0  0  0  0  0  0  9 16  0  0]\n",
      " [ 0  0  0  0  1  0  0  0  0  0  0  0  0  0  0  0  0 18  7]\n",
      " [ 0  0  0  0  0  2  1  0  0  0  0  0  1  0  1  0  0  4 17]]\n"
     ]
    }
   ],
   "source": [
    "from sklearn.neighbors import KNeighborsClassifier\n",
    "a = KNeighborsClassifier(n_neighbors=5)\n",
    "a_pred = a.fit(X_train, y_train)\n",
    "pred=a_pred.predict(X_test)\n",
    "print(accuracy_score(y_test,pred))\n",
    "print(classification_report(y_test,pred))\n",
    "print(confusion_matrix(y_test,pred))"
   ]
  },
  {
   "cell_type": "code",
   "execution_count": 168,
   "metadata": {},
   "outputs": [
    {
     "name": "stdout",
     "output_type": "stream",
     "text": [
      "0.7711340206185567\n",
      "                       precision    recall  f1-score   support\n",
      "\n",
      "             Analysis       0.55      0.46      0.50        26\n",
      "             Backdoor       0.71      0.65      0.68        26\n",
      "                  DoS       0.66      0.92      0.77        25\n",
      "      DoS-Synflooding       1.00      0.96      0.98        25\n",
      "             Exploits       0.77      0.68      0.72        25\n",
      "              Fuzzers       0.96      0.92      0.94        26\n",
      "              Generic       0.89      1.00      0.94        25\n",
      "    MITM ARP Spoofing       0.92      0.96      0.94        25\n",
      "    Mirai-Ackflooding       0.31      0.31      0.31        26\n",
      "  Mirai-HTTP Flooding       0.30      0.35      0.32        26\n",
      "Mirai-Hostbruteforceg       0.96      0.92      0.94        25\n",
      "   Mirai-UDP Flooding       0.70      0.62      0.65        26\n",
      "               Normal       0.96      0.96      0.96        26\n",
      "             Normal_I       0.96      1.00      0.98        26\n",
      "       Reconnaissance       0.88      0.92      0.90        25\n",
      "        Scan Hostport       0.73      0.76      0.75        25\n",
      "         Scan Port OS       0.74      0.68      0.71        25\n",
      "            Shellcode       0.91      0.81      0.86        26\n",
      "                Worms       0.84      0.81      0.82        26\n",
      "\n",
      "             accuracy                           0.77       485\n",
      "            macro avg       0.78      0.77      0.77       485\n",
      "         weighted avg       0.78      0.77      0.77       485\n",
      "\n",
      "[[12  7  5  0  1  0  0  0  0  0  0  0  0  0  1  0  0  0  0]\n",
      " [ 8 17  0  0  0  0  0  0  0  0  0  0  1  0  0  0  0  0  0]\n",
      " [ 0  0 23  0  1  0  0  0  0  0  0  0  0  0  1  0  0  0  0]\n",
      " [ 0  0  0 24  0  0  0  0  0  1  0  0  0  0  0  0  0  0  0]\n",
      " [ 1  0  6  0 17  0  0  0  0  0  0  0  0  0  1  0  0  0  0]\n",
      " [ 0  0  0  0  2 24  0  0  0  0  0  0  0  0  0  0  0  0  0]\n",
      " [ 0  0  0  0  0  0 25  0  0  0  0  0  0  0  0  0  0  0  0]\n",
      " [ 0  0  0  0  0  0  0 24  0  1  0  0  0  0  0  0  0  0  0]\n",
      " [ 0  0  0  0  0  0  0  1  8 15  0  2  0  0  0  0  0  0  0]\n",
      " [ 0  0  0  0  0  0  0  0 12  9  0  5  0  0  0  0  0  0  0]\n",
      " [ 0  0  0  0  0  0  0  1  0  0 23  0  0  1  0  0  0  0  0]\n",
      " [ 0  0  0  0  0  0  0  0  6  4  0 16  0  0  0  0  0  0  0]\n",
      " [ 0  0  0  0  0  0  0  0  0  0  0  0 25  0  0  0  0  0  1]\n",
      " [ 0  0  0  0  0  0  0  0  0  0  0  0  0 26  0  0  0  0  0]\n",
      " [ 1  0  0  0  0  1  0  0  0  0  0  0  0  0 23  0  0  0  0]\n",
      " [ 0  0  0  0  0  0  0  0  0  0  0  0  0  0  0 19  6  0  0]\n",
      " [ 0  0  0  0  0  0  0  0  0  0  1  0  0  0  0  7 17  0  0]\n",
      " [ 0  0  1  0  1  0  0  0  0  0  0  0  0  0  0  0  0 21  3]\n",
      " [ 0  0  0  0  0  0  3  0  0  0  0  0  0  0  0  0  0  2 21]]\n"
     ]
    }
   ],
   "source": [
    "from sklearn.svm import SVC\n",
    "a=SVC(kernel='linear', C=2.0)\n",
    "a_pred = a.fit(X_train, y_train)\n",
    "pred=a_pred.predict(X_test)\n",
    "print(accuracy_score(y_test,pred))\n",
    "print(classification_report(y_test,pred))\n",
    "print(confusion_matrix(y_test,pred))"
   ]
  },
  {
   "cell_type": "code",
   "execution_count": null,
   "metadata": {},
   "outputs": [],
   "source": []
  },
  {
   "cell_type": "code",
   "execution_count": null,
   "metadata": {},
   "outputs": [],
   "source": []
  },
  {
   "cell_type": "code",
   "execution_count": null,
   "metadata": {},
   "outputs": [],
   "source": []
  },
  {
   "cell_type": "code",
   "execution_count": 169,
   "metadata": {},
   "outputs": [],
   "source": [
    "X_train, X_test, y_train, y_test = train_test_split(GF, DataITarget[\"Sub_Cat\"], test_size=0.15, random_state=1, stratify=DataITarget[\"Sub_Cat\"], shuffle=True)"
   ]
  },
  {
   "cell_type": "code",
   "execution_count": 170,
   "metadata": {},
   "outputs": [
    {
     "name": "stdout",
     "output_type": "stream",
     "text": [
      "0.7739130434782608\n",
      "                       precision    recall  f1-score   support\n",
      "\n",
      "      DoS-Synflooding       1.00      1.00      1.00        26\n",
      "    MITM ARP Spoofing       1.00      1.00      1.00        26\n",
      "    Mirai-Ackflooding       0.36      0.36      0.36        25\n",
      "  Mirai-HTTP Flooding       0.36      0.38      0.37        26\n",
      "Mirai-Hostbruteforceg       0.96      0.92      0.94        26\n",
      "   Mirai-UDP Flooding       0.77      0.65      0.71        26\n",
      "             Normal_I       0.89      0.96      0.92        25\n",
      "        Scan Hostport       0.84      0.84      0.84        25\n",
      "         Scan Port OS       0.81      0.84      0.82        25\n",
      "\n",
      "             accuracy                           0.77       230\n",
      "            macro avg       0.78      0.77      0.77       230\n",
      "         weighted avg       0.78      0.77      0.77       230\n",
      "\n",
      "[[26  0  0  0  0  0  0  0  0]\n",
      " [ 0 26  0  0  0  0  0  0  0]\n",
      " [ 0  0  9 13  1  2  0  0  0]\n",
      " [ 0  0 12 10  0  3  1  0  0]\n",
      " [ 0  0  0  0 24  0  2  0  0]\n",
      " [ 0  0  4  5  0 17  0  0  0]\n",
      " [ 0  0  0  0  0  0 24  0  1]\n",
      " [ 0  0  0  0  0  0  0 21  4]\n",
      " [ 0  0  0  0  0  0  0  4 21]]\n"
     ]
    }
   ],
   "source": [
    "from sklearn.ensemble import GradientBoostingClassifier\n",
    "from sklearn.ensemble import RandomForestClassifier\n",
    "from sklearn.ensemble import ExtraTreesClassifier\n",
    "a =  RandomForestClassifier(n_estimators=200, random_state=2,max_depth=150) \n",
    "a_pred = a.fit(X_train, y_train)\n",
    "pred=a_pred.predict(X_test)\n",
    "print(accuracy_score(y_test,pred))\n",
    "print(classification_report(y_test,pred))\n",
    "print(confusion_matrix(y_test,pred))\n"
   ]
  },
  {
   "cell_type": "code",
   "execution_count": 171,
   "metadata": {},
   "outputs": [
    {
     "name": "stdout",
     "output_type": "stream",
     "text": [
      "0.7565217391304347\n",
      "                       precision    recall  f1-score   support\n",
      "\n",
      "      DoS-Synflooding       1.00      1.00      1.00        26\n",
      "    MITM ARP Spoofing       1.00      0.92      0.96        26\n",
      "    Mirai-Ackflooding       0.23      0.24      0.24        25\n",
      "  Mirai-HTTP Flooding       0.31      0.31      0.31        26\n",
      "Mirai-Hostbruteforceg       0.86      0.92      0.89        26\n",
      "   Mirai-UDP Flooding       0.74      0.65      0.69        26\n",
      "             Normal_I       0.89      0.96      0.92        25\n",
      "        Scan Hostport       0.92      0.88      0.90        25\n",
      "         Scan Port OS       0.88      0.92      0.90        25\n",
      "\n",
      "             accuracy                           0.76       230\n",
      "            macro avg       0.76      0.76      0.76       230\n",
      "         weighted avg       0.76      0.76      0.76       230\n",
      "\n",
      "[[26  0  0  0  0  0  0  0  0]\n",
      " [ 0 24  0  0  2  0  0  0  0]\n",
      " [ 0  0  6 15  1  3  0  0  0]\n",
      " [ 0  0 14  8  0  3  1  0  0]\n",
      " [ 0  0  0  0 24  0  2  0  0]\n",
      " [ 0  0  6  3  0 17  0  0  0]\n",
      " [ 0  0  0  0  1  0 24  0  0]\n",
      " [ 0  0  0  0  0  0  0 22  3]\n",
      " [ 0  0  0  0  0  0  0  2 23]]\n"
     ]
    }
   ],
   "source": [
    "from sklearn.ensemble import GradientBoostingClassifier\n",
    "from sklearn.ensemble import RandomForestClassifier\n",
    "from sklearn.ensemble import ExtraTreesClassifier\n",
    "a =  ExtraTreesClassifier(n_estimators=200, random_state=2,max_depth=150) \n",
    "a_pred = a.fit(X_train, y_train)\n",
    "pred=a_pred.predict(X_test)\n",
    "print(accuracy_score(y_test,pred))\n",
    "print(classification_report(y_test,pred))\n",
    "print(confusion_matrix(y_test,pred))"
   ]
  },
  {
   "cell_type": "code",
   "execution_count": 172,
   "metadata": {},
   "outputs": [
    {
     "name": "stdout",
     "output_type": "stream",
     "text": [
      "0.7347826086956522\n",
      "                       precision    recall  f1-score   support\n",
      "\n",
      "      DoS-Synflooding       1.00      1.00      1.00        26\n",
      "    MITM ARP Spoofing       1.00      0.92      0.96        26\n",
      "    Mirai-Ackflooding       0.30      0.40      0.34        25\n",
      "  Mirai-HTTP Flooding       0.29      0.27      0.28        26\n",
      "Mirai-Hostbruteforceg       0.85      0.85      0.85        26\n",
      "   Mirai-UDP Flooding       0.80      0.62      0.70        26\n",
      "             Normal_I       0.92      0.96      0.94        25\n",
      "        Scan Hostport       0.80      0.80      0.80        25\n",
      "         Scan Port OS       0.77      0.80      0.78        25\n",
      "\n",
      "             accuracy                           0.73       230\n",
      "            macro avg       0.75      0.73      0.74       230\n",
      "         weighted avg       0.75      0.73      0.74       230\n",
      "\n",
      "[[26  0  0  0  0  0  0  0  0]\n",
      " [ 0 24  0  0  2  0  0  0  0]\n",
      " [ 0  0 10 12  1  2  0  0  0]\n",
      " [ 0  0 17  7  0  2  0  0  0]\n",
      " [ 0  0  0  1 22  0  2  0  1]\n",
      " [ 0  0  6  4  0 16  0  0  0]\n",
      " [ 0  0  0  0  1  0 24  0  0]\n",
      " [ 0  0  0  0  0  0  0 20  5]\n",
      " [ 0  0  0  0  0  0  0  5 20]]\n"
     ]
    },
    {
     "name": "stderr",
     "output_type": "stream",
     "text": [
      "C:\\Users\\Sohail_Comp\\anaconda3\\lib\\site-packages\\sklearn\\linear_model\\_sag.py:352: ConvergenceWarning: The max_iter was reached which means the coef_ did not converge\n",
      "  warnings.warn(\n"
     ]
    }
   ],
   "source": [
    "from sklearn.linear_model import LogisticRegression\n",
    "a=LogisticRegression(random_state=1000, solver='sag',multi_class='multinomial',C=2.0)\n",
    "a_pred = a.fit(X_train, y_train)\n",
    "pred=a_pred.predict(X_test)\n",
    "print(accuracy_score(y_test,pred))\n",
    "print(classification_report(y_test,pred))\n",
    "print(confusion_matrix(y_test,pred))"
   ]
  },
  {
   "cell_type": "code",
   "execution_count": 173,
   "metadata": {},
   "outputs": [
    {
     "name": "stdout",
     "output_type": "stream",
     "text": [
      "0.7043478260869566\n",
      "                       precision    recall  f1-score   support\n",
      "\n",
      "      DoS-Synflooding       1.00      1.00      1.00        26\n",
      "    MITM ARP Spoofing       0.83      0.96      0.89        26\n",
      "    Mirai-Ackflooding       0.32      0.40      0.36        25\n",
      "  Mirai-HTTP Flooding       0.40      0.38      0.39        26\n",
      "Mirai-Hostbruteforceg       0.95      0.69      0.80        26\n",
      "   Mirai-UDP Flooding       0.76      0.62      0.68        26\n",
      "             Normal_I       0.96      0.96      0.96        25\n",
      "        Scan Hostport       0.60      0.72      0.65        25\n",
      "         Scan Port OS       0.65      0.60      0.63        25\n",
      "\n",
      "             accuracy                           0.70       230\n",
      "            macro avg       0.72      0.70      0.71       230\n",
      "         weighted avg       0.72      0.70      0.71       230\n",
      "\n",
      "[[26  0  0  0  0  0  0  0  0]\n",
      " [ 0 25  0  0  1  0  0  0  0]\n",
      " [ 0  3 10 10  0  2  0  0  0]\n",
      " [ 0  0 15 10  0  1  0  0  0]\n",
      " [ 0  2  1  0 18  0  1  3  1]\n",
      " [ 0  0  5  5  0 16  0  0  0]\n",
      " [ 0  0  0  0  0  0 24  0  1]\n",
      " [ 0  0  0  0  0  1  0 18  6]\n",
      " [ 0  0  0  0  0  1  0  9 15]]\n"
     ]
    }
   ],
   "source": [
    "from sklearn.neighbors import KNeighborsClassifier\n",
    "a = KNeighborsClassifier(n_neighbors=5)\n",
    "a_pred = a.fit(X_train, y_train)\n",
    "pred=a_pred.predict(X_test)\n",
    "print(accuracy_score(y_test,pred))\n",
    "print(classification_report(y_test,pred))\n",
    "print(confusion_matrix(y_test,pred))"
   ]
  },
  {
   "cell_type": "code",
   "execution_count": 174,
   "metadata": {},
   "outputs": [
    {
     "name": "stdout",
     "output_type": "stream",
     "text": [
      "0.7565217391304347\n",
      "                       precision    recall  f1-score   support\n",
      "\n",
      "      DoS-Synflooding       1.00      1.00      1.00        26\n",
      "    MITM ARP Spoofing       1.00      1.00      1.00        26\n",
      "    Mirai-Ackflooding       0.30      0.36      0.33        25\n",
      "  Mirai-HTTP Flooding       0.33      0.31      0.32        26\n",
      "Mirai-Hostbruteforceg       0.92      0.92      0.92        26\n",
      "   Mirai-UDP Flooding       0.77      0.65      0.71        26\n",
      "             Normal_I       0.92      0.96      0.94        25\n",
      "        Scan Hostport       0.80      0.80      0.80        25\n",
      "         Scan Port OS       0.80      0.80      0.80        25\n",
      "\n",
      "             accuracy                           0.76       230\n",
      "            macro avg       0.76      0.76      0.76       230\n",
      "         weighted avg       0.76      0.76      0.76       230\n",
      "\n",
      "[[26  0  0  0  0  0  0  0  0]\n",
      " [ 0 26  0  0  0  0  0  0  0]\n",
      " [ 0  0  9 12  1  3  0  0  0]\n",
      " [ 0  0 16  8  0  2  0  0  0]\n",
      " [ 0  0  0  0 24  0  2  0  0]\n",
      " [ 0  0  5  4  0 17  0  0  0]\n",
      " [ 0  0  0  0  1  0 24  0  0]\n",
      " [ 0  0  0  0  0  0  0 20  5]\n",
      " [ 0  0  0  0  0  0  0  5 20]]\n"
     ]
    }
   ],
   "source": [
    "from sklearn.svm import SVC\n",
    "a=SVC(kernel='linear', C=2.0)\n",
    "a_pred = a.fit(X_train, y_train)\n",
    "pred=a_pred.predict(X_test)\n",
    "print(accuracy_score(y_test,pred))\n",
    "print(classification_report(y_test,pred))\n",
    "print(confusion_matrix(y_test,pred))"
   ]
  },
  {
   "cell_type": "code",
   "execution_count": null,
   "metadata": {},
   "outputs": [],
   "source": []
  },
  {
   "cell_type": "code",
   "execution_count": null,
   "metadata": {},
   "outputs": [],
   "source": []
  },
  {
   "cell_type": "code",
   "execution_count": 175,
   "metadata": {},
   "outputs": [],
   "source": [
    "X_train, X_test, y_train, y_test = train_test_split(GF1, DataFTarget[\"Sub_Cat\"], test_size=0.15, random_state=1, stratify=DataFTarget[\"Sub_Cat\"], shuffle=True)"
   ]
  },
  {
   "cell_type": "code",
   "execution_count": 176,
   "metadata": {},
   "outputs": [
    {
     "name": "stdout",
     "output_type": "stream",
     "text": [
      "0.803921568627451\n",
      "                precision    recall  f1-score   support\n",
      "\n",
      "      Analysis       0.48      0.44      0.46        25\n",
      "      Backdoor       0.68      0.65      0.67        26\n",
      "           DoS       0.72      0.92      0.81        25\n",
      "      Exploits       0.88      0.81      0.84        26\n",
      "       Fuzzers       0.85      0.92      0.88        25\n",
      "       Generic       1.00      1.00      1.00        26\n",
      "        Normal       0.93      1.00      0.96        25\n",
      "Reconnaissance       0.90      0.69      0.78        26\n",
      "     Shellcode       0.79      0.73      0.76        26\n",
      "         Worms       0.81      0.88      0.85        25\n",
      "\n",
      "      accuracy                           0.80       255\n",
      "     macro avg       0.80      0.80      0.80       255\n",
      "  weighted avg       0.80      0.80      0.80       255\n",
      "\n",
      "[[11  8  3  2  0  0  0  1  0  0]\n",
      " [ 8 17  0  0  0  0  1  0  0  0]\n",
      " [ 1  0 23  0  0  0  0  1  0  0]\n",
      " [ 0  0  5 21  0  0  0  0  0  0]\n",
      " [ 2  0  0  0 23  0  0  0  0  0]\n",
      " [ 0  0  0  0  0 26  0  0  0  0]\n",
      " [ 0  0  0  0  0  0 25  0  0  0]\n",
      " [ 0  0  1  1  1  0  0 18  5  0]\n",
      " [ 1  0  0  0  1  0  0  0 19  5]\n",
      " [ 0  0  0  0  2  0  1  0  0 22]]\n"
     ]
    }
   ],
   "source": [
    "from sklearn.ensemble import GradientBoostingClassifier\n",
    "from sklearn.ensemble import RandomForestClassifier\n",
    "from sklearn.ensemble import ExtraTreesClassifier\n",
    "a =  RandomForestClassifier(n_estimators=200, random_state=2,max_depth=150) \n",
    "a_pred = a.fit(X_train, y_train)\n",
    "pred=a_pred.predict(X_test)\n",
    "print(accuracy_score(y_test,pred))\n",
    "print(classification_report(y_test,pred))\n",
    "print(confusion_matrix(y_test,pred))\n"
   ]
  },
  {
   "cell_type": "code",
   "execution_count": 177,
   "metadata": {},
   "outputs": [
    {
     "name": "stdout",
     "output_type": "stream",
     "text": [
      "0.8156862745098039\n",
      "                precision    recall  f1-score   support\n",
      "\n",
      "      Analysis       0.62      0.52      0.57        25\n",
      "      Backdoor       0.71      0.77      0.74        26\n",
      "           DoS       0.71      0.88      0.79        25\n",
      "      Exploits       0.88      0.81      0.84        26\n",
      "       Fuzzers       0.92      0.88      0.90        25\n",
      "       Generic       1.00      1.00      1.00        26\n",
      "        Normal       0.93      1.00      0.96        25\n",
      "Reconnaissance       0.90      0.69      0.78        26\n",
      "     Shellcode       0.75      0.69      0.72        26\n",
      "         Worms       0.77      0.92      0.84        25\n",
      "\n",
      "      accuracy                           0.82       255\n",
      "     macro avg       0.82      0.82      0.81       255\n",
      "  weighted avg       0.82      0.82      0.81       255\n",
      "\n",
      "[[13  8  3  0  0  0  0  1  0  0]\n",
      " [ 5 20  0  0  0  0  1  0  0  0]\n",
      " [ 2  0 22  0  0  0  0  1  0  0]\n",
      " [ 0  0  5 21  0  0  0  0  0  0]\n",
      " [ 1  0  0  2 22  0  0  0  0  0]\n",
      " [ 0  0  0  0  0 26  0  0  0  0]\n",
      " [ 0  0  0  0  0  0 25  0  0  0]\n",
      " [ 0  0  1  1  0  0  0 18  6  0]\n",
      " [ 0  0  0  0  1  0  0  0 18  7]\n",
      " [ 0  0  0  0  1  0  1  0  0 23]]\n"
     ]
    }
   ],
   "source": [
    "from sklearn.ensemble import GradientBoostingClassifier\n",
    "from sklearn.ensemble import RandomForestClassifier\n",
    "from sklearn.ensemble import ExtraTreesClassifier\n",
    "a =  ExtraTreesClassifier(n_estimators=200, random_state=2,max_depth=150) \n",
    "a_pred = a.fit(X_train, y_train)\n",
    "pred=a_pred.predict(X_test)\n",
    "print(accuracy_score(y_test,pred))\n",
    "print(classification_report(y_test,pred))\n",
    "print(confusion_matrix(y_test,pred))"
   ]
  },
  {
   "cell_type": "code",
   "execution_count": 178,
   "metadata": {},
   "outputs": [
    {
     "name": "stdout",
     "output_type": "stream",
     "text": [
      "0.7843137254901961\n",
      "                precision    recall  f1-score   support\n",
      "\n",
      "      Analysis       0.70      0.64      0.67        25\n",
      "      Backdoor       0.76      0.73      0.75        26\n",
      "           DoS       0.67      0.88      0.76        25\n",
      "      Exploits       0.68      0.73      0.70        26\n",
      "       Fuzzers       0.83      0.80      0.82        25\n",
      "       Generic       1.00      1.00      1.00        26\n",
      "        Normal       0.96      0.96      0.96        25\n",
      "Reconnaissance       0.89      0.65      0.76        26\n",
      "     Shellcode       0.69      0.69      0.69        26\n",
      "         Worms       0.73      0.76      0.75        25\n",
      "\n",
      "      accuracy                           0.78       255\n",
      "     macro avg       0.79      0.78      0.78       255\n",
      "  weighted avg       0.79      0.78      0.78       255\n",
      "\n",
      "[[16  6  3  0  0  0  0  0  0  0]\n",
      " [ 6 19  0  1  0  0  0  0  0  0]\n",
      " [ 1  0 22  1  0  0  0  1  0  0]\n",
      " [ 0  0  7 19  0  0  0  0  0  0]\n",
      " [ 0  0  0  4 20  0  0  0  1  0]\n",
      " [ 0  0  0  0  0 26  0  0  0  0]\n",
      " [ 0  0  0  1  0  0 24  0  0  0]\n",
      " [ 0  0  1  2  1  0  0 17  5  0]\n",
      " [ 0  0  0  0  0  0  0  1 18  7]\n",
      " [ 0  0  0  0  3  0  1  0  2 19]]\n"
     ]
    }
   ],
   "source": [
    "from sklearn.neighbors import KNeighborsClassifier\n",
    "a = KNeighborsClassifier(n_neighbors=5)\n",
    "a_pred = a.fit(X_train, y_train)\n",
    "pred=a_pred.predict(X_test)\n",
    "print(accuracy_score(y_test,pred))\n",
    "print(classification_report(y_test,pred))\n",
    "print(confusion_matrix(y_test,pred))"
   ]
  },
  {
   "cell_type": "code",
   "execution_count": 179,
   "metadata": {},
   "outputs": [
    {
     "name": "stdout",
     "output_type": "stream",
     "text": [
      "0.796078431372549\n",
      "                precision    recall  f1-score   support\n",
      "\n",
      "      Analysis       0.61      0.44      0.51        25\n",
      "      Backdoor       0.71      0.77      0.74        26\n",
      "           DoS       0.65      0.96      0.77        25\n",
      "      Exploits       0.77      0.65      0.71        26\n",
      "       Fuzzers       0.96      0.92      0.94        25\n",
      "       Generic       1.00      1.00      1.00        26\n",
      "        Normal       0.96      1.00      0.98        25\n",
      "Reconnaissance       0.79      0.73      0.76        26\n",
      "     Shellcode       0.75      0.58      0.65        26\n",
      "         Worms       0.77      0.92      0.84        25\n",
      "\n",
      "      accuracy                           0.80       255\n",
      "     macro avg       0.80      0.80      0.79       255\n",
      "  weighted avg       0.80      0.80      0.79       255\n",
      "\n",
      "[[11  8  3  2  0  0  0  1  0  0]\n",
      " [ 5 20  0  0  0  0  1  0  0  0]\n",
      " [ 0  0 24  1  0  0  0  0  0  0]\n",
      " [ 0  0  8 17  0  0  0  1  0  0]\n",
      " [ 0  0  0  1 23  0  0  0  0  1]\n",
      " [ 0  0  0  0  0 26  0  0  0  0]\n",
      " [ 0  0  0  0  0  0 25  0  0  0]\n",
      " [ 1  0  2  0  0  0  0 19  4  0]\n",
      " [ 1  0  0  1  0  0  0  3 15  6]\n",
      " [ 0  0  0  0  1  0  0  0  1 23]]\n"
     ]
    }
   ],
   "source": [
    "from sklearn.svm import SVC\n",
    "a=SVC(kernel='linear', C=2.0)\n",
    "a_pred = a.fit(X_train, y_train)\n",
    "pred=a_pred.predict(X_test)\n",
    "print(accuracy_score(y_test,pred))\n",
    "print(classification_report(y_test,pred))\n",
    "print(confusion_matrix(y_test,pred))"
   ]
  },
  {
   "cell_type": "code",
   "execution_count": null,
   "metadata": {},
   "outputs": [],
   "source": []
  },
  {
   "cell_type": "code",
   "execution_count": null,
   "metadata": {},
   "outputs": [],
   "source": []
  },
  {
   "cell_type": "code",
   "execution_count": null,
   "metadata": {},
   "outputs": [],
   "source": []
  },
  {
   "cell_type": "code",
   "execution_count": null,
   "metadata": {},
   "outputs": [],
   "source": []
  },
  {
   "cell_type": "code",
   "execution_count": null,
   "metadata": {},
   "outputs": [],
   "source": []
  },
  {
   "cell_type": "code",
   "execution_count": null,
   "metadata": {},
   "outputs": [],
   "source": []
  },
  {
   "cell_type": "code",
   "execution_count": null,
   "metadata": {},
   "outputs": [],
   "source": []
  },
  {
   "cell_type": "code",
   "execution_count": null,
   "metadata": {},
   "outputs": [],
   "source": []
  },
  {
   "cell_type": "code",
   "execution_count": null,
   "metadata": {},
   "outputs": [],
   "source": []
  }
 ],
 "metadata": {
  "accelerator": "GPU",
  "colab": {
   "collapsed_sections": [],
   "name": "Networks.ipynb",
   "provenance": []
  },
  "kernelspec": {
   "display_name": "Python 3 (ipykernel)",
   "language": "python",
   "name": "python3"
  },
  "language_info": {
   "codemirror_mode": {
    "name": "ipython",
    "version": 3
   },
   "file_extension": ".py",
   "mimetype": "text/x-python",
   "name": "python",
   "nbconvert_exporter": "python",
   "pygments_lexer": "ipython3",
   "version": "3.9.7"
  }
 },
 "nbformat": 4,
 "nbformat_minor": 1
}
