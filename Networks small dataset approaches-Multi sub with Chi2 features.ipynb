{
 "cells": [
  {
   "cell_type": "code",
   "execution_count": 1,
   "metadata": {
    "id": "bGp5HtLQUutS"
   },
   "outputs": [],
   "source": [
    "import matplotlib\n",
    "import numpy as np\n",
    "import pandas as pd\n",
    "import seaborn as sns\n",
    "import matplotlib.pyplot as plt\n",
    "%matplotlib inline\n",
    "import sys, cv2, glob, os, time\n",
    "import pandas as pd \n",
    "import io\n",
    "import numpy as np\n",
    "from keras.datasets import mnist\n",
    "from keras.layers import Input, Dense, Reshape, Flatten,Activation\n",
    "from keras.layers.advanced_activations import LeakyReLU\n",
    "from keras.models import Sequential, Model\n",
    "import numpy as np # linear algebra\n",
    "\n",
    "import pandas as pd # data processing, CSV file I/O (e.g. pd.read_csv)\n",
    "import matplotlib.pyplot as plt\n",
    "# Input data files are available in the \"../input/\" directory.\n",
    "# For example, running this (by clicking run or pressing Shift+Enter) will list the files in the input directory\n",
    "\n",
    "from sklearn.metrics import accuracy_score\n",
    "from sklearn.metrics import classification_report\n",
    "from sklearn.metrics import confusion_matrix\n",
    "\n",
    "import os\n",
    "import glob\n",
    "import cv2\n",
    "import tensorflow as tf\n",
    "from keras import layers\n",
    "from keras.layers import Dropout , Input, Add, Dense, Activation, ZeroPadding2D, BatchNormalization, Flatten, Conv2D, AveragePooling2D, MaxPooling2D, GlobalMaxPooling2D\n",
    "from keras.models import Model, load_model\n",
    "from keras.initializers import glorot_uniform\n",
    "from sklearn.model_selection import train_test_split\n",
    "import keras.backend as K\n",
    "from sklearn.utils import shuffle\n",
    "# importing all necessary libraries to run the code\n",
    "import re,string\n",
    "import numpy as np\n",
    "import pandas as pd\n",
    "import keras_metrics\n",
    "import tensorflow.keras\n",
    "import matplotlib.pyplot as plt\n",
    "from nltk.corpus import stopwords\n",
    "from keras.models import Sequential\n",
    "from sklearn.model_selection import train_test_split\n",
    "from keras.layers import Dense, Flatten, LSTM, Conv1D, MaxPooling1D, Dropout, Activation,Embedding\n",
    "# using the variable sw to hold all stopwords that are in English\n",
    "sw = stopwords.words('english')\n",
    "import matplotlib.pyplot as plt"
   ]
  },
  {
   "cell_type": "code",
   "execution_count": 2,
   "metadata": {
    "colab": {
     "base_uri": "https://localhost:8080/",
     "height": 209
    },
    "executionInfo": {
     "elapsed": 1031,
     "status": "error",
     "timestamp": 1613850176797,
     "user": {
      "displayName": "Furqan Rustam",
      "photoUrl": "https://lh3.googleusercontent.com/a-/AOh14Gg5oat7XG884rtNww-Dgt4sEfDMp6vxfwes8ntbog=s64",
      "userId": "11638408104830397330"
     },
     "user_tz": -300
    },
    "id": "I_eCH0gZUutc",
    "outputId": "c40209f1-512e-4a44-f1fe-683fc998a4f5"
   },
   "outputs": [],
   "source": [
    "dataUN=pd.read_csv('UNSW_NB15_testing-set.csv')\n",
    "dataUN1=pd.read_csv('UNSW_NB15_training-set.csv')\n",
    "\n",
    "dataI=pd.read_csv('IoT Network Intrusion Dataset.csv')"
   ]
  },
  {
   "cell_type": "code",
   "execution_count": 3,
   "metadata": {
    "id": "i2xozs5Foeeo"
   },
   "outputs": [
    {
     "data": {
      "text/html": [
       "<div>\n",
       "<style scoped>\n",
       "    .dataframe tbody tr th:only-of-type {\n",
       "        vertical-align: middle;\n",
       "    }\n",
       "\n",
       "    .dataframe tbody tr th {\n",
       "        vertical-align: top;\n",
       "    }\n",
       "\n",
       "    .dataframe thead th {\n",
       "        text-align: right;\n",
       "    }\n",
       "</style>\n",
       "<table border=\"1\" class=\"dataframe\">\n",
       "  <thead>\n",
       "    <tr style=\"text-align: right;\">\n",
       "      <th></th>\n",
       "      <th>id</th>\n",
       "      <th>dur</th>\n",
       "      <th>proto</th>\n",
       "      <th>service</th>\n",
       "      <th>state</th>\n",
       "      <th>spkts</th>\n",
       "      <th>dpkts</th>\n",
       "      <th>sbytes</th>\n",
       "      <th>dbytes</th>\n",
       "      <th>rate</th>\n",
       "      <th>...</th>\n",
       "      <th>ct_dst_sport_ltm</th>\n",
       "      <th>ct_dst_src_ltm</th>\n",
       "      <th>is_ftp_login</th>\n",
       "      <th>ct_ftp_cmd</th>\n",
       "      <th>ct_flw_http_mthd</th>\n",
       "      <th>ct_src_ltm</th>\n",
       "      <th>ct_srv_dst</th>\n",
       "      <th>is_sm_ips_ports</th>\n",
       "      <th>attack_cat</th>\n",
       "      <th>label</th>\n",
       "    </tr>\n",
       "  </thead>\n",
       "  <tbody>\n",
       "    <tr>\n",
       "      <th>0</th>\n",
       "      <td>1</td>\n",
       "      <td>0.000011</td>\n",
       "      <td>udp</td>\n",
       "      <td>-</td>\n",
       "      <td>INT</td>\n",
       "      <td>2</td>\n",
       "      <td>0</td>\n",
       "      <td>496</td>\n",
       "      <td>0</td>\n",
       "      <td>90909.0902</td>\n",
       "      <td>...</td>\n",
       "      <td>1</td>\n",
       "      <td>2</td>\n",
       "      <td>0</td>\n",
       "      <td>0</td>\n",
       "      <td>0</td>\n",
       "      <td>1</td>\n",
       "      <td>2</td>\n",
       "      <td>0</td>\n",
       "      <td>Normal</td>\n",
       "      <td>0</td>\n",
       "    </tr>\n",
       "    <tr>\n",
       "      <th>1</th>\n",
       "      <td>2</td>\n",
       "      <td>0.000008</td>\n",
       "      <td>udp</td>\n",
       "      <td>-</td>\n",
       "      <td>INT</td>\n",
       "      <td>2</td>\n",
       "      <td>0</td>\n",
       "      <td>1762</td>\n",
       "      <td>0</td>\n",
       "      <td>125000.0003</td>\n",
       "      <td>...</td>\n",
       "      <td>1</td>\n",
       "      <td>2</td>\n",
       "      <td>0</td>\n",
       "      <td>0</td>\n",
       "      <td>0</td>\n",
       "      <td>1</td>\n",
       "      <td>2</td>\n",
       "      <td>0</td>\n",
       "      <td>Normal</td>\n",
       "      <td>0</td>\n",
       "    </tr>\n",
       "  </tbody>\n",
       "</table>\n",
       "<p>2 rows × 45 columns</p>\n",
       "</div>"
      ],
      "text/plain": [
       "   id       dur proto service state  spkts  dpkts  sbytes  dbytes  \\\n",
       "0   1  0.000011   udp       -   INT      2      0     496       0   \n",
       "1   2  0.000008   udp       -   INT      2      0    1762       0   \n",
       "\n",
       "          rate  ...  ct_dst_sport_ltm  ct_dst_src_ltm  is_ftp_login  \\\n",
       "0   90909.0902  ...                 1               2             0   \n",
       "1  125000.0003  ...                 1               2             0   \n",
       "\n",
       "   ct_ftp_cmd  ct_flw_http_mthd  ct_src_ltm  ct_srv_dst  is_sm_ips_ports  \\\n",
       "0           0                 0           1           2                0   \n",
       "1           0                 0           1           2                0   \n",
       "\n",
       "   attack_cat  label  \n",
       "0      Normal      0  \n",
       "1      Normal      0  \n",
       "\n",
       "[2 rows x 45 columns]"
      ]
     },
     "execution_count": 3,
     "metadata": {},
     "output_type": "execute_result"
    }
   ],
   "source": [
    "dataUN1[:2]"
   ]
  },
  {
   "cell_type": "code",
   "execution_count": 4,
   "metadata": {
    "id": "sdFAPPHIhG2a"
   },
   "outputs": [
    {
     "data": {
      "text/html": [
       "<div>\n",
       "<style scoped>\n",
       "    .dataframe tbody tr th:only-of-type {\n",
       "        vertical-align: middle;\n",
       "    }\n",
       "\n",
       "    .dataframe tbody tr th {\n",
       "        vertical-align: top;\n",
       "    }\n",
       "\n",
       "    .dataframe thead th {\n",
       "        text-align: right;\n",
       "    }\n",
       "</style>\n",
       "<table border=\"1\" class=\"dataframe\">\n",
       "  <thead>\n",
       "    <tr style=\"text-align: right;\">\n",
       "      <th></th>\n",
       "      <th>Flow_ID</th>\n",
       "      <th>Src_IP</th>\n",
       "      <th>Src_Port</th>\n",
       "      <th>Dst_IP</th>\n",
       "      <th>Dst_Port</th>\n",
       "      <th>Protocol</th>\n",
       "      <th>Timestamp</th>\n",
       "      <th>Flow_Duration</th>\n",
       "      <th>Tot_Fwd_Pkts</th>\n",
       "      <th>Tot_Bwd_Pkts</th>\n",
       "      <th>...</th>\n",
       "      <th>Active_Std</th>\n",
       "      <th>Active_Max</th>\n",
       "      <th>Active_Min</th>\n",
       "      <th>Idle_Mean</th>\n",
       "      <th>Idle_Std</th>\n",
       "      <th>Idle_Max</th>\n",
       "      <th>Idle_Min</th>\n",
       "      <th>Label</th>\n",
       "      <th>Cat</th>\n",
       "      <th>Sub_Cat</th>\n",
       "    </tr>\n",
       "  </thead>\n",
       "  <tbody>\n",
       "    <tr>\n",
       "      <th>0</th>\n",
       "      <td>192.168.0.13-192.168.0.16-10000-10101-17</td>\n",
       "      <td>192.168.0.13</td>\n",
       "      <td>10000</td>\n",
       "      <td>192.168.0.16</td>\n",
       "      <td>10101</td>\n",
       "      <td>17</td>\n",
       "      <td>25/07/2019 03:25:53 AM</td>\n",
       "      <td>75</td>\n",
       "      <td>1</td>\n",
       "      <td>1</td>\n",
       "      <td>...</td>\n",
       "      <td>0.0</td>\n",
       "      <td>0.0</td>\n",
       "      <td>0.0</td>\n",
       "      <td>75.0</td>\n",
       "      <td>0.000000</td>\n",
       "      <td>75.0</td>\n",
       "      <td>75.0</td>\n",
       "      <td>Anomaly</td>\n",
       "      <td>Mirai</td>\n",
       "      <td>Mirai-Ackflooding</td>\n",
       "    </tr>\n",
       "    <tr>\n",
       "      <th>1</th>\n",
       "      <td>192.168.0.13-222.160.179.132-554-2179-6</td>\n",
       "      <td>222.160.179.132</td>\n",
       "      <td>2179</td>\n",
       "      <td>192.168.0.13</td>\n",
       "      <td>554</td>\n",
       "      <td>6</td>\n",
       "      <td>26/05/2019 10:11:06 PM</td>\n",
       "      <td>5310</td>\n",
       "      <td>1</td>\n",
       "      <td>2</td>\n",
       "      <td>...</td>\n",
       "      <td>0.0</td>\n",
       "      <td>0.0</td>\n",
       "      <td>0.0</td>\n",
       "      <td>2655.0</td>\n",
       "      <td>2261.327486</td>\n",
       "      <td>4254.0</td>\n",
       "      <td>1056.0</td>\n",
       "      <td>Anomaly</td>\n",
       "      <td>DoS</td>\n",
       "      <td>DoS-Synflooding</td>\n",
       "    </tr>\n",
       "  </tbody>\n",
       "</table>\n",
       "<p>2 rows × 86 columns</p>\n",
       "</div>"
      ],
      "text/plain": [
       "                                    Flow_ID           Src_IP  Src_Port  \\\n",
       "0  192.168.0.13-192.168.0.16-10000-10101-17     192.168.0.13     10000   \n",
       "1   192.168.0.13-222.160.179.132-554-2179-6  222.160.179.132      2179   \n",
       "\n",
       "         Dst_IP  Dst_Port  Protocol               Timestamp  Flow_Duration  \\\n",
       "0  192.168.0.16     10101        17  25/07/2019 03:25:53 AM             75   \n",
       "1  192.168.0.13       554         6  26/05/2019 10:11:06 PM           5310   \n",
       "\n",
       "   Tot_Fwd_Pkts  Tot_Bwd_Pkts  ...  Active_Std  Active_Max  Active_Min  \\\n",
       "0             1             1  ...         0.0         0.0         0.0   \n",
       "1             1             2  ...         0.0         0.0         0.0   \n",
       "\n",
       "   Idle_Mean     Idle_Std  Idle_Max  Idle_Min    Label    Cat  \\\n",
       "0       75.0     0.000000      75.0      75.0  Anomaly  Mirai   \n",
       "1     2655.0  2261.327486    4254.0    1056.0  Anomaly    DoS   \n",
       "\n",
       "             Sub_Cat  \n",
       "0  Mirai-Ackflooding  \n",
       "1    DoS-Synflooding  \n",
       "\n",
       "[2 rows x 86 columns]"
      ]
     },
     "execution_count": 4,
     "metadata": {},
     "output_type": "execute_result"
    }
   ],
   "source": [
    "dataI[:2]"
   ]
  },
  {
   "cell_type": "code",
   "execution_count": 5,
   "metadata": {},
   "outputs": [],
   "source": [
    "dataF=dataUN.append(dataUN1,ignore_index = True) "
   ]
  },
  {
   "cell_type": "code",
   "execution_count": 6,
   "metadata": {},
   "outputs": [
    {
     "data": {
      "text/html": [
       "<div>\n",
       "<style scoped>\n",
       "    .dataframe tbody tr th:only-of-type {\n",
       "        vertical-align: middle;\n",
       "    }\n",
       "\n",
       "    .dataframe tbody tr th {\n",
       "        vertical-align: top;\n",
       "    }\n",
       "\n",
       "    .dataframe thead th {\n",
       "        text-align: right;\n",
       "    }\n",
       "</style>\n",
       "<table border=\"1\" class=\"dataframe\">\n",
       "  <thead>\n",
       "    <tr style=\"text-align: right;\">\n",
       "      <th></th>\n",
       "      <th>id</th>\n",
       "      <th>dur</th>\n",
       "      <th>proto</th>\n",
       "      <th>service</th>\n",
       "      <th>state</th>\n",
       "      <th>spkts</th>\n",
       "      <th>dpkts</th>\n",
       "      <th>sbytes</th>\n",
       "      <th>dbytes</th>\n",
       "      <th>rate</th>\n",
       "      <th>...</th>\n",
       "      <th>ct_dst_sport_ltm</th>\n",
       "      <th>ct_dst_src_ltm</th>\n",
       "      <th>is_ftp_login</th>\n",
       "      <th>ct_ftp_cmd</th>\n",
       "      <th>ct_flw_http_mthd</th>\n",
       "      <th>ct_src_ltm</th>\n",
       "      <th>ct_srv_dst</th>\n",
       "      <th>is_sm_ips_ports</th>\n",
       "      <th>attack_cat</th>\n",
       "      <th>label</th>\n",
       "    </tr>\n",
       "  </thead>\n",
       "  <tbody>\n",
       "    <tr>\n",
       "      <th>0</th>\n",
       "      <td>1</td>\n",
       "      <td>0.121478</td>\n",
       "      <td>tcp</td>\n",
       "      <td>-</td>\n",
       "      <td>FIN</td>\n",
       "      <td>6</td>\n",
       "      <td>4</td>\n",
       "      <td>258</td>\n",
       "      <td>172</td>\n",
       "      <td>74.087490</td>\n",
       "      <td>...</td>\n",
       "      <td>1</td>\n",
       "      <td>1</td>\n",
       "      <td>0</td>\n",
       "      <td>0</td>\n",
       "      <td>0</td>\n",
       "      <td>1</td>\n",
       "      <td>1</td>\n",
       "      <td>0</td>\n",
       "      <td>Normal</td>\n",
       "      <td>0</td>\n",
       "    </tr>\n",
       "    <tr>\n",
       "      <th>1</th>\n",
       "      <td>2</td>\n",
       "      <td>0.649902</td>\n",
       "      <td>tcp</td>\n",
       "      <td>-</td>\n",
       "      <td>FIN</td>\n",
       "      <td>14</td>\n",
       "      <td>38</td>\n",
       "      <td>734</td>\n",
       "      <td>42014</td>\n",
       "      <td>78.473372</td>\n",
       "      <td>...</td>\n",
       "      <td>1</td>\n",
       "      <td>2</td>\n",
       "      <td>0</td>\n",
       "      <td>0</td>\n",
       "      <td>0</td>\n",
       "      <td>1</td>\n",
       "      <td>6</td>\n",
       "      <td>0</td>\n",
       "      <td>Normal</td>\n",
       "      <td>0</td>\n",
       "    </tr>\n",
       "  </tbody>\n",
       "</table>\n",
       "<p>2 rows × 45 columns</p>\n",
       "</div>"
      ],
      "text/plain": [
       "   id       dur proto service state  spkts  dpkts  sbytes  dbytes       rate  \\\n",
       "0   1  0.121478   tcp       -   FIN      6      4     258     172  74.087490   \n",
       "1   2  0.649902   tcp       -   FIN     14     38     734   42014  78.473372   \n",
       "\n",
       "   ...  ct_dst_sport_ltm  ct_dst_src_ltm  is_ftp_login  ct_ftp_cmd  \\\n",
       "0  ...                 1               1             0           0   \n",
       "1  ...                 1               2             0           0   \n",
       "\n",
       "   ct_flw_http_mthd  ct_src_ltm  ct_srv_dst  is_sm_ips_ports  attack_cat  \\\n",
       "0                 0           1           1                0      Normal   \n",
       "1                 0           1           6                0      Normal   \n",
       "\n",
       "   label  \n",
       "0      0  \n",
       "1      0  \n",
       "\n",
       "[2 rows x 45 columns]"
      ]
     },
     "execution_count": 6,
     "metadata": {},
     "output_type": "execute_result"
    }
   ],
   "source": [
    "dataF[:2]"
   ]
  },
  {
   "cell_type": "code",
   "execution_count": 7,
   "metadata": {
    "colab": {
     "base_uri": "https://localhost:8080/"
    },
    "executionInfo": {
     "elapsed": 1709,
     "status": "ok",
     "timestamp": 1613817618622,
     "user": {
      "displayName": "Furqan Rustam",
      "photoUrl": "https://lh3.googleusercontent.com/a-/AOh14Gg5oat7XG884rtNww-Dgt4sEfDMp6vxfwes8ntbog=s64",
      "userId": "11638408104830397330"
     },
     "user_tz": -300
    },
    "id": "fHghBFAjUA3p",
    "outputId": "af01a87d-e42d-48fc-c2db-88e18449c291"
   },
   "outputs": [
    {
     "data": {
      "text/plain": [
       "Counter({'Mirai-Ackflooding': 55124,\n",
       "         'DoS-Synflooding': 59391,\n",
       "         'Scan Port OS': 53073,\n",
       "         'Mirai-Hostbruteforceg': 121181,\n",
       "         'Mirai-UDP Flooding': 183554,\n",
       "         'Mirai-HTTP Flooding': 55818,\n",
       "         'Normal': 40073,\n",
       "         'Scan Hostport': 22192,\n",
       "         'MITM ARP Spoofing': 35377})"
      ]
     },
     "execution_count": 7,
     "metadata": {},
     "output_type": "execute_result"
    }
   ],
   "source": [
    "from collections import Counter\n",
    "Counter(dataI[\"Sub_Cat\"])"
   ]
  },
  {
   "cell_type": "code",
   "execution_count": 8,
   "metadata": {},
   "outputs": [
    {
     "data": {
      "text/plain": [
       "Counter({'Normal': 93000,\n",
       "         'Backdoor': 2329,\n",
       "         'Analysis': 2677,\n",
       "         'Fuzzers': 24246,\n",
       "         'Shellcode': 1511,\n",
       "         'Reconnaissance': 13987,\n",
       "         'Exploits': 44525,\n",
       "         'DoS': 16353,\n",
       "         'Worms': 174,\n",
       "         'Generic': 58871})"
      ]
     },
     "execution_count": 8,
     "metadata": {},
     "output_type": "execute_result"
    }
   ],
   "source": [
    "from collections import Counter\n",
    "Counter(dataF[\"attack_cat\"])"
   ]
  },
  {
   "cell_type": "code",
   "execution_count": 9,
   "metadata": {
    "colab": {
     "base_uri": "https://localhost:8080/",
     "height": 132
    },
    "executionInfo": {
     "elapsed": 1037,
     "status": "ok",
     "timestamp": 1613817622054,
     "user": {
      "displayName": "Furqan Rustam",
      "photoUrl": "https://lh3.googleusercontent.com/a-/AOh14Gg5oat7XG884rtNww-Dgt4sEfDMp6vxfwes8ntbog=s64",
      "userId": "11638408104830397330"
     },
     "user_tz": -300
    },
    "id": "6w8w6BTZq7uQ",
    "outputId": "12a116b3-d0c6-488f-af3c-d3b1d618a08e"
   },
   "outputs": [
    {
     "data": {
      "text/plain": [
       "Counter({'Anomaly': 585710, 'Normal': 40073})"
      ]
     },
     "execution_count": 9,
     "metadata": {},
     "output_type": "execute_result"
    }
   ],
   "source": [
    "from collections import Counter\n",
    "Counter(dataI[\"Label\"])"
   ]
  },
  {
   "cell_type": "code",
   "execution_count": 10,
   "metadata": {},
   "outputs": [
    {
     "name": "stdout",
     "output_type": "stream",
     "text": [
      "93000\n",
      "2329\n",
      "2677\n",
      "24246\n",
      "1511\n",
      "13987\n",
      "44525\n",
      "16353\n",
      "174\n",
      "58871\n",
      "55124\n",
      "59391\n",
      "53073\n",
      "121181\n",
      "183554\n",
      "55818\n",
      "22192\n",
      "35377\n",
      "40073\n"
     ]
    }
   ],
   "source": [
    "dataF1=dataF.loc[dataF['attack_cat'] == \"Normal\"]\n",
    "print(len(dataF1))\n",
    "dataF2=dataF.loc[dataF['attack_cat'] == \"Backdoor\"]\n",
    "print(len(dataF2))\n",
    "dataF3=dataF.loc[dataF['attack_cat'] == \"Analysis\"]\n",
    "print(len(dataF3))\n",
    "dataF4=dataF.loc[dataF['attack_cat'] == \"Fuzzers\"]\n",
    "print(len(dataF4))\n",
    "dataF5=dataF.loc[dataF['attack_cat'] == \"Shellcode\"]\n",
    "print(len(dataF5))\n",
    "dataF6=dataF.loc[dataF['attack_cat'] == \"Reconnaissance\"]\n",
    "print(len(dataF6))\n",
    "dataF7=dataF.loc[dataF['attack_cat'] == \"Exploits\"]\n",
    "print(len(dataF7))\n",
    "dataF8=dataF.loc[dataF['attack_cat'] == \"DoS\"]\n",
    "print(len(dataF8))\n",
    "dataF9=dataF.loc[dataF['attack_cat'] == \"Worms\"]\n",
    "print(len(dataF9))\n",
    "dataF10=dataF.loc[dataF['attack_cat'] == \"Generic\"]\n",
    "print(len(dataF10))\n",
    "\n",
    "\n",
    "\n",
    "dataI1=dataI.loc[dataI['Sub_Cat'] == 'Mirai-Ackflooding']\n",
    "print(len(dataI1))\n",
    "dataI2=dataI.loc[dataI['Sub_Cat'] == 'DoS-Synflooding']\n",
    "print(len(dataI2))\n",
    "dataI3=dataI.loc[dataI['Sub_Cat'] == 'Scan Port OS']\n",
    "print(len(dataI3))\n",
    "dataI4=dataI.loc[dataI['Sub_Cat'] == 'Mirai-Hostbruteforceg']\n",
    "print(len(dataI4))\n",
    "\n",
    "dataI5=dataI.loc[dataI['Sub_Cat'] == 'Mirai-UDP Flooding']\n",
    "print(len(dataI5))\n",
    "dataI6=dataI.loc[dataI['Sub_Cat'] == 'Mirai-HTTP Flooding']\n",
    "print(len(dataI6))\n",
    "\n",
    "dataI7=dataI.loc[dataI['Sub_Cat'] == 'Scan Hostport']\n",
    "print(len(dataI7))\n",
    "dataI8=dataI.loc[dataI['Sub_Cat'] == 'MITM ARP Spoofing']\n",
    "print(len(dataI8))\n",
    "\n",
    "dataI9=dataI.loc[dataI['Sub_Cat'] == 'Normal']\n",
    "print(len(dataI9))\n",
    "\n"
   ]
  },
  {
   "cell_type": "code",
   "execution_count": 11,
   "metadata": {},
   "outputs": [],
   "source": [
    "dataF1=dataF1[0:170]\n",
    "dataF2=dataF2[0:170]\n",
    "dataF3=dataF3[0:170]\n",
    "dataF4=dataF4[0:170]\n",
    "dataF5=dataF5[0:170]\n",
    "dataF6=dataF6[0:170]\n",
    "dataF7=dataF7[0:170]\n",
    "dataF8=dataF8[0:170]\n",
    "dataF9=dataF9[0:170]\n",
    "dataF10=dataF10[0:170]\n",
    "\n",
    "\n",
    "dataI1=dataI1[0:170]\n",
    "dataI2=dataI2[0:170]\n",
    "dataI3=dataI3[0:170]\n",
    "dataI4=dataI4[0:170]\n",
    "dataI5=dataI5[0:170]\n",
    "dataI6=dataI6[0:170]\n",
    "dataI7=dataI7[0:170]\n",
    "dataI8=dataI8[0:170]\n",
    "dataI9=dataI9[0:170]\n"
   ]
  },
  {
   "cell_type": "code",
   "execution_count": null,
   "metadata": {},
   "outputs": [],
   "source": []
  },
  {
   "cell_type": "code",
   "execution_count": 12,
   "metadata": {},
   "outputs": [],
   "source": [
    "dataF=dataF1.append(dataF2,ignore_index = True)\n",
    "dataF=dataF.append(dataF3,ignore_index = True) \n",
    "dataF=dataF.append(dataF4,ignore_index = True) \n",
    "dataF=dataF.append(dataF5,ignore_index = True) \n",
    "dataF=dataF.append(dataF6,ignore_index = True) \n",
    "dataF=dataF.append(dataF7,ignore_index = True) \n",
    "dataF=dataF.append(dataF8,ignore_index = True) \n",
    "dataF=dataF.append(dataF9,ignore_index = True) \n",
    "dataF=dataF.append(dataF10,ignore_index = True) \n",
    "\n",
    "dataI=dataI1.append(dataI2,ignore_index = True)\n",
    "dataI=dataI.append(dataI3,ignore_index = True)\n",
    "dataI=dataI.append(dataI4,ignore_index = True)\n",
    "dataI=dataI.append(dataI5,ignore_index = True)\n",
    "dataI=dataI.append(dataI6,ignore_index = True)\n",
    "dataI=dataI.append(dataI7,ignore_index = True)\n",
    "dataI=dataI.append(dataI8,ignore_index = True)\n",
    "dataI=dataI.append(dataI9,ignore_index = True)"
   ]
  },
  {
   "cell_type": "code",
   "execution_count": 13,
   "metadata": {},
   "outputs": [
    {
     "data": {
      "text/plain": [
       "Counter({'Anomaly': 1360, 'Normal': 170})"
      ]
     },
     "execution_count": 13,
     "metadata": {},
     "output_type": "execute_result"
    }
   ],
   "source": [
    "from collections import Counter\n",
    "Counter(dataI[\"Label\"])"
   ]
  },
  {
   "cell_type": "code",
   "execution_count": 14,
   "metadata": {},
   "outputs": [
    {
     "data": {
      "text/plain": [
       "Counter({0: 170, 1: 1530})"
      ]
     },
     "execution_count": 14,
     "metadata": {},
     "output_type": "execute_result"
    }
   ],
   "source": [
    "from collections import Counter\n",
    "Counter(dataF[\"label\"])"
   ]
  },
  {
   "cell_type": "code",
   "execution_count": 15,
   "metadata": {},
   "outputs": [],
   "source": [
    "dataF.rename(columns = {'label':'Label'}, inplace = True)\n",
    "dataF.rename(columns = {'attack_cat':'Sub_Cat'}, inplace = True)"
   ]
  },
  {
   "cell_type": "code",
   "execution_count": 16,
   "metadata": {},
   "outputs": [],
   "source": [
    "DataITarget=dataI[[\"Label\",\"Cat\",\"Sub_Cat\"]]\n",
    "\n",
    "dataIFeatures=dataI.drop([\"Label\",\"Cat\",\"Sub_Cat\"], axis=1)\n",
    "\n",
    "DataFTarget=dataF[[\"Sub_Cat\",\"Label\"]]\n",
    "\n",
    "dataFFeatures=dataF.drop([\"Sub_Cat\",\"Label\"], axis=1)"
   ]
  },
  {
   "cell_type": "code",
   "execution_count": 17,
   "metadata": {},
   "outputs": [
    {
     "name": "stderr",
     "output_type": "stream",
     "text": [
      "C:\\Users\\SOHAIL~1\\AppData\\Local\\Temp/ipykernel_17632/4285179342.py:1: SettingWithCopyWarning: \n",
      "A value is trying to be set on a copy of a slice from a DataFrame.\n",
      "Try using .loc[row_indexer,col_indexer] = value instead\n",
      "\n",
      "See the caveats in the documentation: https://pandas.pydata.org/pandas-docs/stable/user_guide/indexing.html#returning-a-view-versus-a-copy\n",
      "  DataITarget[\"Sub_Cat\"]=DataITarget[\"Sub_Cat\"].replace('Normal','Normal_I')\n"
     ]
    }
   ],
   "source": [
    "DataITarget[\"Sub_Cat\"]=DataITarget[\"Sub_Cat\"].replace('Normal','Normal_I')"
   ]
  },
  {
   "cell_type": "code",
   "execution_count": 18,
   "metadata": {},
   "outputs": [
    {
     "data": {
      "text/plain": [
       "Counter({'Mirai-Ackflooding': 170,\n",
       "         'DoS-Synflooding': 170,\n",
       "         'Scan Port OS': 170,\n",
       "         'Mirai-Hostbruteforceg': 170,\n",
       "         'Mirai-UDP Flooding': 170,\n",
       "         'Mirai-HTTP Flooding': 170,\n",
       "         'Scan Hostport': 170,\n",
       "         'MITM ARP Spoofing': 170,\n",
       "         'Normal_I': 170})"
      ]
     },
     "execution_count": 18,
     "metadata": {},
     "output_type": "execute_result"
    }
   ],
   "source": [
    "from collections import Counter\n",
    "Counter(DataITarget[\"Sub_Cat\"])"
   ]
  },
  {
   "cell_type": "raw",
   "metadata": {},
   "source": [
    "from sklearn.preprocessing import OrdinalEncoder\n",
    "from sklearn.preprocessing import OneHotEncoder\n",
    "oe = OrdinalEncoder() \n",
    "ohe = OneHotEncoder()\n",
    "oe = OrdinalEncoder()\n",
    "ohe.fit(dataFFeatures)\n",
    "X_train_enc = ohe.transform(dataFFeatures)\n",
    "#dataFFeatures=dataFFeatures.apply(OrdinalEncoder().fit_transform)"
   ]
  },
  {
   "cell_type": "code",
   "execution_count": 19,
   "metadata": {},
   "outputs": [],
   "source": [
    "from sklearn import preprocessing \n",
    "from sklearn.preprocessing import LabelEncoder\n",
    "le = preprocessing.LabelEncoder()\n",
    "\n",
    "dataIFeatures=dataIFeatures.apply(LabelEncoder().fit_transform)"
   ]
  },
  {
   "cell_type": "code",
   "execution_count": 20,
   "metadata": {},
   "outputs": [],
   "source": [
    "dataFFeatures=dataFFeatures.apply(LabelEncoder().fit_transform)"
   ]
  },
  {
   "cell_type": "code",
   "execution_count": 21,
   "metadata": {},
   "outputs": [
    {
     "data": {
      "text/plain": [
       "1530"
      ]
     },
     "execution_count": 21,
     "metadata": {},
     "output_type": "execute_result"
    }
   ],
   "source": [
    "len(dataIFeatures)"
   ]
  },
  {
   "cell_type": "code",
   "execution_count": null,
   "metadata": {},
   "outputs": [],
   "source": []
  },
  {
   "cell_type": "code",
   "execution_count": 22,
   "metadata": {},
   "outputs": [],
   "source": [
    "from sklearn.datasets import load_iris\n",
    "from sklearn.feature_selection import SelectKBest\n",
    "from sklearn.feature_selection import chi2\n",
    "from sklearn.decomposition import PCA\n",
    "\n",
    "\n",
    "\n",
    "X =dataIFeatures\n",
    "X = X.astype(int)\n",
    "y =  DataITarget[\"Sub_Cat\"]\n",
    "\n",
    "  \n",
    "# Two features with highest chi-squared statistics are selected\n",
    "chi2_features = SelectKBest(chi2, k = 30)\n",
    "GF = chi2_features.fit_transform(X, y)"
   ]
  },
  {
   "cell_type": "code",
   "execution_count": 23,
   "metadata": {},
   "outputs": [],
   "source": [
    "from sklearn.datasets import load_iris\n",
    "from sklearn.feature_selection import SelectKBest\n",
    "from sklearn.feature_selection import chi2\n",
    "from sklearn.decomposition import PCA\n",
    "\n",
    "\n",
    "\n",
    "X =dataFFeatures\n",
    "X = X.astype(int)\n",
    "y =  DataFTarget[\"Sub_Cat\"]\n",
    "\n",
    "  \n",
    "# Two features with highest chi-squared statistics are selected\n",
    "chi2_features = SelectKBest(chi2, k = 30)\n",
    "GF1 = chi2_features.fit_transform(X, y)"
   ]
  },
  {
   "cell_type": "code",
   "execution_count": 24,
   "metadata": {},
   "outputs": [],
   "source": [
    "dI=pd.DataFrame(GF)\n",
    "dF=pd.DataFrame(GF1)"
   ]
  },
  {
   "cell_type": "code",
   "execution_count": 25,
   "metadata": {},
   "outputs": [],
   "source": [
    "ComFeat=dF.append(dI,ignore_index = True) \n",
    "ComT=DataFTarget[\"Sub_Cat\"].append(DataITarget[\"Sub_Cat\"],ignore_index = True)"
   ]
  },
  {
   "cell_type": "code",
   "execution_count": 26,
   "metadata": {},
   "outputs": [
    {
     "data": {
      "text/plain": [
       "Counter({'Normal': 170,\n",
       "         'Backdoor': 170,\n",
       "         'Analysis': 170,\n",
       "         'Fuzzers': 170,\n",
       "         'Shellcode': 170,\n",
       "         'Reconnaissance': 170,\n",
       "         'Exploits': 170,\n",
       "         'DoS': 170,\n",
       "         'Worms': 170,\n",
       "         'Generic': 170,\n",
       "         'Mirai-Ackflooding': 170,\n",
       "         'DoS-Synflooding': 170,\n",
       "         'Scan Port OS': 170,\n",
       "         'Mirai-Hostbruteforceg': 170,\n",
       "         'Mirai-UDP Flooding': 170,\n",
       "         'Mirai-HTTP Flooding': 170,\n",
       "         'Scan Hostport': 170,\n",
       "         'MITM ARP Spoofing': 170,\n",
       "         'Normal_I': 170})"
      ]
     },
     "execution_count": 26,
     "metadata": {},
     "output_type": "execute_result"
    }
   ],
   "source": [
    "Counter(ComT)"
   ]
  },
  {
   "cell_type": "raw",
   "metadata": {},
   "source": [
    "\n",
    "# Replace column value\n",
    "ComT=ComT.replace(['Anomaly','Normal'],[3,4])\n",
    "print(ComT)\n"
   ]
  },
  {
   "cell_type": "code",
   "execution_count": 27,
   "metadata": {},
   "outputs": [],
   "source": [
    "feat=np.array(ComFeat)"
   ]
  },
  {
   "cell_type": "code",
   "execution_count": 29,
   "metadata": {},
   "outputs": [],
   "source": [
    "X_train, X_test, y_train, y_test = train_test_split(feat, ComT, test_size=0.15, random_state=1, stratify=ComT, shuffle=True)"
   ]
  },
  {
   "cell_type": "code",
   "execution_count": 30,
   "metadata": {},
   "outputs": [
    {
     "name": "stdout",
     "output_type": "stream",
     "text": [
      "0.7896907216494845\n",
      "                       precision    recall  f1-score   support\n",
      "\n",
      "             Analysis       0.65      0.50      0.57        26\n",
      "             Backdoor       0.74      0.77      0.75        26\n",
      "                  DoS       0.75      0.84      0.79        25\n",
      "      DoS-Synflooding       1.00      1.00      1.00        25\n",
      "             Exploits       0.88      0.84      0.86        25\n",
      "              Fuzzers       1.00      0.96      0.98        26\n",
      "              Generic       1.00      1.00      1.00        25\n",
      "    MITM ARP Spoofing       0.89      0.96      0.92        25\n",
      "    Mirai-Ackflooding       0.25      0.23      0.24        26\n",
      "  Mirai-HTTP Flooding       0.33      0.42      0.37        26\n",
      "Mirai-Hostbruteforceg       0.96      0.88      0.92        25\n",
      "   Mirai-UDP Flooding       0.90      0.69      0.78        26\n",
      "               Normal       0.96      1.00      0.98        26\n",
      "             Normal_I       0.87      1.00      0.93        26\n",
      "       Reconnaissance       0.88      0.92      0.90        25\n",
      "        Scan Hostport       0.58      0.60      0.59        25\n",
      "         Scan Port OS       0.62      0.52      0.57        25\n",
      "            Shellcode       0.92      0.92      0.92        26\n",
      "                Worms       0.89      0.96      0.93        26\n",
      "\n",
      "             accuracy                           0.79       485\n",
      "            macro avg       0.79      0.79      0.79       485\n",
      "         weighted avg       0.79      0.79      0.79       485\n",
      "\n",
      "[[13  7  4  0  1  0  0  0  0  0  0  0  0  0  1  0  0  0  0]\n",
      " [ 5 20  0  0  0  0  0  0  0  0  0  0  1  0  0  0  0  0  0]\n",
      " [ 2  0 21  0  0  0  0  0  0  0  0  0  0  0  2  0  0  0  0]\n",
      " [ 0  0  0 25  0  0  0  0  0  0  0  0  0  0  0  0  0  0  0]\n",
      " [ 0  0  3  0 21  0  0  0  0  0  0  0  0  0  0  0  0  0  1]\n",
      " [ 0  0  0  0  1 25  0  0  0  0  0  0  0  0  0  0  0  0  0]\n",
      " [ 0  0  0  0  0  0 25  0  0  0  0  0  0  0  0  0  0  0  0]\n",
      " [ 0  0  0  0  0  0  0 24  0  0  0  0  0  1  0  0  0  0  0]\n",
      " [ 0  0  0  0  0  0  0  1  6 17  0  2  0  0  0  0  0  0  0]\n",
      " [ 0  0  0  0  0  0  0  0 15 11  0  0  0  0  0  0  0  0  0]\n",
      " [ 0  0  0  0  0  0  0  2  0  0 22  0  0  1  0  0  0  0  0]\n",
      " [ 0  0  0  0  0  0  0  0  3  5  0 18  0  0  0  0  0  0  0]\n",
      " [ 0  0  0  0  0  0  0  0  0  0  0  0 26  0  0  0  0  0  0]\n",
      " [ 0  0  0  0  0  0  0  0  0  0  0  0  0 26  0  0  0  0  0]\n",
      " [ 0  0  0  0  1  0  0  0  0  0  0  0  0  0 23  0  0  1  0]\n",
      " [ 0  0  0  0  0  0  0  0  0  0  1  0  0  1  0 15  8  0  0]\n",
      " [ 0  0  0  0  0  0  0  0  0  0  0  0  0  1  0 11 13  0  0]\n",
      " [ 0  0  0  0  0  0  0  0  0  0  0  0  0  0  0  0  0 24  2]\n",
      " [ 0  0  0  0  0  0  0  0  0  0  0  0  0  0  0  0  0  1 25]]\n"
     ]
    }
   ],
   "source": [
    "from sklearn.ensemble import GradientBoostingClassifier\n",
    "from sklearn.ensemble import RandomForestClassifier\n",
    "from sklearn.ensemble import ExtraTreesClassifier\n",
    "a =  RandomForestClassifier(n_estimators=200, random_state=2,max_depth=150) \n",
    "a_pred = a.fit(X_train, y_train)\n",
    "pred=a_pred.predict(X_test)\n",
    "print(accuracy_score(y_test,pred))\n",
    "print(classification_report(y_test,pred))\n",
    "print(confusion_matrix(y_test,pred))\n"
   ]
  },
  {
   "cell_type": "code",
   "execution_count": 31,
   "metadata": {},
   "outputs": [
    {
     "name": "stdout",
     "output_type": "stream",
     "text": [
      "0.7752577319587629\n",
      "                       precision    recall  f1-score   support\n",
      "\n",
      "             Analysis       0.57      0.46      0.51        26\n",
      "             Backdoor       0.70      0.73      0.72        26\n",
      "                  DoS       0.74      0.80      0.77        25\n",
      "      DoS-Synflooding       1.00      1.00      1.00        25\n",
      "             Exploits       0.81      0.84      0.82        25\n",
      "              Fuzzers       0.96      0.96      0.96        26\n",
      "              Generic       1.00      1.00      1.00        25\n",
      "    MITM ARP Spoofing       0.85      0.92      0.88        25\n",
      "    Mirai-Ackflooding       0.38      0.35      0.36        26\n",
      "  Mirai-HTTP Flooding       0.39      0.50      0.44        26\n",
      "Mirai-Hostbruteforceg       0.82      0.72      0.77        25\n",
      "   Mirai-UDP Flooding       0.95      0.69      0.80        26\n",
      "               Normal       0.96      1.00      0.98        26\n",
      "             Normal_I       0.83      0.96      0.89        26\n",
      "       Reconnaissance       0.88      0.84      0.86        25\n",
      "        Scan Hostport       0.52      0.56      0.54        25\n",
      "         Scan Port OS       0.55      0.48      0.51        25\n",
      "            Shellcode       1.00      0.92      0.96        26\n",
      "                Worms       0.90      1.00      0.95        26\n",
      "\n",
      "             accuracy                           0.78       485\n",
      "            macro avg       0.78      0.78      0.77       485\n",
      "         weighted avg       0.78      0.78      0.77       485\n",
      "\n",
      "[[12  8  4  0  1  0  0  0  0  0  0  0  0  0  1  0  0  0  0]\n",
      " [ 6 19  0  0  0  0  0  0  0  0  0  0  1  0  0  0  0  0  0]\n",
      " [ 2  0 20  0  1  0  0  0  0  0  0  0  0  0  2  0  0  0  0]\n",
      " [ 0  0  0 25  0  0  0  0  0  0  0  0  0  0  0  0  0  0  0]\n",
      " [ 0  0  3  0 21  0  0  0  0  0  0  0  0  0  0  0  0  0  1]\n",
      " [ 0  0  0  0  1 25  0  0  0  0  0  0  0  0  0  0  0  0  0]\n",
      " [ 0  0  0  0  0  0 25  0  0  0  0  0  0  0  0  0  0  0  0]\n",
      " [ 0  0  0  0  0  0  0 23  0  0  1  0  0  0  0  1  0  0  0]\n",
      " [ 0  0  0  0  0  0  0  1  9 14  1  1  0  0  0  0  0  0  0]\n",
      " [ 0  0  0  0  0  0  0  0 13 13  0  0  0  0  0  0  0  0  0]\n",
      " [ 0  0  0  0  0  0  0  3  0  0 18  0  0  1  0  3  0  0  0]\n",
      " [ 0  0  0  0  0  0  0  0  2  6  0 18  0  0  0  0  0  0  0]\n",
      " [ 0  0  0  0  0  0  0  0  0  0  0  0 26  0  0  0  0  0  0]\n",
      " [ 0  0  0  0  0  0  0  0  0  0  0  0  0 25  0  0  1  0  0]\n",
      " [ 1  0  0  0  2  1  0  0  0  0  0  0  0  0 21  0  0  0  0]\n",
      " [ 0  0  0  0  0  0  0  0  0  0  1  0  0  1  0 14  9  0  0]\n",
      " [ 0  0  0  0  0  0  0  0  0  0  1  0  0  3  0  9 12  0  0]\n",
      " [ 0  0  0  0  0  0  0  0  0  0  0  0  0  0  0  0  0 24  2]\n",
      " [ 0  0  0  0  0  0  0  0  0  0  0  0  0  0  0  0  0  0 26]]\n"
     ]
    }
   ],
   "source": [
    "from sklearn.ensemble import GradientBoostingClassifier\n",
    "from sklearn.ensemble import RandomForestClassifier\n",
    "from sklearn.ensemble import ExtraTreesClassifier\n",
    "a =  ExtraTreesClassifier(n_estimators=200, random_state=2,max_depth=150) \n",
    "a_pred = a.fit(X_train, y_train)\n",
    "pred=a_pred.predict(X_test)\n",
    "print(accuracy_score(y_test,pred))\n",
    "print(classification_report(y_test,pred))\n",
    "print(confusion_matrix(y_test,pred))"
   ]
  },
  {
   "cell_type": "code",
   "execution_count": 32,
   "metadata": {},
   "outputs": [
    {
     "name": "stdout",
     "output_type": "stream",
     "text": [
      "0.6474226804123712\n",
      "                       precision    recall  f1-score   support\n",
      "\n",
      "             Analysis       0.43      0.38      0.41        26\n",
      "             Backdoor       0.77      0.92      0.84        26\n",
      "                  DoS       0.52      0.92      0.67        25\n",
      "      DoS-Synflooding       1.00      0.96      0.98        25\n",
      "             Exploits       0.73      0.44      0.55        25\n",
      "              Fuzzers       0.70      0.73      0.72        26\n",
      "              Generic       0.83      1.00      0.91        25\n",
      "    MITM ARP Spoofing       0.56      0.60      0.58        25\n",
      "    Mirai-Ackflooding       0.30      0.31      0.30        26\n",
      "  Mirai-HTTP Flooding       0.32      0.35      0.33        26\n",
      "Mirai-Hostbruteforceg       0.42      0.56      0.48        25\n",
      "   Mirai-UDP Flooding       0.86      0.73      0.79        26\n",
      "               Normal       1.00      0.96      0.98        26\n",
      "             Normal_I       0.91      0.77      0.83        26\n",
      "       Reconnaissance       0.81      0.52      0.63        25\n",
      "        Scan Hostport       0.42      0.40      0.41        25\n",
      "         Scan Port OS       0.41      0.36      0.38        25\n",
      "            Shellcode       0.84      0.62      0.71        26\n",
      "                Worms       0.77      0.77      0.77        26\n",
      "\n",
      "             accuracy                           0.65       485\n",
      "            macro avg       0.66      0.65      0.65       485\n",
      "         weighted avg       0.66      0.65      0.65       485\n",
      "\n",
      "[[10  7  4  0  3  0  0  0  0  0  0  0  0  0  1  0  0  0  1]\n",
      " [ 2 24  0  0  0  0  0  0  0  0  0  0  0  0  0  0  0  0  0]\n",
      " [ 1  0 23  0  0  0  0  0  0  0  0  0  0  0  0  0  0  1  0]\n",
      " [ 0  0  0 24  0  0  0  0  0  1  0  0  0  0  0  0  0  0  0]\n",
      " [ 4  0  5  0 11  1  2  0  0  0  0  0  0  0  1  0  0  0  1]\n",
      " [ 5  0  0  0  1 19  0  0  0  0  0  0  0  0  0  0  0  0  1]\n",
      " [ 0  0  0  0  0  0 25  0  0  0  0  0  0  0  0  0  0  0  0]\n",
      " [ 0  0  0  0  0  0  0 15  5  0  3  0  0  0  0  2  0  0  0]\n",
      " [ 0  0  0  0  0  0  0  2  8 14  0  2  0  0  0  0  0  0  0]\n",
      " [ 0  0  0  0  0  0  0  3 12  9  1  0  0  1  0  0  0  0  0]\n",
      " [ 0  0  0  0  0  0  0  2  0  0 14  0  0  0  0  5  4  0  0]\n",
      " [ 0  0  0  0  0  0  0  1  2  4  0 19  0  0  0  0  0  0  0]\n",
      " [ 0  0  0  0  0  1  0  0  0  0  0  0 25  0  0  0  0  0  0]\n",
      " [ 0  0  0  0  0  0  0  0  0  0  1  0  0 20  0  2  3  0  0]\n",
      " [ 1  0  6  0  0  4  0  0  0  0  0  0  0  0 13  0  0  1  0]\n",
      " [ 0  0  0  0  0  0  0  1  0  0  7  0  0  1  0 10  6  0  0]\n",
      " [ 0  0  0  0  0  0  0  3  0  0  7  1  0  0  0  5  9  0  0]\n",
      " [ 0  0  6  0  0  0  0  0  0  0  0  0  0  0  1  0  0 16  3]\n",
      " [ 0  0  0  0  0  2  3  0  0  0  0  0  0  0  0  0  0  1 20]]\n"
     ]
    },
    {
     "name": "stderr",
     "output_type": "stream",
     "text": [
      "C:\\Users\\Sohail_Comp\\anaconda3\\lib\\site-packages\\sklearn\\linear_model\\_sag.py:352: ConvergenceWarning: The max_iter was reached which means the coef_ did not converge\n",
      "  warnings.warn(\n"
     ]
    }
   ],
   "source": [
    "from sklearn.linear_model import LogisticRegression\n",
    "a=LogisticRegression(random_state=1000, solver='sag',multi_class='multinomial',C=2.0)\n",
    "a_pred = a.fit(X_train, y_train)\n",
    "pred=a_pred.predict(X_test)\n",
    "print(accuracy_score(y_test,pred))\n",
    "print(classification_report(y_test,pred))\n",
    "print(confusion_matrix(y_test,pred))"
   ]
  },
  {
   "cell_type": "code",
   "execution_count": 33,
   "metadata": {},
   "outputs": [
    {
     "name": "stdout",
     "output_type": "stream",
     "text": [
      "0.7587628865979381\n",
      "                       precision    recall  f1-score   support\n",
      "\n",
      "             Analysis       0.52      0.42      0.47        26\n",
      "             Backdoor       0.68      0.73      0.70        26\n",
      "                  DoS       0.64      0.84      0.72        25\n",
      "      DoS-Synflooding       1.00      0.96      0.98        25\n",
      "             Exploits       0.74      0.68      0.71        25\n",
      "              Fuzzers       0.89      0.92      0.91        26\n",
      "              Generic       0.96      1.00      0.98        25\n",
      "    MITM ARP Spoofing       0.89      0.96      0.92        25\n",
      "    Mirai-Ackflooding       0.39      0.42      0.41        26\n",
      "  Mirai-HTTP Flooding       0.43      0.46      0.44        26\n",
      "Mirai-Hostbruteforceg       0.83      0.80      0.82        25\n",
      "   Mirai-UDP Flooding       0.82      0.69      0.75        26\n",
      "               Normal       0.96      0.92      0.94        26\n",
      "             Normal_I       0.92      0.92      0.92        26\n",
      "       Reconnaissance       0.76      0.76      0.76        25\n",
      "        Scan Hostport       0.64      0.72      0.68        25\n",
      "         Scan Port OS       0.73      0.64      0.68        25\n",
      "            Shellcode       0.88      0.85      0.86        26\n",
      "                Worms       0.83      0.73      0.78        26\n",
      "\n",
      "             accuracy                           0.76       485\n",
      "            macro avg       0.76      0.76      0.76       485\n",
      "         weighted avg       0.76      0.76      0.76       485\n",
      "\n",
      "[[11  8  3  0  3  0  0  0  0  0  0  0  0  0  1  0  0  0  0]\n",
      " [ 6 19  0  0  1  0  0  0  0  0  0  0  0  0  0  0  0  0  0]\n",
      " [ 1  0 21  0  1  0  0  0  0  0  0  0  0  0  2  0  0  0  0]\n",
      " [ 0  0  0 24  0  0  0  0  0  1  0  0  0  0  0  0  0  0  0]\n",
      " [ 2  0  4  0 17  0  0  0  0  0  0  0  0  0  2  0  0  0  0]\n",
      " [ 1  0  0  0  0 24  0  0  0  0  0  0  0  0  1  0  0  0  0]\n",
      " [ 0  0  0  0  0  0 25  0  0  0  0  0  0  0  0  0  0  0  0]\n",
      " [ 0  0  0  0  0  0  0 24  1  0  0  0  0  0  0  0  0  0  0]\n",
      " [ 0  0  0  0  0  0  0  0 11 12  0  3  0  0  0  0  0  0  0]\n",
      " [ 0  0  0  0  0  0  0  1 11 12  0  1  0  1  0  0  0  0  0]\n",
      " [ 0  0  0  0  0  0  0  2  0  0 20  0  0  1  0  2  0  0  0]\n",
      " [ 0  0  0  0  0  0  0  0  5  3  0 18  0  0  0  0  0  0  0]\n",
      " [ 0  1  0  0  0  0  0  0  0  0  0  0 24  0  0  0  0  0  1]\n",
      " [ 0  0  0  0  0  0  0  0  0  0  1  0  0 24  0  0  1  0  0]\n",
      " [ 0  0  4  0  1  1  0  0  0  0  0  0  0  0 19  0  0  0  0]\n",
      " [ 0  0  0  0  0  0  0  0  0  0  2  0  0  0  0 18  5  0  0]\n",
      " [ 0  0  0  0  0  0  0  0  0  0  1  0  0  0  0  8 16  0  0]\n",
      " [ 0  0  1  0  0  0  0  0  0  0  0  0  0  0  0  0  0 22  3]\n",
      " [ 0  0  0  0  0  2  1  0  0  0  0  0  1  0  0  0  0  3 19]]\n"
     ]
    }
   ],
   "source": [
    "from sklearn.neighbors import KNeighborsClassifier\n",
    "a = KNeighborsClassifier(n_neighbors=5)\n",
    "a_pred = a.fit(X_train, y_train)\n",
    "pred=a_pred.predict(X_test)\n",
    "print(accuracy_score(y_test,pred))\n",
    "print(classification_report(y_test,pred))\n",
    "print(confusion_matrix(y_test,pred))"
   ]
  },
  {
   "cell_type": "code",
   "execution_count": 34,
   "metadata": {},
   "outputs": [
    {
     "name": "stdout",
     "output_type": "stream",
     "text": [
      "0.7443298969072165\n",
      "                       precision    recall  f1-score   support\n",
      "\n",
      "             Analysis       0.52      0.46      0.49        26\n",
      "             Backdoor       0.74      0.96      0.83        26\n",
      "                  DoS       0.79      0.88      0.83        25\n",
      "      DoS-Synflooding       1.00      0.96      0.98        25\n",
      "             Exploits       0.85      0.68      0.76        25\n",
      "              Fuzzers       1.00      0.85      0.92        26\n",
      "              Generic       0.89      1.00      0.94        25\n",
      "    MITM ARP Spoofing       0.74      0.80      0.77        25\n",
      "    Mirai-Ackflooding       0.47      0.77      0.58        26\n",
      "  Mirai-HTTP Flooding       0.45      0.35      0.39        26\n",
      "Mirai-Hostbruteforceg       0.47      0.60      0.53        25\n",
      "   Mirai-UDP Flooding       1.00      0.65      0.79        26\n",
      "               Normal       1.00      1.00      1.00        26\n",
      "             Normal_I       1.00      0.92      0.96        26\n",
      "       Reconnaissance       0.92      0.88      0.90        25\n",
      "        Scan Hostport       0.43      0.52      0.47        25\n",
      "         Scan Port OS       0.67      0.32      0.43        25\n",
      "            Shellcode       0.86      0.69      0.77        26\n",
      "                Worms       0.73      0.85      0.79        26\n",
      "\n",
      "             accuracy                           0.74       485\n",
      "            macro avg       0.76      0.74      0.74       485\n",
      "         weighted avg       0.76      0.74      0.74       485\n",
      "\n",
      "[[12  7  4  0  3  0  0  0  0  0  0  0  0  0  0  0  0  0  0]\n",
      " [ 1 25  0  0  0  0  0  0  0  0  0  0  0  0  0  0  0  0  0]\n",
      " [ 2  0 22  0  0  0  0  0  0  0  0  0  0  0  0  0  0  1  0]\n",
      " [ 0  0  0 24  0  0  0  1  0  0  0  0  0  0  0  0  0  0  0]\n",
      " [ 6  0  0  0 17  0  0  0  0  0  0  0  0  0  0  0  0  0  2]\n",
      " [ 1  2  0  0  0 22  0  0  0  0  0  0  0  0  0  0  0  0  1]\n",
      " [ 0  0  0  0  0  0 25  0  0  0  0  0  0  0  0  0  0  0  0]\n",
      " [ 0  0  0  0  0  0  0 20  2  0  2  0  0  0  0  1  0  0  0]\n",
      " [ 0  0  0  0  0  0  0  1 20  5  0  0  0  0  0  0  0  0  0]\n",
      " [ 0  0  0  0  0  0  0  0 17  9  0  0  0  0  0  0  0  0  0]\n",
      " [ 0  0  0  0  0  0  0  3  0  1 15  0  0  0  0  6  0  0  0]\n",
      " [ 0  0  0  0  0  0  0  0  4  5  0 17  0  0  0  0  0  0  0]\n",
      " [ 0  0  0  0  0  0  0  0  0  0  0  0 26  0  0  0  0  0  0]\n",
      " [ 0  0  0  0  0  0  0  0  0  0  1  0  0 24  0  1  0  0  0]\n",
      " [ 0  0  0  0  0  0  0  0  0  0  0  0  0  0 22  0  0  1  2]\n",
      " [ 0  0  0  0  0  0  0  1  0  0  7  0  0  0  0 13  4  0  0]\n",
      " [ 0  0  0  0  0  0  0  1  0  0  7  0  0  0  0  9  8  0  0]\n",
      " [ 1  0  2  0  0  0  0  0  0  0  0  0  0  0  2  0  0 18  3]\n",
      " [ 0  0  0  0  0  0  3  0  0  0  0  0  0  0  0  0  0  1 22]]\n"
     ]
    }
   ],
   "source": [
    "from sklearn.svm import SVC\n",
    "a=SVC(kernel='linear', C=2.0)\n",
    "a_pred = a.fit(X_train, y_train)\n",
    "pred=a_pred.predict(X_test)\n",
    "print(accuracy_score(y_test,pred))\n",
    "print(classification_report(y_test,pred))\n",
    "print(confusion_matrix(y_test,pred))"
   ]
  },
  {
   "cell_type": "code",
   "execution_count": null,
   "metadata": {},
   "outputs": [],
   "source": []
  },
  {
   "cell_type": "code",
   "execution_count": null,
   "metadata": {},
   "outputs": [],
   "source": []
  },
  {
   "cell_type": "code",
   "execution_count": null,
   "metadata": {},
   "outputs": [],
   "source": []
  },
  {
   "cell_type": "code",
   "execution_count": 35,
   "metadata": {},
   "outputs": [],
   "source": [
    "X_train, X_test, y_train, y_test = train_test_split(GF, DataITarget[\"Sub_Cat\"], test_size=0.15, random_state=1, stratify=DataITarget[\"Sub_Cat\"], shuffle=True)"
   ]
  },
  {
   "cell_type": "code",
   "execution_count": 36,
   "metadata": {},
   "outputs": [
    {
     "name": "stdout",
     "output_type": "stream",
     "text": [
      "0.7608695652173914\n",
      "                       precision    recall  f1-score   support\n",
      "\n",
      "      DoS-Synflooding       1.00      1.00      1.00        26\n",
      "    MITM ARP Spoofing       0.93      0.96      0.94        26\n",
      "    Mirai-Ackflooding       0.31      0.36      0.33        25\n",
      "  Mirai-HTTP Flooding       0.37      0.38      0.38        26\n",
      "Mirai-Hostbruteforceg       0.96      0.88      0.92        26\n",
      "   Mirai-UDP Flooding       0.89      0.65      0.76        26\n",
      "             Normal_I       0.92      0.96      0.94        25\n",
      "        Scan Hostport       0.81      0.84      0.82        25\n",
      "         Scan Port OS       0.77      0.80      0.78        25\n",
      "\n",
      "             accuracy                           0.76       230\n",
      "            macro avg       0.77      0.76      0.76       230\n",
      "         weighted avg       0.77      0.76      0.77       230\n",
      "\n",
      "[[26  0  0  0  0  0  0  0  0]\n",
      " [ 0 25  0  0  0  0  1  0  0]\n",
      " [ 0  1  9 14  0  1  0  0  0]\n",
      " [ 0  1 14 10  0  1  0  0  0]\n",
      " [ 0  0  0  0 23  0  1  0  2]\n",
      " [ 0  0  6  3  0 17  0  0  0]\n",
      " [ 0  0  0  0  1  0 24  0  0]\n",
      " [ 0  0  0  0  0  0  0 21  4]\n",
      " [ 0  0  0  0  0  0  0  5 20]]\n"
     ]
    }
   ],
   "source": [
    "from sklearn.ensemble import GradientBoostingClassifier\n",
    "from sklearn.ensemble import RandomForestClassifier\n",
    "from sklearn.ensemble import ExtraTreesClassifier\n",
    "a =  RandomForestClassifier(n_estimators=200, random_state=2,max_depth=150) \n",
    "a_pred = a.fit(X_train, y_train)\n",
    "pred=a_pred.predict(X_test)\n",
    "print(accuracy_score(y_test,pred))\n",
    "print(classification_report(y_test,pred))\n",
    "print(confusion_matrix(y_test,pred))\n"
   ]
  },
  {
   "cell_type": "code",
   "execution_count": 37,
   "metadata": {},
   "outputs": [
    {
     "name": "stdout",
     "output_type": "stream",
     "text": [
      "0.7347826086956522\n",
      "                       precision    recall  f1-score   support\n",
      "\n",
      "      DoS-Synflooding       1.00      1.00      1.00        26\n",
      "    MITM ARP Spoofing       0.90      1.00      0.95        26\n",
      "    Mirai-Ackflooding       0.37      0.44      0.40        25\n",
      "  Mirai-HTTP Flooding       0.42      0.38      0.40        26\n",
      "Mirai-Hostbruteforceg       0.92      0.92      0.92        26\n",
      "   Mirai-UDP Flooding       0.89      0.65      0.76        26\n",
      "             Normal_I       0.96      0.96      0.96        25\n",
      "        Scan Hostport       0.57      0.80      0.67        25\n",
      "         Scan Port OS       0.69      0.44      0.54        25\n",
      "\n",
      "             accuracy                           0.73       230\n",
      "            macro avg       0.75      0.73      0.73       230\n",
      "         weighted avg       0.75      0.73      0.73       230\n",
      "\n",
      "[[26  0  0  0  0  0  0  0  0]\n",
      " [ 0 26  0  0  0  0  0  0  0]\n",
      " [ 0  2 11 10  1  1  0  0  0]\n",
      " [ 0  1 14 10  0  1  0  0  0]\n",
      " [ 0  0  0  0 24  0  1  1  0]\n",
      " [ 0  0  5  4  0 17  0  0  0]\n",
      " [ 0  0  0  0  1  0 24  0  0]\n",
      " [ 0  0  0  0  0  0  0 20  5]\n",
      " [ 0  0  0  0  0  0  0 14 11]]\n"
     ]
    }
   ],
   "source": [
    "from sklearn.ensemble import GradientBoostingClassifier\n",
    "from sklearn.ensemble import RandomForestClassifier\n",
    "from sklearn.ensemble import ExtraTreesClassifier\n",
    "a =  ExtraTreesClassifier(n_estimators=200, random_state=2,max_depth=150) \n",
    "a_pred = a.fit(X_train, y_train)\n",
    "pred=a_pred.predict(X_test)\n",
    "print(accuracy_score(y_test,pred))\n",
    "print(classification_report(y_test,pred))\n",
    "print(confusion_matrix(y_test,pred))"
   ]
  },
  {
   "cell_type": "code",
   "execution_count": 38,
   "metadata": {},
   "outputs": [
    {
     "name": "stdout",
     "output_type": "stream",
     "text": [
      "0.5608695652173913\n",
      "                       precision    recall  f1-score   support\n",
      "\n",
      "      DoS-Synflooding       1.00      1.00      1.00        26\n",
      "    MITM ARP Spoofing       0.44      0.58      0.50        26\n",
      "    Mirai-Ackflooding       0.33      0.24      0.28        25\n",
      "  Mirai-HTTP Flooding       0.40      0.46      0.43        26\n",
      "Mirai-Hostbruteforceg       0.45      0.50      0.47        26\n",
      "   Mirai-UDP Flooding       0.86      0.69      0.77        26\n",
      "             Normal_I       0.95      0.80      0.87        25\n",
      "        Scan Hostport       0.31      0.20      0.24        25\n",
      "         Scan Port OS       0.40      0.56      0.47        25\n",
      "\n",
      "             accuracy                           0.56       230\n",
      "            macro avg       0.57      0.56      0.56       230\n",
      "         weighted avg       0.57      0.56      0.56       230\n",
      "\n",
      "[[26  0  0  0  0  0  0  0  0]\n",
      " [ 0 15  1  0  6  0  0  2  2]\n",
      " [ 0  5  6 11  0  2  1  0  0]\n",
      " [ 0  2 10 12  1  1  0  0  0]\n",
      " [ 0  4  0  1 13  0  0  3  5]\n",
      " [ 0  1  1  6  0 18  0  0  0]\n",
      " [ 0  1  0  0  1  0 20  0  3]\n",
      " [ 0  3  0  0  6  0  0  5 11]\n",
      " [ 0  3  0  0  2  0  0  6 14]]\n"
     ]
    },
    {
     "name": "stderr",
     "output_type": "stream",
     "text": [
      "C:\\Users\\Sohail_Comp\\anaconda3\\lib\\site-packages\\sklearn\\linear_model\\_sag.py:352: ConvergenceWarning: The max_iter was reached which means the coef_ did not converge\n",
      "  warnings.warn(\n"
     ]
    }
   ],
   "source": [
    "from sklearn.linear_model import LogisticRegression\n",
    "a=LogisticRegression(random_state=1000, solver='sag',multi_class='multinomial',C=2.0)\n",
    "a_pred = a.fit(X_train, y_train)\n",
    "pred=a_pred.predict(X_test)\n",
    "print(accuracy_score(y_test,pred))\n",
    "print(classification_report(y_test,pred))\n",
    "print(confusion_matrix(y_test,pred))"
   ]
  },
  {
   "cell_type": "code",
   "execution_count": 39,
   "metadata": {},
   "outputs": [
    {
     "name": "stdout",
     "output_type": "stream",
     "text": [
      "0.7086956521739131\n",
      "                       precision    recall  f1-score   support\n",
      "\n",
      "      DoS-Synflooding       1.00      1.00      1.00        26\n",
      "    MITM ARP Spoofing       0.89      0.96      0.93        26\n",
      "    Mirai-Ackflooding       0.38      0.44      0.41        25\n",
      "  Mirai-HTTP Flooding       0.35      0.35      0.35        26\n",
      "Mirai-Hostbruteforceg       0.90      0.73      0.81        26\n",
      "   Mirai-UDP Flooding       0.85      0.65      0.74        26\n",
      "             Normal_I       0.88      0.92      0.90        25\n",
      "        Scan Hostport       0.59      0.76      0.67        25\n",
      "         Scan Port OS       0.64      0.56      0.60        25\n",
      "\n",
      "             accuracy                           0.71       230\n",
      "            macro avg       0.72      0.71      0.71       230\n",
      "         weighted avg       0.72      0.71      0.71       230\n",
      "\n",
      "[[26  0  0  0  0  0  0  0  0]\n",
      " [ 0 25  0  0  1  0  0  0  0]\n",
      " [ 0  1 11 11  0  2  0  0  0]\n",
      " [ 0  1 14  9  0  1  1  0  0]\n",
      " [ 0  1  0  1 19  0  2  2  1]\n",
      " [ 0  0  4  5  0 17  0  0  0]\n",
      " [ 0  0  0  0  1  0 23  0  1]\n",
      " [ 0  0  0  0  0  0  0 19  6]\n",
      " [ 0  0  0  0  0  0  0 11 14]]\n"
     ]
    }
   ],
   "source": [
    "from sklearn.neighbors import KNeighborsClassifier\n",
    "a = KNeighborsClassifier(n_neighbors=5)\n",
    "a_pred = a.fit(X_train, y_train)\n",
    "pred=a_pred.predict(X_test)\n",
    "print(accuracy_score(y_test,pred))\n",
    "print(classification_report(y_test,pred))\n",
    "print(confusion_matrix(y_test,pred))"
   ]
  },
  {
   "cell_type": "code",
   "execution_count": 40,
   "metadata": {},
   "outputs": [
    {
     "name": "stdout",
     "output_type": "stream",
     "text": [
      "0.6130434782608696\n",
      "                       precision    recall  f1-score   support\n",
      "\n",
      "      DoS-Synflooding       1.00      1.00      1.00        26\n",
      "    MITM ARP Spoofing       0.62      0.69      0.65        26\n",
      "    Mirai-Ackflooding       0.35      0.36      0.35        25\n",
      "  Mirai-HTTP Flooding       0.38      0.50      0.43        26\n",
      "Mirai-Hostbruteforceg       0.52      0.65      0.58        26\n",
      "   Mirai-UDP Flooding       1.00      0.65      0.79        26\n",
      "             Normal_I       0.96      0.96      0.96        25\n",
      "        Scan Hostport       0.38      0.32      0.35        25\n",
      "         Scan Port OS       0.47      0.36      0.41        25\n",
      "\n",
      "             accuracy                           0.61       230\n",
      "            macro avg       0.63      0.61      0.61       230\n",
      "         weighted avg       0.63      0.61      0.62       230\n",
      "\n",
      "[[26  0  0  0  0  0  0  0  0]\n",
      " [ 0 18  0  2  5  0  0  1  0]\n",
      " [ 0  4  9 12  0  0  0  0  0]\n",
      " [ 0  0 13 13  0  0  0  0  0]\n",
      " [ 0  4  1  2 17  0  1  1  0]\n",
      " [ 0  1  3  5  0 17  0  0  0]\n",
      " [ 0  1  0  0  0  0 24  0  0]\n",
      " [ 0  0  0  0  7  0  0  8 10]\n",
      " [ 0  1  0  0  4  0  0 11  9]]\n"
     ]
    }
   ],
   "source": [
    "from sklearn.svm import SVC\n",
    "a=SVC(kernel='linear', C=2.0)\n",
    "a_pred = a.fit(X_train, y_train)\n",
    "pred=a_pred.predict(X_test)\n",
    "print(accuracy_score(y_test,pred))\n",
    "print(classification_report(y_test,pred))\n",
    "print(confusion_matrix(y_test,pred))"
   ]
  },
  {
   "cell_type": "code",
   "execution_count": null,
   "metadata": {},
   "outputs": [],
   "source": []
  },
  {
   "cell_type": "code",
   "execution_count": null,
   "metadata": {},
   "outputs": [],
   "source": []
  },
  {
   "cell_type": "code",
   "execution_count": 28,
   "metadata": {},
   "outputs": [],
   "source": [
    "X_train, X_test, y_train, y_test = train_test_split(GF1, DataFTarget[\"Sub_Cat\"], test_size=0.15, random_state=1, stratify=DataFTarget[\"Sub_Cat\"], shuffle=True)"
   ]
  },
  {
   "cell_type": "code",
   "execution_count": 42,
   "metadata": {},
   "outputs": [
    {
     "name": "stdout",
     "output_type": "stream",
     "text": [
      "0.807843137254902\n",
      "                precision    recall  f1-score   support\n",
      "\n",
      "      Analysis       0.50      0.48      0.49        25\n",
      "      Backdoor       0.67      0.69      0.68        26\n",
      "           DoS       0.68      0.84      0.75        25\n",
      "      Exploits       0.90      0.73      0.81        26\n",
      "       Fuzzers       1.00      0.92      0.96        25\n",
      "       Generic       1.00      1.00      1.00        26\n",
      "        Normal       0.96      1.00      0.98        25\n",
      "Reconnaissance       0.81      0.65      0.72        26\n",
      "     Shellcode       0.80      0.77      0.78        26\n",
      "         Worms       0.81      1.00      0.89        25\n",
      "\n",
      "      accuracy                           0.81       255\n",
      "     macro avg       0.81      0.81      0.81       255\n",
      "  weighted avg       0.81      0.81      0.81       255\n",
      "\n",
      "[[12  9  3  0  0  0  0  1  0  0]\n",
      " [ 7 18  0  0  0  0  1  0  0  0]\n",
      " [ 2  0 21  0  0  0  0  2  0  0]\n",
      " [ 1  0  6 19  0  0  0  0  0  0]\n",
      " [ 1  0  0  0 23  0  0  0  0  1]\n",
      " [ 0  0  0  0  0 26  0  0  0  0]\n",
      " [ 0  0  0  0  0  0 25  0  0  0]\n",
      " [ 1  0  1  2  0  0  0 17  5  0]\n",
      " [ 0  0  0  0  0  0  0  1 20  5]\n",
      " [ 0  0  0  0  0  0  0  0  0 25]]\n"
     ]
    }
   ],
   "source": [
    "from sklearn.ensemble import GradientBoostingClassifier\n",
    "from sklearn.ensemble import RandomForestClassifier\n",
    "from sklearn.ensemble import ExtraTreesClassifier\n",
    "a =  RandomForestClassifier(n_estimators=200, random_state=2,max_depth=150) \n",
    "a_pred = a.fit(X_train, y_train)\n",
    "pred=a_pred.predict(X_test)\n",
    "print(accuracy_score(y_test,pred))\n",
    "print(classification_report(y_test,pred))\n",
    "print(confusion_matrix(y_test,pred))\n"
   ]
  },
  {
   "cell_type": "code",
   "execution_count": 43,
   "metadata": {},
   "outputs": [
    {
     "name": "stdout",
     "output_type": "stream",
     "text": [
      "0.796078431372549\n",
      "                precision    recall  f1-score   support\n",
      "\n",
      "      Analysis       0.43      0.36      0.39        25\n",
      "      Backdoor       0.60      0.69      0.64        26\n",
      "           DoS       0.70      0.84      0.76        25\n",
      "      Exploits       0.90      0.73      0.81        26\n",
      "       Fuzzers       0.96      0.88      0.92        25\n",
      "       Generic       1.00      1.00      1.00        26\n",
      "        Normal       0.96      1.00      0.98        25\n",
      "Reconnaissance       0.81      0.65      0.72        26\n",
      "     Shellcode       0.78      0.81      0.79        26\n",
      "         Worms       0.83      1.00      0.91        25\n",
      "\n",
      "      accuracy                           0.80       255\n",
      "     macro avg       0.80      0.80      0.79       255\n",
      "  weighted avg       0.80      0.80      0.79       255\n",
      "\n",
      "[[ 9 12  3  0  0  0  0  1  0  0]\n",
      " [ 7 18  0  0  0  0  1  0  0  0]\n",
      " [ 2  0 21  0  0  0  0  2  0  0]\n",
      " [ 1  0  5 19  1  0  0  0  0  0]\n",
      " [ 1  0  0  1 22  0  0  0  0  1]\n",
      " [ 0  0  0  0  0 26  0  0  0  0]\n",
      " [ 0  0  0  0  0  0 25  0  0  0]\n",
      " [ 1  0  1  1  0  0  0 17  6  0]\n",
      " [ 0  0  0  0  0  0  0  1 21  4]\n",
      " [ 0  0  0  0  0  0  0  0  0 25]]\n"
     ]
    }
   ],
   "source": [
    "from sklearn.ensemble import GradientBoostingClassifier\n",
    "from sklearn.ensemble import RandomForestClassifier\n",
    "from sklearn.ensemble import ExtraTreesClassifier\n",
    "a =  ExtraTreesClassifier(n_estimators=200, random_state=2,max_depth=150) \n",
    "a_pred = a.fit(X_train, y_train)\n",
    "pred=a_pred.predict(X_test)\n",
    "print(accuracy_score(y_test,pred))\n",
    "print(classification_report(y_test,pred))\n",
    "print(confusion_matrix(y_test,pred))"
   ]
  },
  {
   "cell_type": "code",
   "execution_count": 29,
   "metadata": {},
   "outputs": [
    {
     "name": "stdout",
     "output_type": "stream",
     "text": [
      "0.6784313725490196\n",
      "                precision    recall  f1-score   support\n",
      "\n",
      "      Analysis       0.41      0.36      0.38        25\n",
      "      Backdoor       0.72      0.88      0.79        26\n",
      "           DoS       0.56      0.92      0.70        25\n",
      "      Exploits       0.50      0.31      0.38        26\n",
      "       Fuzzers       0.67      0.56      0.61        25\n",
      "       Generic       0.96      1.00      0.98        26\n",
      "        Normal       0.96      0.96      0.96        25\n",
      "Reconnaissance       0.75      0.46      0.57        26\n",
      "     Shellcode       0.62      0.62      0.62        26\n",
      "         Worms       0.62      0.72      0.67        25\n",
      "\n",
      "      accuracy                           0.68       255\n",
      "     macro avg       0.68      0.68      0.67       255\n",
      "  weighted avg       0.68      0.68      0.67       255\n",
      "\n",
      "[[ 9  8  4  3  0  0  0  0  0  1]\n",
      " [ 3 23  0  0  0  0  0  0  0  0]\n",
      " [ 1  0 23  0  0  0  0  0  1  0]\n",
      " [ 5  0  9  8  1  1  0  0  1  1]\n",
      " [ 3  1  0  2 14  0  0  2  0  3]\n",
      " [ 0  0  0  0  0 26  0  0  0  0]\n",
      " [ 0  0  0  0  0  0 24  0  1  0]\n",
      " [ 1  0  4  2  3  0  0 12  4  0]\n",
      " [ 0  0  1  0  1  0  0  2 16  6]\n",
      " [ 0  0  0  1  2  0  1  0  3 18]]\n"
     ]
    },
    {
     "name": "stderr",
     "output_type": "stream",
     "text": [
      "C:\\Users\\Sohail_Comp\\anaconda3\\lib\\site-packages\\sklearn\\linear_model\\_sag.py:352: ConvergenceWarning: The max_iter was reached which means the coef_ did not converge\n",
      "  warnings.warn(\n"
     ]
    }
   ],
   "source": [
    "from sklearn.linear_model import LogisticRegression\n",
    "a=LogisticRegression(random_state=1000, solver='sag',multi_class='multinomial',C=2.0)\n",
    "a_pred = a.fit(X_train, y_train)\n",
    "pred=a_pred.predict(X_test)\n",
    "print(accuracy_score(y_test,pred))\n",
    "print(classification_report(y_test,pred))\n",
    "print(confusion_matrix(y_test,pred))"
   ]
  },
  {
   "cell_type": "code",
   "execution_count": 44,
   "metadata": {},
   "outputs": [
    {
     "name": "stdout",
     "output_type": "stream",
     "text": [
      "0.7607843137254902\n",
      "                precision    recall  f1-score   support\n",
      "\n",
      "      Analysis       0.59      0.52      0.55        25\n",
      "      Backdoor       0.71      0.77      0.74        26\n",
      "           DoS       0.58      0.84      0.69        25\n",
      "      Exploits       0.68      0.65      0.67        26\n",
      "       Fuzzers       0.88      0.88      0.88        25\n",
      "       Generic       1.00      1.00      1.00        26\n",
      "        Normal       0.96      0.96      0.96        25\n",
      "Reconnaissance       0.79      0.58      0.67        26\n",
      "     Shellcode       0.71      0.65      0.68        26\n",
      "         Worms       0.76      0.76      0.76        25\n",
      "\n",
      "      accuracy                           0.76       255\n",
      "     macro avg       0.77      0.76      0.76       255\n",
      "  weighted avg       0.77      0.76      0.76       255\n",
      "\n",
      "[[13  8  2  1  0  0  0  1  0  0]\n",
      " [ 5 20  0  1  0  0  0  0  0  0]\n",
      " [ 1  0 21  1  0  0  0  2  0  0]\n",
      " [ 0  0  9 17  0  0  0  0  0  0]\n",
      " [ 1  0  0  2 22  0  0  0  0  0]\n",
      " [ 0  0  0  0  0 26  0  0  0  0]\n",
      " [ 0  0  0  1  0  0 24  0  0  0]\n",
      " [ 1  0  3  2  1  0  0 15  4  0]\n",
      " [ 1  0  1  0  0  0  0  1 17  6]\n",
      " [ 0  0  0  0  2  0  1  0  3 19]]\n"
     ]
    }
   ],
   "source": [
    "from sklearn.neighbors import KNeighborsClassifier\n",
    "a = KNeighborsClassifier(n_neighbors=5)\n",
    "a_pred = a.fit(X_train, y_train)\n",
    "pred=a_pred.predict(X_test)\n",
    "print(accuracy_score(y_test,pred))\n",
    "print(classification_report(y_test,pred))\n",
    "print(confusion_matrix(y_test,pred))"
   ]
  },
  {
   "cell_type": "code",
   "execution_count": 45,
   "metadata": {},
   "outputs": [
    {
     "name": "stdout",
     "output_type": "stream",
     "text": [
      "0.7490196078431373\n",
      "                precision    recall  f1-score   support\n",
      "\n",
      "      Analysis       0.48      0.48      0.48        25\n",
      "      Backdoor       0.74      0.88      0.81        26\n",
      "           DoS       0.59      0.88      0.71        25\n",
      "      Exploits       0.65      0.42      0.51        26\n",
      "       Fuzzers       0.95      0.84      0.89        25\n",
      "       Generic       1.00      1.00      1.00        26\n",
      "        Normal       0.96      1.00      0.98        25\n",
      "Reconnaissance       0.80      0.62      0.70        26\n",
      "     Shellcode       0.67      0.54      0.60        26\n",
      "         Worms       0.70      0.84      0.76        25\n",
      "\n",
      "      accuracy                           0.75       255\n",
      "     macro avg       0.75      0.75      0.74       255\n",
      "  weighted avg       0.75      0.75      0.74       255\n",
      "\n",
      "[[12  8  3  1  0  0  0  1  0  0]\n",
      " [ 3 23  0  0  0  0  0  0  0  0]\n",
      " [ 2  0 22  0  0  0  0  0  1  0]\n",
      " [ 7  0  7 11  0  0  0  0  0  1]\n",
      " [ 0  0  0  1 21  0  0  0  0  3]\n",
      " [ 0  0  0  0  0 26  0  0  0  0]\n",
      " [ 0  0  0  0  0  0 25  0  0  0]\n",
      " [ 0  0  2  4  0  0  0 16  4  0]\n",
      " [ 1  0  3  0  0  0  0  3 14  5]\n",
      " [ 0  0  0  0  1  0  1  0  2 21]]\n"
     ]
    }
   ],
   "source": [
    "from sklearn.svm import SVC\n",
    "a=SVC(kernel='linear', C=2.0)\n",
    "a_pred = a.fit(X_train, y_train)\n",
    "pred=a_pred.predict(X_test)\n",
    "print(accuracy_score(y_test,pred))\n",
    "print(classification_report(y_test,pred))\n",
    "print(confusion_matrix(y_test,pred))"
   ]
  },
  {
   "cell_type": "code",
   "execution_count": null,
   "metadata": {},
   "outputs": [],
   "source": []
  },
  {
   "cell_type": "code",
   "execution_count": null,
   "metadata": {},
   "outputs": [],
   "source": []
  },
  {
   "cell_type": "code",
   "execution_count": null,
   "metadata": {},
   "outputs": [],
   "source": []
  },
  {
   "cell_type": "code",
   "execution_count": null,
   "metadata": {},
   "outputs": [],
   "source": []
  },
  {
   "cell_type": "code",
   "execution_count": null,
   "metadata": {},
   "outputs": [],
   "source": []
  },
  {
   "cell_type": "code",
   "execution_count": null,
   "metadata": {},
   "outputs": [],
   "source": []
  },
  {
   "cell_type": "code",
   "execution_count": null,
   "metadata": {},
   "outputs": [],
   "source": []
  },
  {
   "cell_type": "code",
   "execution_count": null,
   "metadata": {},
   "outputs": [],
   "source": []
  },
  {
   "cell_type": "code",
   "execution_count": null,
   "metadata": {},
   "outputs": [],
   "source": []
  }
 ],
 "metadata": {
  "accelerator": "GPU",
  "colab": {
   "collapsed_sections": [],
   "name": "Networks.ipynb",
   "provenance": []
  },
  "kernelspec": {
   "display_name": "Python 3 (ipykernel)",
   "language": "python",
   "name": "python3"
  },
  "language_info": {
   "codemirror_mode": {
    "name": "ipython",
    "version": 3
   },
   "file_extension": ".py",
   "mimetype": "text/x-python",
   "name": "python",
   "nbconvert_exporter": "python",
   "pygments_lexer": "ipython3",
   "version": "3.9.7"
  }
 },
 "nbformat": 4,
 "nbformat_minor": 1
}
